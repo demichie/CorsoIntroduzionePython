{
  "nbformat": 4,
  "nbformat_minor": 0,
  "metadata": {
    "colab": {
      "provenance": [],
      "authorship_tag": "ABX9TyMe5Hrhh8/zeN6+XZtFZJAg",
      "include_colab_link": true
    },
    "kernelspec": {
      "name": "python3",
      "display_name": "Python 3"
    },
    "language_info": {
      "name": "python"
    }
  },
  "cells": [
    {
      "cell_type": "markdown",
      "metadata": {
        "id": "view-in-github",
        "colab_type": "text"
      },
      "source": [
        "<a href=\"https://colab.research.google.com/github/demichie/CorsoIntroduzionePython/blob/main/lezione3.ipynb\" target=\"_parent\"><img src=\"https://colab.research.google.com/assets/colab-badge.svg\" alt=\"Open In Colab\"/></a>"
      ]
    },
    {
      "cell_type": "markdown",
      "source": [
        "# **Lezione 3: Dalla Logica Complessa al Calcolo Scientifico con NumPy**\n",
        "\n",
        "Nella scorsa lezione abbiamo introdotto i dizionari e abbiamo imparato a controllare il flusso dei nostri programmi con i cicli `for` e le condizioni `if/elif/else`.\n",
        "\n",
        "Oggi faremo un passo avanti, applicando queste conoscenze per risolvere problemi più complessi e, soprattutto, introdurremo **NumPy**, la libreria più importante per chiunque lavori con dati numerici in Python.\n",
        "\n",
        "### **Obiettivi della Lezione 3:**\n",
        "\n",
        "1.  **Conclusione dei Fondamenti di Python:**\n",
        "    *   Risolvere un problema di logica che richiede **cicli e condizioni annidate**.\n",
        "    *   Imparare a creare liste in modo elegante e compatto con le **List Comprehension**.\n",
        "    *   Capire come organizzare il codice in blocchi riutilizzabili definendo e chiamando **Funzioni**.\n",
        "\n",
        "2.  **Introduzione al Calcolo Scientifico con NumPy:**\n",
        "    *   Comprendere **perché NumPy è essenziale** per il calcolo scientifico e quali vantaggi offre rispetto alle liste standard di Python (performance, omogeneità, memoria).\n",
        "    *   Imparare a **creare array NumPy**, la struttura dati centrale della libreria, sia da liste Python che con funzioni integrate.\n",
        "    *   **Ispezionare le proprietà** di un array (dimensioni, forma, tipo di dato) tramite i suoi attributi.\n",
        "    *   Eseguire le prime **operazioni vettorizzate**, il vero cuore della potenza di NumPy."
      ],
      "metadata": {
        "id": "f29ge4X6cCUQ"
      }
    },
    {
      "cell_type": "markdown",
      "metadata": {
        "id": "LS34osqpj-TR"
      },
      "source": [
        "### **Esercizio Pratico: Combinare Cicli e Condizioni - I Numeri Primi**\n",
        "\n",
        "Questo esercizio è più impegnativo dei precedenti e ci richiederà di combinare tutto ciò che abbiamo visto finora: cicli `for` annidati, `range()` e condizioni `if`.\n",
        "\n",
        "**Obiettivo:** Scrivere uno script che trovi e stampi tutti i numeri primi compresi tra 2 e 100 (incluso).\n",
        "\n",
        "**Cos'è un numero primo?**\n",
        "Un numero primo è un numero intero maggiore di 1 che è divisibile solo per 1 e per se stesso.\n",
        "- Esempi: 2, 3, 5, 7, 11...\n",
        "- Non sono primi: 4 (divisibile per 2), 6 (divisibile per 2 e 3), 9 (divisibile per 3).\n",
        "\n",
        "**Logica da implementare:**\n",
        "Per ogni numero `n` nell'intervallo da 2 a 100, dobbiamo verificare se è primo. Come?\n",
        "1.  Iteriamo su `n` da 2 a 100 (ciclo esterno).\n",
        "2.  Per ogni `n`, assumiamo che sia primo fino a prova contraria.\n",
        "3.  Proviamo a dividere `n` per tutti i numeri `d` che vanno da 2 fino a `n-1` (ciclo interno).\n",
        "4.  Se troviamo anche un solo divisore `d` per cui il resto della divisione `n % d` è uguale a 0, allora `n` non è primo. Possiamo interrompere il ciclo interno e passare al prossimo numero `n`.\n",
        "5.  Se il ciclo interno termina senza aver trovato nessun divisore, allora `n` è veramente un numero primo e possiamo stamparlo.\n",
        "\n",
        "L'operatore **modulo** (`%`) è la chiave qui: `a % b` restituisce il resto della divisione tra `a` e `b`.\n"
      ]
    },
    {
      "cell_type": "code",
      "execution_count": null,
      "metadata": {
        "id": "30VesCAKj-TR"
      },
      "outputs": [],
      "source": [
        "# Definiamo l'intervallo in cui cercare i numeri primi\n",
        "limite_superiore = 100\n",
        "\n",
        "print(f\"--- Numeri Primi da 2 a {limite_superiore} ---\")\n",
        "\n",
        "# Creiamo una lista per conservare i numeri primi trovati, per una stampa finale più pulita\n",
        "numeri_primi_trovati = []\n",
        "\n",
        "# Ciclo esterno: itera su ogni numero 'n' che vogliamo testare, da 2 a 100.\n",
        "# Usiamo limite_superiore + 1 perché range() esclude il valore finale.\n",
        "for n in range(2, limite_superiore + 1):\n",
        "\n",
        "    # Ciclo interno: prova a dividere 'n' per ogni numero 'd' da 2 fino a n-1.\n",
        "    for d in range(2, n):\n",
        "\n",
        "        # Usiamo l'operatore modulo (%) per trovare il resto della divisione.\n",
        "        # Se il resto è 0, 'n' è divisibile per 'd' e quindi NON è primo.\n",
        "        if n % d == 0:\n",
        "            # Abbiamo trovato un divisore, quindi interrompiamo il ciclo interno.\n",
        "            # Non c'è bisogno di controllare altri divisori per questo 'n'.\n",
        "            break\n",
        "    else:\n",
        "        # Questa clausola 'else' appartiene al ciclo 'for' interno, non all''if'.\n",
        "        # Viene eseguita SOLO SE il ciclo 'for' termina \"naturalmente\",\n",
        "        # cioè senza essere stato interrotto da un 'break'.\n",
        "        # Questo significa che non abbiamo trovato nessun divisore, quindi 'n' è primo.\n",
        "        numeri_primi_trovati.append(n)\n",
        "\n",
        "# Stampiamo la lista completa dei numeri primi trovati\n",
        "print(numeri_primi_trovati)\n"
      ]
    },
    {
      "cell_type": "markdown",
      "metadata": {
        "id": "n4APVqeImY4k"
      },
      "source": [
        "### **2.6 Un Modo più Elegante per Creare Liste: Le *List Comprehension***\n",
        "\n",
        "Ora che abbiamo familiarità con la creazione di liste e l'uso dei cicli `for` per popolarle, vedremo un nuovo metodo per fare entrambe le cose contemporaneamente: la **list comprehension**.\n",
        "\n",
        "In Python, una lista è spesso formata da elementi provenienti da un'altra sequenza (come un'altra lista) su cui sono state svolte delle operazioni. Ad esempio, supponiamo di avere una lista di misure di profondità in metri e di volerne creare una nuova con i valori convertiti in piedi.\n",
        "\n",
        "La prima cosa che ci verrebbe in mente, con gli strumenti visti finora, è:\n",
        "1.  Creare una lista vuota.\n",
        "2.  Usare un ciclo `for` per scorrere la lista originale.\n",
        "3.  All'interno del ciclo, calcolare il nuovo valore e aggiungerlo alla nuova lista con `.append()`."
      ]
    },
    {
      "cell_type": "code",
      "execution_count": null,
      "metadata": {
        "execution_count": null,
        "id": "UABiakfYmVBF",
        "outputs": []
      },
      "outputs": [],
      "source": [
        "# Metodo \"classico\" per convertire unità di misura\n",
        "profondita_metri = [120.5, 250.2, 375.8, 510.0]\n",
        "profondita_piedi = [] # 1. Lista vuota\n",
        "\n",
        "COEFFICIENTE_CONVERSIONE = 3.28084\n",
        "\n",
        "# 2. Ciclo for\n",
        "for prof_m in profondita_metri:\n",
        "    # 3. Calcolo e append\n",
        "    prof_ft = prof_m * COEFFICIENTE_CONVERSIONE\n",
        "    profondita_piedi.append(prof_ft)\n",
        "\n",
        "print(profondita_piedi)"
      ]
    },
    {
      "cell_type": "markdown",
      "metadata": {
        "id": "kJ1AwB0BmScI"
      },
      "source": [
        "Funziona perfettamente, ma richiede tre righe di codice per un'operazione concettualmente molto semplice. Vediamo ora come possiamo ottenere lo stesso identico risultato, ma impiegando stavolta una list comprehension:"
      ]
    },
    {
      "cell_type": "code",
      "execution_count": null,
      "metadata": {
        "execution_count": null,
        "id": "F41VD7QRmQLn",
        "outputs": []
      },
      "outputs": [],
      "source": [
        "# Lo stesso risultato con una list comprehension\n",
        "profondita_metri = [120.5, 250.2, 375.8, 510.0]\n",
        "COEFFICIENTE_CONVERSIONE = 3.28084\n",
        "\n",
        "profondita_piedi_comp = [prof_m * COEFFICIENTE_CONVERSIONE for prof_m in profondita_metri]\n",
        "\n",
        "print(profondita_piedi_comp)"
      ]
    },
    {
      "cell_type": "markdown",
      "metadata": {
        "id": "BXDZCj2dmNrM"
      },
      "source": [
        "Da una parte abbiamo usato tre righe di codice, mentre qui, semplicemente **una**. Inoltre, la sintassi è quasi una traduzione diretta del linguaggio parlato: `[calcola il valore in piedi PER ogni profondità NELLA lista dei metri]`.\n",
        "\n",
        "La sintassi generale di una list comprehension è:\n",
        "`nuova_lista = [<espressione> for <elemento> in <lista_originale>]`\n",
        "\n",
        "All'interno delle parentesi quadre, che definiscono la nuova lista, mettiamo prima l'**espressione** che genera i nuovi elementi, e poi il **ciclo `for`** che ci dice su cosa iterare."
      ]
    },
    {
      "cell_type": "markdown",
      "metadata": {
        "id": "-cm1cypRmI9F"
      },
      "source": [
        "#### **List Comprehension con Condizioni**\n",
        "La potenza delle list comprehension non si ferma qui. Possiamo anche aggiungere una condizione `if` per filtrare gli elementi da includere nella nuova lista.\n",
        "\n",
        "Supponiamo di avere una lista di campioni di roccia e di voler creare una nuova lista contenente solo le rocce sedimentarie (es. \"Arenaria\", \"Calcare\").\n",
        "\n",
        "Con il metodo classico, faremmo così:"
      ]
    },
    {
      "cell_type": "code",
      "execution_count": null,
      "metadata": {
        "execution_count": null,
        "id": "GLIM7mJQmFiS",
        "outputs": []
      },
      "outputs": [],
      "source": [
        "# Metodo classico con condizione if\n",
        "campioni_carota = [\"Granito\", \"Arenaria\", \"Scisto\", \"Calcare\", \"Basalto\"]\n",
        "rocce_sedimentarie = []\n",
        "\n",
        "for roccia in campioni_carota:\n",
        "    if roccia == \"Arenaria\" or roccia == \"Calcare\":\n",
        "        rocce_sedimentarie.append(roccia)\n",
        "\n",
        "print(rocce_sedimentarie)"
      ]
    },
    {
      "cell_type": "markdown",
      "metadata": {
        "id": "rKVX8QcTmCNx"
      },
      "source": [
        "Ed ecco la versione con la list comprehension. La condizione `if` viene semplicemente aggiunta alla fine, prima della parentesi quadra di chiusura."
      ]
    },
    {
      "cell_type": "code",
      "execution_count": null,
      "metadata": {
        "execution_count": null,
        "id": "RsEfDcG6l87v",
        "outputs": []
      },
      "outputs": [],
      "source": [
        "# Lo stesso risultato con una list comprehension e una condizione if\n",
        "campioni_carota = [\"Granito\", \"Arenaria\", \"Scisto\", \"Calcare\", \"Basalto\"]\n",
        "\n",
        "rocce_sedimentarie_comp = [roccia for roccia in campioni_carota if roccia == \"Arenaria\" or roccia == \"Calcare\"]\n",
        "\n",
        "print(rocce_sedimentarie_comp)"
      ]
    },
    {
      "cell_type": "markdown",
      "metadata": {
        "id": "8sDjYF5Rl9XM"
      },
      "source": [
        "La sintassi diventa quindi:\n",
        "`nuova_lista = [<espressione> for <elemento> in <lista_originale> if <condizione>]`\n",
        "\n",
        "Anche in questo caso, la leggibilità è altissima: `[prendi la roccia PER ogni roccia NELLA carota SE la roccia è Arenaria o Calcare]`."
      ]
    },
    {
      "cell_type": "markdown",
      "metadata": {
        "id": "1KZxd51fl5me"
      },
      "source": [
        "#### **List Comprehension con Cicli Annidati**\n",
        "Infine, possiamo gestire anche logiche più complesse, come quelle che richiederebbero cicli `for` annidati.\n",
        "\n",
        "Supponiamo di avere una lista di possibili rocce sorgente e una di possibili rocce serbatoio in un bacino. Vogliamo creare una lista di tutte le possibili coppie (sistemi petroliferi), ma solo se la roccia sorgente è diversa da quella serbatoio (un caso raro ma possibile).\n",
        "\n",
        "Il metodo classico richiederebbe due cicli `for` e una condizione `if`."
      ]
    },
    {
      "cell_type": "code",
      "execution_count": null,
      "metadata": {
        "execution_count": null,
        "id": "XLk9Cw66l2bl",
        "outputs": []
      },
      "outputs": [],
      "source": [
        "# Metodo classico con cicli annidati\n",
        "rocce_sorgente = [\"Argillite\", \"Marna\"]\n",
        "rocce_serbatoio = [\"Arenaria\", \"Argillite\", \"Calcare\"]\n",
        "sistemi_petroliferi = []\n",
        "\n",
        "for sorgente in rocce_sorgente:\n",
        "    for serbatoio in rocce_serbatoio:\n",
        "        if sorgente != serbatoio:\n",
        "            sistemi_petroliferi.append( (sorgente, serbatoio) ) # Aggiungiamo una tupla\n",
        "\n",
        "print(sistemi_petroliferi)"
      ]
    },
    {
      "cell_type": "markdown",
      "metadata": {
        "id": "FdvG4_telzs1"
      },
      "source": [
        "Oppure, molto più semplicemente, possiamo usare una list comprehension. I cicli `for` e la condizione `if` vengono scritti uno dopo l'altro, nello stesso ordine in cui apparirebbero nella versione classica."
      ]
    },
    {
      "cell_type": "code",
      "execution_count": null,
      "metadata": {
        "execution_count": null,
        "id": "cta9C_yNlwOW",
        "outputs": []
      },
      "outputs": [],
      "source": [
        "# Lo stesso risultato con una list comprehension annidata\n",
        "rocce_sorgente = [\"Argillite\", \"Marna\"]\n",
        "rocce_serbatoio = [\"Arenaria\", \"Argillite\", \"Calcare\"]\n",
        "\n",
        "sistemi_petroliferi_comp = [(sorgente, serbatoio) for sorgente in rocce_sorgente for serbatoio in rocce_serbatoio if sorgente != serbatoio]\n",
        "\n",
        "print(sistemi_petroliferi_comp)"
      ]
    },
    {
      "cell_type": "markdown",
      "metadata": {
        "id": "poboGHBYj-TS"
      },
      "source": [
        "### **Esercizio Pratico: Filtro e Trasformazione Dati con List Comprehension**\n",
        "\n",
        "Abbiamo appena visto come le list comprehension possano sostituire i cicli `for` per creare nuove liste in modo più conciso. Ora mettiamole alla prova con un tipico scenario di analisi dati: filtrare e trasformare una collezione di campioni.\n",
        "\n",
        "L'obiettivo è dimostrare come operazioni complesse di manipolazione di liste possano essere scritte in una singola, leggibile riga di codice.\n",
        "\n",
        "**Dati di partenza:**\n",
        "Useremo una **lista di liste**. Ogni lista interna rappresenta un campione e contiene i suoi dati in un ordine fisso:\n",
        "`[ID_Campione, percentuale_SiO2, percentuale_MgO, Localita]`"
      ]
    },
    {
      "cell_type": "code",
      "execution_count": null,
      "metadata": {
        "id": "eT-cWbJ_j-TS"
      },
      "outputs": [],
      "source": [
        "# I nostri dati: una lista di liste\n",
        "# Ogni lista interna: [ID, SiO2, MgO, Localita]\n",
        "dataset_campioni = [\n",
        "    [\"S1\", 50.1, 7.5, \"Etna\"],\n",
        "    [\"S2\", 68.2, 1.2, \"Sardegna\"],\n",
        "    [\"S3\", 42.0, 25.8, \"Alpi\"],\n",
        "    [\"S4\", 72.5, 0.8, \"Toscana\"]\n",
        "]"
      ]
    },
    {
      "cell_type": "markdown",
      "metadata": {
        "id": "yh1Sr02nj-TS"
      },
      "source": [
        "#### **Compito 1: Estrarre una lista di tutti gli ID dei campioni**\n",
        "\n",
        "**Obiettivo:** Creare una nuova lista che contenga solo il primo elemento (l'ID, all'indice 0) di ogni lista interna.\n",
        "\n",
        "**Metodo classico (per confronto):**\n"
      ]
    },
    {
      "cell_type": "code",
      "source": [
        "ids_campioni = []\n",
        "for campione in dataset_campioni:\n",
        "    ids_campioni.append(campione[0]) # Accediamo all'elemento con indice 0\n",
        "print(ids_campioni)"
      ],
      "metadata": {
        "id": "So6Gr5E4GwwY"
      },
      "execution_count": null,
      "outputs": []
    },
    {
      "cell_type": "markdown",
      "source": [
        "Ora, scriviamo la soluzione in una sola riga usando una list comprehension."
      ],
      "metadata": {
        "id": "nJTvkYAwG0Ax"
      }
    },
    {
      "cell_type": "code",
      "execution_count": null,
      "metadata": {
        "id": "U9Q-AVP7j-TS"
      },
      "outputs": [],
      "source": [
        "# Scrivi qui la tua list comprehension per estrarre gli ID"
      ]
    },
    {
      "cell_type": "markdown",
      "metadata": {
        "id": "cU1YyuAuj-TS"
      },
      "source": [
        "#### **Compito 2: Filtrare i campioni \"Felsici\"**\n",
        "\n",
        "**Obiettivo:** Creare una *nuova lista di liste* che contenga solo i campioni considerati \"felsici\". Per questo esercizio, definiamo \"felsico\" un campione con una percentuale di `sio2` (all'indice 1) **maggiore del 65%**.\n",
        "\n",
        "**Metodo classico (per confronto):**"
      ]
    },
    {
      "cell_type": "code",
      "source": [
        "campioni_felsici = []\n",
        "for campione in dataset_campioni:\n",
        "    if campione[1] > 65: # Controlliamo il valore all'indice 1\n",
        "        campioni_felsici.append(campione)\n",
        "print(campioni_felsici)"
      ],
      "metadata": {
        "id": "1GwwWxLlHO__"
      },
      "execution_count": null,
      "outputs": []
    },
    {
      "cell_type": "markdown",
      "source": [
        "Scriviamo ora la soluzione usando una list comprehension con una condizione `if`."
      ],
      "metadata": {
        "id": "MavOEj1RHRqv"
      }
    },
    {
      "cell_type": "code",
      "execution_count": null,
      "metadata": {
        "id": "b3cuF3Ouj-TT"
      },
      "outputs": [],
      "source": [
        "# Scrivi qui la tua list comprehension per filtrare i campioni felsici"
      ]
    },
    {
      "cell_type": "markdown",
      "metadata": {
        "id": "keoqvy94j-TT"
      },
      "source": [
        "#### **Compito 3: Estrarre gli ID dei campioni \"Mafici\" (Filtro + Trasformazione)**\n",
        "\n",
        "**Obiettivo:** Questo è il compito più completo. Vogliamo unire le due logiche precedenti: dobbiamo **filtrare** i campioni in base a una condizione e poi **trasformare** il risultato. Vogliamo una lista contenente solo gli **ID** (all'indice 0) dei campioni \"mafici\". Per questo esercizio, definiamo \"mafico\" un campione con una percentuale di `MgO` (all'indice 2) **maggiore del 5%**.\n",
        "\n",
        "**Metodo classico (per confronto):**\n"
      ]
    },
    {
      "cell_type": "code",
      "source": [
        "ids_mafici = []\n",
        "for campione in dataset_campioni:\n",
        "    if campione[2] > 5: # Filtriamo in base al valore all'indice 2\n",
        "        ids_mafici.append(campione[0]) # Aggiungiamo il valore all'indice 0\n",
        "print(ids_mafici)"
      ],
      "metadata": {
        "id": "pigZ2Hz3Hl8I"
      },
      "execution_count": null,
      "outputs": []
    },
    {
      "cell_type": "markdown",
      "source": [
        "Riusciamo a fare tutto questo in una sola riga?"
      ],
      "metadata": {
        "id": "V-2kqf8RHs0E"
      }
    },
    {
      "cell_type": "code",
      "execution_count": null,
      "metadata": {
        "id": "1MtWZJeHj-TT"
      },
      "outputs": [],
      "source": [
        "# Scrivi qui la tua list comprehension per filtrare e trasformare"
      ]
    },
    {
      "cell_type": "markdown",
      "metadata": {
        "id": "9m47giBpj-TT"
      },
      "source": [
        "### **Riepilogo dell'Esercizio**\n",
        "\n",
        "Avete appena visto come operazioni di filtro e trasformazione, che con il metodo classico avrebbero richiesto un ciclo `for` di 3-4 righe, una condizione `if` e un `.append()`, possano essere realizzate in una **singola riga di codice**.\n",
        "\n",
        "Questo non è solo un vezzo stilistico: è considerato il modo **\"Pythonico\"** di lavorare con le liste. È più leggibile (una volta capita la sintassi), meno propenso a errori e spesso anche più efficiente."
      ]
    },
    {
      "cell_type": "markdown",
      "source": [
        "## **3. Scrivere Codice Riutilizzabile: Le Funzioni**\n",
        "\n",
        "Man mano che i nostri script diventano più complessi, è molto comune trovarsi nella situazione di dover eseguire la stessa sequenza di operazioni in più punti del programma.\n",
        "\n",
        "Consideriamo un esempio: dobbiamo calcolare la densità di una roccia a partire da massa e volume, e dobbiamo farlo per due campioni diversi, `campione_A` e `campione_B`.\n",
        "\n",
        "**L'approccio inefficiente: Copiare e Incollare il Codice**\n",
        "\n",
        "Senza una strategia, il nostro primo istinto potrebbe essere quello di scrivere il calcolo per il primo campione e poi copiare e incollare le stesse righe per il secondo:\n",
        "\n",
        "```python\n",
        "# Dati per il campione A\n",
        "massa_A = 250.0  # in grammi\n",
        "volume_A = 100.0 # in cm^3\n",
        "# Calcolo della densità per A\n",
        "densita_A = massa_A / volume_A\n",
        "print(f\"Densità del campione A: {densita_A} g/cm^3\")\n",
        "\n",
        "# Dati per il campione B\n",
        "massa_B = 330.0  # in grammi\n",
        "volume_B = 120.0 # in cm^3\n",
        "# --- INIZIO BLOCCO COPIATO ---\n",
        "densita_B = massa_B / volume_B\n",
        "print(f\"Densità del campione B: {densita_B} g/cm^3\")\n",
        "```\n",
        "\n",
        "Questo approccio, sebbene funzionante per piccoli script, presenta gravi svantaggi:\n",
        "\n",
        "1.  **Manutenibilità Scarsa:** Se scopriamo un errore nella formula o decidiamo di cambiare il modo in cui stampiamo il risultato, dobbiamo ricordarci di trovare e modificare **tutte** le copie del blocco di codice. In un programma lungo, è quasi certo che ce ne dimenticheremo una, introducendo errori.\n",
        "2.  **Leggibilità Ridotta:** Il corpo principale del codice è appesantito da logica ripetuta, rendendo più difficile seguire il flusso generale delle operazioni.\n",
        "3.  **Aumento del Rischio di Errori:** Ogni copia è un'opportunità per introdurre un'incoerenza o un errore di battitura (es. usare per sbaglio `massa_A` nel calcolo di B).\n",
        "\n",
        "### **La Soluzione: Il Principio DRY (\"Don't Repeat Yourself\")**\n",
        "\n",
        "La programmazione, di solito, segue un principio fondamentale: **\"Don't Repeat Yourself\" (DRY)**, ovvero \"Non Ripeterti\". Se una specifica operazione viene eseguita più di una volta, quella logica deve essere isolata e centralizzata in un unico punto.\n",
        "\n",
        "Lo strumento che Python ci fornisce per fare questo è la **funzione**.\n",
        "\n",
        "Una **funzione** è un blocco di codice nominato e riutilizzabile che esegue un compito specifico. Invece di duplicare il codice, definiamo la logica una sola volta all'interno di una funzione e poi la \"chiamiamo\" ogni volta che ne abbiamo bisogno.\n",
        "\n",
        "Una funzione si caratterizza per:\n",
        "-   Essere definita con la parola chiave `def`.\n",
        "-   Avere un nome descrittivo.\n",
        "-   Poter accettare dati in input (i **parametri** o **argomenti**).\n",
        "-   Poter restituire uno o più risultati con l'istruzione `return`.\n",
        "\n",
        "Questo approccio rende il codice più pulito, più facile da leggere e da correggere."
      ],
      "metadata": {
        "id": "xQHRTSowJ7C-"
      }
    },
    {
      "cell_type": "code",
      "execution_count": null,
      "metadata": {
        "execution_count": null,
        "id": "hQJ92OkDiHia",
        "outputs": []
      },
      "outputs": [],
      "source": [
        "# Definiamo una funzione per calcolare l'area di un cerchio\n",
        "def calculateCircleArea(radius):\n",
        "    \"\"\"Calcola l'area di un cerchio dato il suo raggio.\"\"\"\n",
        "    piApprox = 3.14159\n",
        "    area = piApprox * radius**2\n",
        "    return area\n",
        "\n",
        "# Ora \"chiamiamo\" la funzione con argomenti diversi\n",
        "radiusOne = 5.0\n",
        "areaOne = calculateCircleArea(radiusOne)\n",
        "print(\"L'area di un cerchio con raggio\", radiusOne, \"è\", areaOne)\n",
        "\n",
        "radiusTwo = 2.5\n",
        "areaTwo = calculateCircleArea(radiusTwo)\n",
        "# Usiamo una f-string per una stampa più pulita\n",
        "print(f\"L'area di un cerchio con raggio {radiusTwo} è {areaTwo}\")"
      ]
    },
    {
      "cell_type": "markdown",
      "metadata": {
        "id": "2QX9oEE4iD_u"
      },
      "source": [
        "#### **Funzioni senza Valore di Ritorno**\n",
        "Non tutte le funzioni devono restituire un valore. Alcune eseguono semplicemente un'azione, come stampare un messaggio. Se una funzione non ha un'istruzione `return`, o ha `return` senza un valore, implicitamente restituisce il valore speciale `None`."
      ]
    },
    {
      "cell_type": "code",
      "execution_count": null,
      "metadata": {
        "execution_count": null,
        "id": "nKs9HvV6iBSs",
        "outputs": []
      },
      "outputs": [],
      "source": [
        "def greet(name):\n",
        "    \"\"\"Stampa un messaggio di saluto.\"\"\"\n",
        "    print(\"Hello,\", name, \"!\")\n",
        "\n",
        "# Chiamiamo la funzione, che esegue l'azione di stampa\n",
        "greet(\"World\")\n",
        "\n",
        "# Se proviamo a salvare il risultato, vedremo che è None\n",
        "returnedValue = greet(\"Student\")\n",
        "print(\"Valore restituito da greet():\", returnedValue)"
      ]
    },
    {
      "cell_type": "markdown",
      "metadata": {
        "id": "7gW9B9gej-TT"
      },
      "source": [
        "#### **Lo Spazio di Lavoro di una Funzione: Variabili Locali vs. Globali**\n",
        "\n",
        "Una delle caratteristiche più importanti delle funzioni è che creano uno **spazio di lavoro isolato**, una sorta di \"stanza\" separata dal resto dello script. Le variabili create *all'interno* di una funzione sono chiamate **variabili locali** e vivono solo dentro quella funzione. Non sono visibili né possono essere modificate dall'esterno.\n",
        "\n",
        "Allo stesso modo, le variabili create all'esterno, nel corpo principale dello script, sono chiamate **variabili globali**.\n",
        "\n",
        "Vediamo come interagiscono:\n",
        "\n",
        "1.  **Visibilità dall'interno verso l'esterno:** Una funzione può **leggere** il valore di una variabile globale, ma non dovrebbe (e in genere non può direttamente) modificarla.\n",
        "2.  **Visibilità dall'esterno verso l'interno:** Lo script principale **non può vedere** le variabili locali create all'interno di una funzione. Appena la funzione termina la sua esecuzione, tutte le sue variabili locali vengono distrutte.\n",
        "\n",
        "Questo isolamento è un enorme vantaggio: ci permette di scrivere funzioni riutilizzabili senza preoccuparci che i nomi delle variabili interne possano entrare in conflitto con variabili omonime presenti nel resto del nostro codice.\n"
      ]
    },
    {
      "cell_type": "code",
      "execution_count": null,
      "metadata": {
        "id": "A_ZCsZIXj-TT"
      },
      "outputs": [],
      "source": [
        "# --- Esempio 1: Le variabili interne sono invisibili all'esterno ---\n",
        "\n",
        "def calcola_proprieta_roccia(volume, densita):\n",
        "    # 'massa' è una variabile LOCALE. Esiste solo qui dentro.\n",
        "    massa = volume * densita\n",
        "    print(f\"All'interno della funzione, la massa calcolata è: {massa}\")\n",
        "    return massa\n",
        "\n",
        "# Definiamo una variabile globale\n",
        "densita_basalto = 2.9 # g/cm^3\n",
        "\n",
        "# Chiamiamo la funzione\n",
        "massa_calcolata = calcola_proprieta_roccia(10, densita_basalto)\n",
        "\n",
        "print(f\"La funzione ha restituito il valore: {massa_calcolata}\")\n",
        "\n",
        "# Ora proviamo ad accedere alla variabile 'massa' dall'esterno...\n",
        "# Togli il commento dalla riga seguente per vedere l'errore!\n",
        "# print(massa)\n",
        "# Otterrai un NameError, perché 'massa' non esiste in questo scope globale."
      ]
    },
    {
      "cell_type": "markdown",
      "metadata": {
        "id": "kHhWw2ACj-TT"
      },
      "source": [
        "### **Come le funzioni modificano i dati? Con il `return`!**\n",
        "\n",
        "Se una funzione non può modificare direttamente le variabili esterne, come facciamo a usare i risultati dei suoi calcoli? La risposta è nell'istruzione **`return`**.\n",
        "\n",
        "Il modo corretto per interagire con una funzione è:\n",
        "1.  Passare i dati necessari come **argomenti**.\n",
        "2.  Lasciare che la funzione esegua i suoi calcoli internamente.\n",
        "3.  La funzione **restituisce** il risultato finale.\n",
        "4.  Lo script principale cattura questo valore restituito e lo assegna a una propria variabile.\n",
        "\n",
        "Questo flusso di \"input -> processo -> output\" è la base della programmazione modulare e pulita."
      ]
    },
    {
      "cell_type": "code",
      "execution_count": null,
      "metadata": {
        "id": "im3dkY31j-TT"
      },
      "outputs": [],
      "source": [
        "# --- Esempio 2: Modificare lo stato globale nel modo CORRETTO ---\n",
        "\n",
        "# Stato globale del nostro programma\n",
        "profondita_attuale = 100.0 # metri\n",
        "\n",
        "def simula_avanzamento_scavo(profondita_partenza, avanzamento):\n",
        "    \"\"\"Calcola la nuova profondità dopo uno scavo.\"\"\"\n",
        "    # 'nuova_profondita' è una variabile locale\n",
        "    nuova_profondita = profondita_partenza + avanzamento\n",
        "    # La funzione comunica il risultato all'esterno tramite 'return'\n",
        "    return nuova_profondita\n",
        "\n",
        "# 1. Passiamo lo stato attuale come argomento\n",
        "# 2. Catturiamo il valore restituito\n",
        "# 3. Aggiorniamo la nostra variabile globale con il nuovo valore\n",
        "profondita_attuale = simula_avanzamento_scavo(profondita_attuale, 25.5)\n",
        "\n",
        "print(f\"La nuova profondità dopo lo scavo è: {profondita_attuale} m\")\n",
        "\n",
        "# Lo stato del nostro programma è stato aggiornato correttamente, ma\n",
        "# senza che la funzione \"toccasse\" direttamente le variabili esterne."
      ]
    },
    {
      "cell_type": "markdown",
      "metadata": {
        "id": "JS0xiMNNj-TU"
      },
      "source": [
        "## **Esercizio: Unire Tutti i Concetti - Report Idrogeologico**\n",
        "\n",
        "È il momento di mettere insieme tutto ciò che abbiamo imparato su list, dizionari, funzioni, cicli `for` e logica `if/elif/else`. In questo esercizio, abbandoneremo le semplici liste di liste per usare una struttura dati molto più professionale e comune nel mondo reale: una **lista di dizionari**.\n",
        "\n",
        "Ogni dizionario rappresenterà un singolo campione e le sue chiavi ci diranno esplicitamente cosa rappresenta ogni valore, rendendo il codice molto più leggibile rispetto all'uso di indici numerici.\n",
        "\n",
        "**Lo Scenario:**\n",
        "Siamo idrogeologi e abbiamo ricevuto dal laboratorio i dati di una campagna di campionamento. Dobbiamo generare un report rapido per il cliente che mostri la classificazione di ogni pozzo basata sulla salinità (TDS - Total Dissolved Solids).\n",
        "\n",
        "**I Dati (Lista di Dizionari):**\n",
        "Avremo una lista chiamata `dati_laboratorio`. Ogni elemento della lista è un dizionario con questa struttura:\n",
        "```python\n",
        "{\n",
        "    \"id_pozzo\": \"PZ-104\",\n",
        "    \"profondita_m\": 250,\n",
        "    \"tds_ppm\": 11500,\n",
        "    \"data\": \"2023-11-05\"\n",
        "}\n",
        "```\n",
        "\n",
        "**Obiettivi:**\n",
        "1.  **Funzione Ausiliaria di Classificazione:** Scrivere una funzione che prenda in input *solo* un valore numerico di TDS e restituisca la sua classificazione (stringa) secondo questa logica standard:\n",
        "    *   TDS < 1,000 ppm: `\"Acqua Dolce\"`\n",
        "    *   1,000 <= TDS < 10,000 ppm: `\"Acqua Salmastra\"`\n",
        "    *   TDS >= 10,000 ppm: `\"Acqua Salina\"`\n",
        "2.  **Funzione Principale di Report:** Scrivere una funzione che prenda in input l'intera lista di dizionari e stampi un report formattato.\n",
        "    *   Deve usare un ciclo `for` per esaminare ogni campione.\n",
        "    *   *Bonus:* Usa `enumerate()` nel ciclo per mostrare anche un numero progressivo di riga nel report (es. `#1`, `#2`...).\n",
        "    *   Deve chiamare la funzione ausiliaria per ottenere la classificazione di ogni singolo campione.\n"
      ]
    },
    {
      "cell_type": "code",
      "source": [
        "# --- Dati di Partenza (Lista di Dizionari) ---\n",
        "dati_laboratorio = [\n",
        "    {\"id_pozzo\": \"PZ-01\", \"profondita_m\": 50,  \"tds_ppm\": 450,   \"data\": \"2023-10-01\"},\n",
        "    {\"id_pozzo\": \"PZ-02\", \"profondita_m\": 120, \"tds_ppm\": 1800,  \"data\": \"2023-10-02\"},\n",
        "    {\"id_pozzo\": \"PZ-03\", \"profondita_m\": 80,  \"tds_ppm\": 950,   \"data\": \"2023-10-02\"},\n",
        "    {\"id_pozzo\": \"PZ-04\", \"profondita_m\": 350, \"tds_ppm\": 12500, \"data\": \"2023-10-03\"},\n",
        "    {\"id_pozzo\": \"PZ-05\", \"profondita_m\": 150, \"tds_ppm\": 5600,  \"data\": \"2023-10-04\"}\n",
        "]\n",
        "\n",
        "# --- 1. Funzione Ausiliaria ---\n",
        "def classifica_tds(valore_tds):\n",
        "    \"\"\"\n",
        "    Restituisce la classificazione dell'acqua basata sul valore TDS.\n",
        "    \"\"\"\n",
        "    # COMPLETA TU: Implementa la logica if/elif/else\n",
        "    # Se valore_tds < 1000 restituisci \"Acqua Dolce\", ecc.\n",
        "    pass\n",
        "\n",
        "# --- 2. Funzione Principale ---\n",
        "def genera_report_completo(lista_campioni):\n",
        "    \"\"\"\n",
        "    Stampa un report tabellare processando una lista di dizionari.\n",
        "    \"\"\"\n",
        "    print(f\"{'#':<3} {'ID Pozzo':<10} {'Prof. (m)':<10} {'TDS (ppm)':<10} {'Classificazione':<15}\")\n",
        "    print(\"-\" * 50)\n",
        "\n",
        "    # COMPLETA TU:\n",
        "    # 1. Inizia un ciclo for. Suggerimento: usa 'enumerate(lista_campioni)' per avere sia l'indice che il dizionario.\n",
        "    #    es: for i, campione in enumerate(lista_campioni):\n",
        "    # 2. Estrai i dati necessari dal dizionario 'campione' usando le chiavi (es. campione[\"tds_ppm\"]).\n",
        "    # 3. Chiama la funzione 'classifica_tds()' passando il valore di TDS appena estratto.\n",
        "    # 4. Stampa la riga formattata usando una f-string.\n",
        "    pass\n",
        "\n",
        "# --- Esecuzione ---\n",
        "genera_report_completo(dati_laboratorio)"
      ],
      "metadata": {
        "id": "Db-4bzJBkEIl"
      },
      "execution_count": null,
      "outputs": []
    },
    {
      "cell_type": "markdown",
      "source": [
        "## **Esercizio svolto**"
      ],
      "metadata": {
        "id": "eZOP9gx5Oztp"
      }
    },
    {
      "cell_type": "code",
      "source": [
        "# --- Dati di Partenza (Lista di Dizionari) ---\n",
        "dati_laboratorio = [\n",
        "    {\"id_pozzo\": \"PZ-01\", \"profondita_m\": 50,  \"tds_ppm\": 450,   \"data\": \"2023-10-01\"},\n",
        "    {\"id_pozzo\": \"PZ-02\", \"profondita_m\": 120, \"tds_ppm\": 1800,  \"data\": \"2023-10-02\"},\n",
        "    {\"id_pozzo\": \"PZ-03\", \"profondita_m\": 80,  \"tds_ppm\": 950,   \"data\": \"2023-10-02\"},\n",
        "    {\"id_pozzo\": \"PZ-04\", \"profondita_m\": 350, \"tds_ppm\": 12500, \"data\": \"2023-10-03\"},\n",
        "    {\"id_pozzo\": \"PZ-05\", \"profondita_m\": 150, \"tds_ppm\": 5600,  \"data\": \"2023-10-04\"}\n",
        "]\n",
        "\n",
        "# --- 1. Funzione Ausiliaria ---\n",
        "def classifica_tds(valore_tds):\n",
        "    \"\"\"\n",
        "    Restituisce la classificazione dell'acqua basata sul valore TDS.\n",
        "    \"\"\"\n",
        "    # La logica if/elif/else valuta le condizioni in ordine.\n",
        "    # Appena una condizione è vera, il valore corrispondente viene restituito\n",
        "    # e la funzione termina la sua esecuzione.\n",
        "    if valore_tds < 1000:\n",
        "        return \"Acqua Dolce\"\n",
        "    elif valore_tds < 10000: # Se arriviamo qui, è implicito che valore_tds sia >= 1000\n",
        "        return \"Acqua Salmastra\"\n",
        "    else: # Se nessuna delle condizioni precedenti è vera, è implicito che sia >= 10000\n",
        "        return \"Acqua Salina\"\n",
        "\n",
        "# --- 2. Funzione Principale ---\n",
        "def genera_report_completo(lista_campioni):\n",
        "    \"\"\"\n",
        "    Stampa un report tabellare processando una lista di dizionari.\n",
        "    \"\"\"\n",
        "    # Intestazione del report per allineare le colonne\n",
        "    print(f\"{'#':<3} {'ID Pozzo':<10} {'Prof. (m)':<10} {'TDS (ppm)':<10} {'Classificazione':<15}\")\n",
        "    print(\"-\" * 50)\n",
        "\n",
        "    # Usiamo enumerate(..., start=1) per ottenere un contatore che parte da 1\n",
        "    # e il campione (dizionario) ad ogni iterazione.\n",
        "    for i, campione in enumerate(lista_campioni, start=1):\n",
        "\n",
        "        # Estraiamo i dati dal dizionario usando le chiavi.\n",
        "        # Questo è molto più leggibile che usare indici numerici come campione[0].\n",
        "        id_pozzo = campione[\"id_pozzo\"]\n",
        "        profondita = campione[\"profondita_m\"]\n",
        "        tds_valore = campione[\"tds_ppm\"]\n",
        "\n",
        "        # Chiamiamo la nostra funzione ausiliaria per ottenere la classificazione.\n",
        "        # Questo rende il ciclo principale pulito e focalizzato sul suo compito (iterare e stampare).\n",
        "        classificazione = classifica_tds(tds_valore)\n",
        "\n",
        "        # Usiamo una f-string con la formattazione per stampare la riga del report,\n",
        "        # assicurandoci che sia allineata con l'intestazione.\n",
        "        print(f\"{i:<3} {id_pozzo:<10} {profondita:<10} {tds_valore:<10} {classificazione:<15}\")\n",
        "\n",
        "\n",
        "# --- Esecuzione ---\n",
        "# Chiamiamo la funzione principale passando la nostra lista di dizionari.\n",
        "genera_report_completo(dati_laboratorio)"
      ],
      "metadata": {
        "id": "OPNVDTmiOx2O"
      },
      "execution_count": null,
      "outputs": []
    },
    {
      "cell_type": "markdown",
      "source": [
        "## **Parte 2: Introduzione al Calcolo Numerico con NumPy**\n",
        "\n",
        "Finora abbiamo utilizzato gli strumenti \"puri\" di Python: variabili, liste, dizionari, cicli e funzioni. Questi sono i mattoni fondamentali di ogni programma. Tuttavia, la vera potenza di Python per l'analisi dati e il calcolo scientifico risiede nel suo vasto **ecosistema di librerie specializzate**. Queste librerie offrono strutture dati ottimizzate e funzioni pre-costruite per le comuni operazioni matematiche, l'analisi dei dati e la visualizzazione, facendo risparmiare tempo e fatica significativi.\n",
        "\n",
        "In questa e nelle prossime lezioni, introdurremo le librerie più importanti per ogni utente scientifico di Python, partendo da quella più fondamentale di tutte: **NumPy**.\n",
        "\n",
        "### **NumPy: Il Cuore del Calcolo Scientifico in Python**\n",
        "\n",
        "**NumPy** (acronimo di **Numerical Python**) è la libreria fondamentale su cui si basa quasi tutto l'ecosistema scientifico di Python. Fornisce sia una nuova, potente struttura dati, sia una vasta gamma di funzioni per manipolarla.\n",
        "\n",
        "In particolare, NumPy ci offre:\n",
        "\n",
        "1.  Un potente oggetto chiamato **array N-dimensionale** (o `ndarray`), che è la sua struttura dati centrale. Possiamo pensarlo come una griglia di valori, tutti dello **stesso tipo** (es. tutti numeri in virgola mobile), molto più efficiente e potente delle liste Python per le operazioni numeriche.\n",
        "2.  Un'enorme collezione di **funzioni per eseguire operazioni efficienti** su questi array. Questo include operazioni matematiche, logiche, manipolazione della forma, ordinamento, selezione, algebra lineare di base, operazioni statistiche e molto altro.\n",
        "3.  Strumenti per integrare codice da altri linguaggi come C, C++ e Fortran. Questo è il \"segreto\" delle sue alte prestazioni: le operazioni più pesanti non vengono eseguite da Python, ma da codice compilato e ottimizzato \"sotto il cofano\".\n",
        "\n",
        "Moltissime altre librerie scientifiche, come **SciPy** (per la computazione scientifica avanzata), **Pandas** (per l'analisi di dati tabulari) e **Matplotlib** (per la visualizzazione), sono costruite *sopra* NumPy e usano i suoi array come formato primario per lo scambio di dati.\n",
        "\n",
        "#### **Come si usa NumPy: L'Importazione**\n",
        "\n",
        "Per poter utilizzare le funzionalità di una libreria, dobbiamo prima \"importarla\" nel nostro ambiente di lavoro. Per NumPy, esiste una convenzione universale, seguita da tutta la comunità scientifica, che è quella di importarlo usando l'alias `np`."
      ],
      "metadata": {
        "id": "B6a4xzVccoS3"
      }
    },
    {
      "cell_type": "code",
      "execution_count": null,
      "metadata": {
        "id": "1mFD04q-b8kj"
      },
      "outputs": [],
      "source": [
        "# Per convenzione, NumPy si importa sempre con l'alias 'np'\n",
        "# Questa riga dice a Python: \"Carica la libreria numpy, e da ora in poi\n",
        "# ogni volta che scrivo 'np' mi riferirò a essa\".\n",
        "# Questo ci permette di accedere a tutte le sue funzioni in modo breve e\n",
        "# leggibile (es. np.array(), np.sin(), etc.).\n",
        "\n",
        "import numpy as np"
      ]
    },
    {
      "cell_type": "markdown",
      "source": [
        "### **Liste Python vs. Array NumPy: Le Differenze Fondamentali**\n",
        "\n",
        "Sebbene le liste Python siano contenitori versatili e di uso generale, gli array NumPy sono specificamente progettati per l'efficienza numerica. Capire le loro differenze è la chiave per usarli in modo efficace.\n",
        "\n",
        "#### **1. Omogeneità dei Tipi (Type Homogeneity)**\n",
        "\n",
        "*   **Liste Python:** Sono **eterogenee**. Possono contenere elementi di tipi di dati diversi all'interno della stessa lista. Ogni elemento è un oggetto Python a sé stante, con le proprie informazioni sul tipo e altri metadati.\n",
        "    *   *Esempio:* `my_list = [1, \"roccia\", 3.14, True]` è perfettamente valido.\n",
        "\n",
        "*   **Array NumPy:** Sono **omogenei**. Tipicamente, tutti gli elementi in un array devono essere dello stesso tipo di dato (ad esempio, tutti interi a 64 bit o tutti numeri in virgola mobile a 64 bit). Questa omogeneità è il segreto della loro efficienza: NumPy può memorizzare i dati in un blocco di memoria contiguo e compatto, senza il bisogno di informazioni aggiuntive per ogni singolo elemento, poiché il tipo e la dimensione sono noti per l'intero array.\n",
        "    *   *Nota:* Se si tenta di creare un array da una lista di tipi misti, NumPy cercherà di \"promuovere\" (*upcast*) tutti gli elementi a un tipo comune più generale che possa contenerli tutti. Ad esempio, una lista di interi e float diventerà un array di soli float. Una lista con numeri e stringhe diventerà un array di sole stringhe.\n",
        "\n",
        "#### **2. Performance per le Operazioni Numeriche: La Vettorizzazione**\n",
        "\n",
        "*   **Liste Python:** Per eseguire operazioni matematiche su dati numerici memorizzati in liste, è quasi sempre necessario scrivere esplicitamente dei cicli `for`. Ad esempio, per sommare due liste elemento per elemento, si deve iterare su ogni elemento. Questi cicli a livello Python sono relativamente lenti per grandi dataset a causa dell'overhead dell'interprete Python ad ogni passo.\n",
        "\n",
        "*   **Array NumPy:** Supportano le **operazioni vettorizzate** (o *element-wise*). Questo significa che è possibile applicare operazioni e funzioni direttamente a interi array, o tra array, senza scrivere cicli espliciti in Python. Queste operazioni sono implementate in codice C o Fortran compilato \"sotto il cofano\", rendendole ordini di grandezza più veloci rispetto ai loro equivalenti basati su cicli in Python.\n",
        "\n",
        "#### **3. Utilizzo della Memoria (Memory Usage)**\n",
        "\n",
        "*   **Liste Python:** Tendono ad avere un maggiore *overhead* di memoria. Ogni elemento nella lista è un oggetto Python completo, che occupa più spazio del solo dato che rappresenta.\n",
        "\n",
        "*   **Array NumPy:** Sono molto più efficienti in termini di memoria per i dati numerici perché memorizzano gli elementi in un blocco di memoria contiguo con un *overhead* minimo, specialmente per tipi di dati primitivi come interi e float.\n",
        "\n",
        "#### **4. Funzionalità (Functionality)**\n",
        "\n",
        "*   **Liste Python:** Offrono operazioni di base sulle sequenze (aggiungere, inserire, rimuovere, ordinare, ecc.).\n",
        "\n",
        "*   **Array NumPy:** Forniscono una vastissima gamma di funzioni matematiche (trigonometriche, esponenziali, logaritmiche, ecc.), routine di algebra lineare (moltiplicazione di matrici, decomposizioni, risoluzione di sistemi lineari), capacità di generazione di numeri casuali, trasformate di Fourier e molto altro, tutto ottimizzato per operare direttamente sugli array.\n",
        "\n",
        "### **In Sintesi: Quando Usare l'Uno o l'Altro?**\n",
        "\n",
        "*   Usa le **liste Python** per collezioni di uso generale, specialmente se hai bisogno di memorizzare elementi di tipo misto o se la dimensione della collezione deve cambiare frequentemente e in modo imprevedibile (aggiungendo o rimuovendo elementi).\n",
        "\n",
        "*   Usa gli **array NumPy** ogni volta che lavori con dati numerici, in particolare per calcoli matematici, gestione di grandi set di dati e quando le performance sono un fattore critico. Nel calcolo scientifico e nella modellazione numerica, gli array NumPy sono quasi sempre la scelta preferita per rappresentare e manipolare dati numerici."
      ],
      "metadata": {
        "id": "d2VWuLAHdLv3"
      }
    },
    {
      "cell_type": "markdown",
      "source": [
        "## **Creare Array NumPy**\n",
        "\n",
        "Ci sono diversi modi per creare array NumPy. Vediamo i più comuni.\n",
        "\n",
        "### **Da Liste o Tuple Python**\n",
        "\n",
        "Il modo più diretto per creare un array è usare la funzione `np.array()`, passandole una lista (o una tupla) Python. NumPy analizzerà la lista e creerà un array con i dati e il tipo di dato più appropriato."
      ],
      "metadata": {
        "id": "1o5fPMINfNVG"
      }
    },
    {
      "cell_type": "code",
      "source": [
        "# Creiamo un array 1D da una lista di interi\n",
        "py_list_1d = [1, 2, 3, 4, 5]\n",
        "np_array_1d = np.array(py_list_1d)\n",
        "\n",
        "print(\"Lista Python 1D di partenza:\", py_list_1d)\n",
        "print(\"Array NumPy 1D risultante:\", np_array_1d)\n",
        "print(\"Tipo dell'oggetto creato:\", type(np_array_1d)) # Il tipo dell'oggetto è numpy.ndarray\n",
        "print(\"Tipo di dato (dtype) degli elementi:\", np_array_1d.dtype) # NumPy ha inferito che sono interi\n",
        "print(\"-\" * 40)\n",
        "\n",
        "\n",
        "# Creiamo un array 2D da una lista di liste (una matrice)\n",
        "# Nota: una delle liste interne contiene un float\n",
        "py_list_2d = [[1, 2.0, 3], [4, 5, 6]]\n",
        "np_array_2d = np.array(py_list_2d)\n",
        "\n",
        "print(\"Lista di liste di partenza:\", py_list_2d)\n",
        "print(\"Array NumPy 2D risultante:\\n\", np_array_2d)\n",
        "print(\"Tipo di dato (dtype) degli elementi:\", np_array_2d.dtype) # NumPy ha scelto 'float64' perché c'erano dei float"
      ],
      "metadata": {
        "id": "-kMi7nr0fSzo"
      },
      "execution_count": null,
      "outputs": []
    },
    {
      "cell_type": "markdown",
      "source": [
        "NumPy inferisce il tipo di dato (`dtype`) degli elementi dai dati di input. Ad esempio, se la lista contiene solo interi, creerà un array di interi (`int64`). Se contiene anche un solo numero in virgola mobile, \"promuoverà\" tutti gli elementi a float (`float64`) per mantenere l'omogeneità.\n",
        "\n",
        "È anche possibile specificare esplicitamente il tipo di dato desiderato usando l'argomento `dtype` nella funzione `np.array()`. Questo può essere utile per ottimizzare l'uso della memoria."
      ],
      "metadata": {
        "id": "Xo4coIOhfaVe"
      }
    },
    {
      "cell_type": "code",
      "source": [
        "# Creiamo un array dalla stessa lista di interi di prima,\n",
        "# ma forziamo il tipo di dato a essere float.\n",
        "py_list_int = [10, 20, 30]\n",
        "np_array_float = np.array(py_list_int, dtype=float) # o np.float64\n",
        "\n",
        "print(\"Array creato forzando il dtype a float:\", np_array_float)\n",
        "print(\"Nuovo dtype:\", np_array_float.dtype)"
      ],
      "metadata": {
        "id": "RAe72WixfcoP"
      },
      "execution_count": null,
      "outputs": []
    },
    {
      "cell_type": "markdown",
      "source": [
        "### **Con Funzioni Integrate di NumPy**\n",
        "\n",
        "Spesso, specialmente per array di grandi dimensioni, è più efficiente creare un array con dei valori \"segnaposto\" iniziali piuttosto che creare prima una grande lista Python. NumPy fornisce diverse funzioni per questo scopo.\n",
        "\n",
        "Vediamo le più importanti:\n",
        "\n",
        "*   `np.zeros(shape)`: Crea un array della forma (`shape`) specificata, riempito completamente di zeri (`0.`). Per default, il tipo di dato è `float64`.\n",
        "\n",
        "*   `np.ones(shape)`: Simile a `zeros`, ma crea un array riempito di uno (`1.`).\n",
        "\n",
        "*   `np.full(shape, fill_value)`: Crea un array della forma specificata, riempito con il valore `fill_value` che forniamo.\n",
        "\n",
        "*   `np.arange(start, stop, step)`: Si comporta in modo molto simile alla funzione `range()` di Python, ma restituisce un array NumPy invece di un iteratore. Genera valori in un intervallo `[start, stop)`, cioè **l'estremo `stop` è escluso**.\n",
        "\n",
        "*   `np.linspace(start, stop, num)`: Questa è una funzione estremamente utile in ambito scientifico. Crea un array contenente `num` punti **equispaziati** in un intervallo `[start, stop]`. A differenza di `arange`, per default **l'estremo `stop` è incluso**. È perfetta per creare coordinate per i grafici o per definire griglie spaziali.\n",
        "\n",
        "*   `np.random.rand(d0, d1, ...)`: Crea un array di dimensioni date riempito con numeri casuali estratti da una distribuzione uniforme tra 0 e 1."
      ],
      "metadata": {
        "id": "t8cjRH5DfmJG"
      }
    },
    {
      "cell_type": "code",
      "source": [
        "# --- Esempi con funzioni di creazione ---\n",
        "\n",
        "# 1. Array di zeri 1D (lunghezza 5)\n",
        "zeros_array = np.zeros(5)\n",
        "print(f\"np.zeros(5):\\n{zeros_array}\\n\")"
      ],
      "metadata": {
        "id": "2DvMSSA7fotZ"
      },
      "execution_count": null,
      "outputs": []
    },
    {
      "cell_type": "code",
      "source": [
        "# 2. Array di \"uno\" 2D (matrice 2x3), specificando il dtype intero\n",
        "ones_array_int = np.ones((2, 3), dtype=int)\n",
        "print(f\"np.ones((2, 3), dtype=int):\\n{ones_array_int}\\n\")"
      ],
      "metadata": {
        "id": "1PqDxMvORroD"
      },
      "execution_count": null,
      "outputs": []
    },
    {
      "cell_type": "code",
      "source": [
        "# 3. Array pieno di un valore specifico (es. 7.5)\n",
        "full_array = np.full((2, 4), 7.5)\n",
        "print(f\"np.full((2, 4), 7.5):\\n{full_array}\\n\")"
      ],
      "metadata": {
        "id": "zKGlPanlRqOb"
      },
      "execution_count": null,
      "outputs": []
    },
    {
      "cell_type": "code",
      "source": [
        "# 4. Array con np.arange (da 0 a 10 escluso, a passi di 2)\n",
        "arange_array = np.arange(0, 10, 2)\n",
        "print(f\"np.arange(0, 10, 2):\\n{arange_array}\\n\")"
      ],
      "metadata": {
        "id": "xq7EhOloRogC"
      },
      "execution_count": null,
      "outputs": []
    },
    {
      "cell_type": "code",
      "source": [
        "# 5. Array con np.linspace (5 punti da 0 a 1, inclusi gli estremi)\n",
        "# Questo è utilissimo per creare un asse x per un grafico!\n",
        "linspace_array = np.linspace(0, 1, 5)\n",
        "print(f\"np.linspace(0, 1, 5):\\n{linspace_array}\\n\")"
      ],
      "metadata": {
        "id": "wmVbCruYRnA-"
      },
      "execution_count": null,
      "outputs": []
    },
    {
      "cell_type": "code",
      "source": [
        "# 6. Matrice 2x2 di numeri casuali\n",
        "random_array = np.random.rand(2, 2)\n",
        "print(f\"np.random.rand(2, 2):\\n{random_array}\\n\")"
      ],
      "metadata": {
        "id": "cvZRVFJqRlf8"
      },
      "execution_count": null,
      "outputs": []
    },
    {
      "cell_type": "markdown",
      "source": [
        "Perfetto. Adesso che abbiamo spiegato la teoria, rendiamo tangibile con un esempio pratico il concetto di \"performance\" rispetto alle liste, che abbiamo accennato in precedenza."
      ],
      "metadata": {
        "id": "j0no5XjYdgB5"
      }
    },
    {
      "cell_type": "code",
      "source": [
        "# Importiamo anche la libreria 'time' che ci permette di misurare il tempo di esecuzione\n",
        "import time\n",
        "\n",
        "# --- 1. Preparazione dei Dati ---\n",
        "\n",
        "# Creiamo due grandi liste Python e due grandi array NumPy\n",
        "# con 10 milioni di numeri casuali.\n",
        "dimensione = 10_000_000  # Usare '_' rende i numeri grandi più leggibili\n",
        "\n",
        "# Creiamo prima gli array NumPy, che sono veloci\n",
        "array_a = np.random.rand(dimensione)\n",
        "array_b = np.random.rand(dimensione)\n",
        "\n",
        "# Ora creiamo le liste Python a partire dagli array\n",
        "lista_a = list(array_a)\n",
        "lista_b = list(array_b)\n",
        "\n",
        "# --- 2. Somma con le Liste Python (usando un ciclo for) ---\n",
        "\n",
        "print(f\"Eseguo la somma elemento per elemento su due liste di {dimensione} elementi...\")\n",
        "\n",
        "start_time_lista = time.time()  # Registriamo il tempo di inizio\n",
        "\n",
        "risultato_lista = []\n",
        "for i in range(dimensione):\n",
        "    risultato_lista.append(lista_a[i] + lista_b[i])\n",
        "\n",
        "end_time_lista = time.time()    # Registriamo il tempo di fine\n",
        "\n",
        "tempo_lista = end_time_lista - start_time_lista\n",
        "print(f\"Tempo impiegato con le liste e il ciclo 'for': {tempo_lista:.4f} secondi\")\n",
        "print(\"-\" * 50)\n",
        "\n",
        "\n",
        "# --- 3. Somma con gli Array NumPy (operazione vettorizzata) ---\n",
        "\n",
        "print(f\"Eseguo la somma vettorizzata su due array NumPy di {dimensione} elementi...\")\n",
        "\n",
        "start_time_array = time.time()  # Registriamo il tempo di inizio\n",
        "\n",
        "risultato_array = array_a + array_b  # Ecco la magia della vettorizzazione!\n",
        "\n",
        "end_time_array = time.time()    # Registriamo il tempo di fine\n",
        "\n",
        "tempo_array = end_time_array - start_time_array\n",
        "print(f\"Tempo impiegato con gli array NumPy: {tempo_array:.4f} secondi\")\n",
        "print(\"-\" * 50)\n",
        "\n",
        "\n",
        "# --- 4. Confronto ---\n",
        "\n",
        "# Calcoliamo quante volte è più veloce NumPy\n",
        "if tempo_array > 0:\n",
        "    speedup = tempo_lista / tempo_array\n",
        "    print(f\"Conclusione: NumPy è stato circa {speedup:.0f} volte più veloce in questo test.\")\n",
        "else:\n",
        "    print(\"L'operazione con NumPy è stata troppo veloce per essere misurata con precisione!\")"
      ],
      "metadata": {
        "id": "Wl0GNwipdjBr"
      },
      "execution_count": null,
      "outputs": []
    },
    {
      "cell_type": "markdown",
      "source": [
        "### **Esercizio Pratico: E la List Comprehension?**\n",
        "\n",
        "Abbiamo appena visto la netta superiorità di NumPy rispetto a un ciclo `for` standard per le operazioni numeriche. Ma come si comporta la **list comprehension**, che abbiamo imparato essere un modo più veloce ed elegante di scrivere cicli in Python?\n",
        "\n",
        "**Obiettivo:** Modificare il codice precedente per aggiungere un terzo test e confrontare le performance di tutte e tre le tecniche:\n",
        "1.  Ciclo `for` standard.\n",
        "2.  List comprehension.\n",
        "3.  Operazione vettorizzata di NumPy.\n",
        "\n",
        "**Compito:**\n",
        "1.  Copia il codice dalla cella precedente.\n",
        "2.  Aggiungi una nuova sezione per calcolare la somma delle due liste `lista_a` e `lista_b` usando una list comprehension.\n",
        "3.  Misura il tempo di esecuzione di questa nuova operazione.\n",
        "4.  Stampa i risultati e confronta i tre tempi. Cosa ti aspetti di vedere?"
      ],
      "metadata": {
        "id": "i-Nx-rlMFW4E"
      }
    },
    {
      "cell_type": "code",
      "source": [
        "# Manteniamo le stesse variabili create nella cella del confronto precedente\n",
        "# (dimensione, array_a, array_b, lista_a, lista_b)\n",
        "\n",
        "# --- Test con List Comprehension ---\n",
        "\n",
        "print(f\"Eseguo la somma con una list comprehension su due liste di {dimensione} elementi...\")\n",
        "\n",
        "start_time_lc = time.time()  # Registriamo il tempo di inizio\n",
        "\n",
        "# La sintassi [a + b for a, b in zip(lista_a, lista_b)] sarebbe la più elegante,\n",
        "# ma per un confronto diretto con il ciclo for, usiamo gli indici.\n",
        "risultato_lc = [lista_a[i] + lista_b[i] for i in range(dimensione)]\n",
        "\n",
        "end_time_lc = time.time()    # Registriamo il tempo di fine\n",
        "\n",
        "tempo_lc = end_time_lc - start_time_lc\n",
        "print(f\"Tempo impiegato con la list comprehension: {tempo_lc:.4f} secondi\")\n",
        "print(\"-\" * 50)\n",
        "\n",
        "\n",
        "# --- Riepilogo Confronto a 3 ---\n",
        "\n",
        "print(\"--- Riepilogo dei Tempi ---\")\n",
        "print(f\"Ciclo 'for' tradizionale: {tempo_lista:.4f} secondi\")\n",
        "print(f\"List Comprehension:       {tempo_lc:.4f} secondi\")\n",
        "print(f\"NumPy vettorizzato:       {tempo_array:.4f} secondi\")\n",
        "print(\"-\" * 50)\n",
        "\n",
        "# Calcoliamo i nuovi rapporti\n",
        "if tempo_lc > 0:\n",
        "    speedup_vs_lc = tempo_lc / tempo_array\n",
        "    print(f\"NumPy è stato circa {speedup_vs_lc:.0f} volte più veloce della list comprehension.\")\n",
        "if tempo_lista > 0:\n",
        "    speedup_lc_vs_for = tempo_lista / tempo_lc\n",
        "    print(f\"La list comprehension è stata circa {speedup_lc_vs_for:.2f} volte più veloce del ciclo 'for'.\")"
      ],
      "metadata": {
        "id": "N5MS8s0-FZ3N"
      },
      "execution_count": null,
      "outputs": []
    },
    {
      "cell_type": "markdown",
      "source": [
        "## **Ispezionare gli Array: Gli Attributi**\n",
        "\n",
        "Gli oggetti `ndarray` di NumPy possiedono diversi attributi utili che forniscono informazioni sull'array stesso, senza bisogno di chiamare una funzione. Questi attributi sono delle \"proprietà\" dell'array a cui possiamo accedere direttamente.\n",
        "\n",
        "I più importanti da conoscere sono:\n",
        "\n",
        "*   `ndarray.ndim`: Restituisce il **numero di dimensioni** (o assi) dell'array. Un array 1D (un vettore) ha `ndim=1`, un array 2D (una matrice) ha `ndim=2`, e così via.\n",
        "\n",
        "*   `ndarray.shape`: Restituisce una **tupla di interi** che indica la dimensione dell'array in ogni sua dimensione. Per una matrice con 3 righe e 4 colonne, `shape` sarà `(3, 4)`. Per un vettore di lunghezza 5, `shape` sarà `(5,)`.\n",
        "\n",
        "*   `ndarray.size`: Restituisce il **numero totale di elementi** nell'array. Questo valore è semplicemente il prodotto degli elementi della tupla `shape`.\n",
        "\n",
        "*   `ndarray.dtype`: Restituisce un oggetto che descrive il **tipo di dato** degli elementi contenuti nell'array (es. `int64`, `float64`, `bool`).\n",
        "\n",
        "*   `ndarray.itemsize`: Restituisce la **dimensione in byte di ogni singolo elemento** dell'array. Ad esempio, un `float64` occuperà 8 byte.\n",
        "\n",
        "*   `ndarray.nbytes`: Restituisce il **numero totale di byte** consumati dagli elementi dell'array. È semplicemente `itemsize * size`."
      ],
      "metadata": {
        "id": "HgaBat7lDlO3"
      }
    },
    {
      "cell_type": "code",
      "source": [
        "# Creiamo un array 2D (3 righe, 4 colonne) di interi a 16 bit per i nostri esempi\n",
        "# np.int16 occupa meno spazio di un int64, è utile per dimostrare itemsize\n",
        "arr = np.array([[1, 2, 3, 4],\n",
        "                [5, 6, 7, 8],\n",
        "                [9, 10, 11, 12]], dtype=np.int16)\n",
        "\n",
        "print(\"Il nostro array di esempio 'arr':\\n\", arr)\n",
        "print(\"-\" * 40)"
      ],
      "metadata": {
        "id": "GulGoNXrDmCs"
      },
      "execution_count": null,
      "outputs": []
    },
    {
      "cell_type": "code",
      "source": [
        "# Ora ispezioniamo i suoi attributi\n",
        "print(f\"Numero di dimensioni (ndim): {arr.ndim}\")"
      ],
      "metadata": {
        "id": "ddF1E3gsFn2_"
      },
      "execution_count": null,
      "outputs": []
    },
    {
      "cell_type": "code",
      "source": [
        "print(f\"Forma dell'array (shape): {arr.shape}\")"
      ],
      "metadata": {
        "id": "hjaK1Q29Fmo2"
      },
      "execution_count": null,
      "outputs": []
    },
    {
      "cell_type": "code",
      "source": [
        "print(f\"Numero totale di elementi (size): {arr.size}\")"
      ],
      "metadata": {
        "id": "g5FAL1mAFlSe"
      },
      "execution_count": null,
      "outputs": []
    },
    {
      "cell_type": "code",
      "source": [
        "print(f\"Tipo di dato degli elementi (dtype): {arr.dtype}\")"
      ],
      "metadata": {
        "id": "NTeGn93RFjj_"
      },
      "execution_count": null,
      "outputs": []
    },
    {
      "cell_type": "code",
      "source": [
        "print(f\"Dimensione in byte di ogni elemento (itemsize): {arr.itemsize} bytes\")\n",
        "\n",
        "print(f\"Totale byte consumati dall'array (nbytes): {arr.nbytes} bytes\")\n",
        "print(\"-\" * 40)"
      ],
      "metadata": {
        "id": "SgQhiCp1FiI-"
      },
      "execution_count": null,
      "outputs": []
    },
    {
      "cell_type": "code",
      "source": [
        "# Verifichiamo la coerenza: size * itemsize == nbytes\n",
        "print(f\"Verifica: arr.size * arr.itemsize = {arr.size * arr.itemsize} (che è uguale a nbytes)\")"
      ],
      "metadata": {
        "id": "0EV3GAY7FfV2"
      },
      "execution_count": null,
      "outputs": []
    },
    {
      "cell_type": "markdown",
      "source": [
        "## **Operazioni di Base: La Vettorizzazione**\n",
        "\n",
        "Una delle caratteristiche più potenti e convenienti di NumPy è il supporto per le **operazioni vettorizzate**. Questo significa che gli operatori aritmetici standard (`+`, `-`, `*`, `/`, `**` per l'elevamento a potenza, ecc.) possono essere applicati direttamente agli array. Quando lo facciamo, l'operazione viene eseguita *elemento per elemento* (*element-wise*).\n",
        "\n",
        "Questo non solo rende il codice estremamente più conciso e leggibile rispetto a un ciclo `for`, ma, come abbiamo visto nel test di performance, è anche incredibilmente più veloce.\n",
        "\n",
        "#### **Funzioni Universali (ufuncs)**\n",
        "Oltre agli operatori di base, NumPy fornisce una vasta collezione di \"funzioni universali\" (o **ufuncs**) che operano anch'esse elemento per elemento sugli array. Queste includono un'ampia gamma di operazioni matematiche. Alcuni esempi comuni sono:\n",
        "- `np.sin()`, `np.cos()`, `np.tan()`: funzioni trigonometriche.\n",
        "- `np.exp()`: esponenziale.\n",
        "- `np.log()`, `np.log10()`: logaritmo naturale e in base 10.\n",
        "- `np.sqrt()`: radice quadrata.\n",
        "\n",
        "Questa capacità di applicare calcoli complessi a interi set di dati con una singola, semplice espressione è fondamentale per scrivere codice numerico efficiente e pulito in Python."
      ],
      "metadata": {
        "id": "vhAqxVupENdn"
      }
    },
    {
      "cell_type": "code",
      "source": [
        "# Creiamo due piccoli array per i nostri esempi\n",
        "a = np.array([1, 2, 3, 4])\n",
        "b = np.array([10, 20, 30, 40])\n",
        "\n",
        "print(\"Array 'a':\", a)\n",
        "print(\"Array 'b':\", b)\n",
        "print(\"-\" * 30)\n",
        "\n",
        "# 1. Addizione elemento per elemento\n",
        "sum_ab = a + b\n",
        "print(\"a + b =\", sum_ab)"
      ],
      "metadata": {
        "id": "QIm6FqFHEP6H"
      },
      "execution_count": null,
      "outputs": []
    },
    {
      "cell_type": "code",
      "source": [
        "# 2. Moltiplicazione elemento per elemento\n",
        "prod_ab = a * b\n",
        "print(\"a * b =\", prod_ab)"
      ],
      "metadata": {
        "id": "ZQO6iseeTNlM"
      },
      "execution_count": null,
      "outputs": []
    },
    {
      "cell_type": "code",
      "source": [
        "# 3. Moltiplicazione per uno scalare (Scalar multiplication)\n",
        "# NumPy \"trasmette\" (broadcasts) lo scalare a tutti gli elementi\n",
        "mult_by_scalar = a * 2\n",
        "print(\"a * 2 =\", mult_by_scalar)"
      ],
      "metadata": {
        "id": "pLKyQIv1TMDI"
      },
      "execution_count": null,
      "outputs": []
    },
    {
      "cell_type": "code",
      "source": [
        "# 4. Elevamento a potenza elemento per elemento\n",
        "squared_a = a**2\n",
        "print(\"a ** 2 =\", squared_a)\n",
        "print(\"-\" * 30)"
      ],
      "metadata": {
        "id": "MOns3OP3TFyC"
      },
      "execution_count": null,
      "outputs": []
    },
    {
      "cell_type": "code",
      "source": [
        "# 5. Esempio con una Funzione Universale (ufunc)\n",
        "# Creiamo un array di angoli in radianti\n",
        "angles = np.array([0, np.pi/2, np.pi])\n",
        "print(\"Array 'angles':\", angles)"
      ],
      "metadata": {
        "id": "K3Sa_fRGTEGF"
      },
      "execution_count": null,
      "outputs": []
    },
    {
      "cell_type": "code",
      "source": [
        "# Calcoliamo il seno di ogni angolo con una sola chiamata\n",
        "sines = np.sin(angles)\n",
        "print(\"np.sin(angles):\", sines)\n",
        "# Nota: il risultato per np.pi non è esattamente 0, ma un numero molto piccolo (1.22e-16)\n",
        "# a causa della precisione finita dei numeri in virgola mobile."
      ],
      "metadata": {
        "id": "WBcfwQDyTCyR"
      },
      "execution_count": null,
      "outputs": []
    },
    {
      "cell_type": "markdown",
      "source": [
        "### **Distinzione Cruciale: Moltiplicazione Element-wise (`*`) vs. Prodotto Scalare (`np.dot` o `@`)**\n",
        "\n",
        "È fondamentale comprendere la differenza tra l'operatore `*` e le operazioni di algebra lineare come il prodotto scalare (per vettori 1D) o il prodotto tra matrici (per array 2D).\n",
        "\n",
        "*   L'operatore `*` esegue una **moltiplicazione elemento per elemento**. Richiede che i due array abbiano la stessa forma.\n",
        "*   La funzione `np.dot(a, b)` (o l'operatore `a @ b`) esegue il **prodotto scalare** o il **prodotto matriciale** secondo le regole dell'algebra lineare. Le dimensioni degli array devono essere compatibili per questo tipo di operazione (es. il numero di colonne del primo deve essere uguale al numero di righe del secondo per il prodotto matriciale).\n",
        "\n",
        "Questa distinzione è uno dei concetti più importanti da padroneggiare quando si lavora con NumPy per scopi scientifici. La capacità di applicare calcoli complessi (sia element-wise che di algebra lineare) a interi set di dati con una singola espressione è fondamentale per scrivere codice numerico efficiente e pulito."
      ],
      "metadata": {
        "id": "gnEc4428GjQ6"
      }
    },
    {
      "cell_type": "code",
      "source": [
        "# Creiamo due piccoli array per i nostri esempi\n",
        "a = np.array([1, 2, 3])\n",
        "b = np.array([10, 20, 30])\n",
        "\n",
        "print(\"Array 'a':\", a)\n",
        "print(\"Array 'b':\", b)\n",
        "print(\"-\" * 40)\n",
        "\n",
        "# --- Moltiplicazione Element-wise ---\n",
        "element_wise_prod = a * b\n",
        "print(\"Moltiplicazione Element-wise (a * b):\", element_wise_prod)\n",
        "print(\"Risultato: [1*10, 2*20, 3*30]\")\n",
        "print(\"-\" * 40)\n",
        "\n",
        "\n",
        "# --- Prodotto Scalare (Dot Product) ---\n",
        "dot_product = np.dot(a, b)\n",
        "# In alternativa, si può usare l'operatore @\n",
        "# dot_product_alt = a @ b\n",
        "\n",
        "print(\"Prodotto Scalare (np.dot(a, b)):\", dot_product)\n",
        "print(\"Risultato: (1*10 + 2*20 + 3*30)\")\n",
        "print(\"-\" * 40)\n",
        "\n",
        "# --- Esempio con Matrici 2D ---\n",
        "matrix_A = np.array([[1, 2], [3, 4]])\n",
        "matrix_B = np.ones((2, 2), dtype=int)\n",
        "\n",
        "print(\"Matrice A:\\n\", matrix_A)\n",
        "print(\"Matrice B:\\n\", matrix_B)\n",
        "print(\"\\nMoltiplicazione matriciale (A @ B):\\n\", matrix_A @ matrix_B)"
      ],
      "metadata": {
        "id": "Ox_W72QHGsTZ"
      },
      "execution_count": null,
      "outputs": []
    },
    {
      "cell_type": "markdown",
      "source": [
        "## **Esercizio Finale: Analisi Semplificata di una Serie Temporale GPS**\n",
        "\n",
        "È il momento di mettere in pratica tutto ciò che abbiamo imparato su NumPy con un esercizio a tema geofisico.\n",
        "\n",
        "**Scenario:**\n",
        "Stiamo analizzando i dati preliminari di spostamento verticale di una stazione GPS. Abbiamo una serie di misure di sollevamento del suolo (componente \"Up\") raccolte in un periodo di 5 anni. Il nostro compito è usare NumPy per creare e analizzare questi dati.\n",
        "\n",
        "**Dati di partenza:**\n",
        "Una lista Python con le misure di spostamento in millimetri.\n",
        "`spostamenti_mm = [2.1, 2.4, 2.8, 3.1, 3.3, 3.7, 4.0, 4.2, 4.5, 4.9]`\n",
        "\n",
        "---\n",
        "**Compiti da Svolgere:**\n",
        "\n",
        "1.  **Creare gli Array:**\n",
        "    *   Crea un array NumPy chiamato `spostamenti_mm_arr` a partire dalla lista Python fornita.\n",
        "    *   Crea un secondo array NumPy chiamato `tempo_anni` che rappresenti l'asse temporale. Deve contenere **10 punti equispaziati** da 0.0 a 5.0 anni (estremi inclusi). **Suggerimento:** usa la funzione più adatta tra quelle che abbiamo visto.\n",
        "\n",
        "2.  **Ispezionare gli Array:**\n",
        "    *   Per entrambi gli array (`spostamenti_mm_arr` e `tempo_anni`), stampa la loro **forma** (`.shape`) e il **tipo di dato** (`.dtype`) per verificare che siano stati creati correttamente.\n",
        "\n",
        "3.  **Conversione di Unità (Operazione Vettorizzata):**\n",
        "    *   Crea un nuovo array chiamato `spostamenti_metri_arr` convertendo le misure da millimetri a metri. Esegui il calcolo con una singola operazione vettorizzata (dividendo l'array per 1000).\n",
        "\n",
        "4.  **Calcolo di Base:**\n",
        "    *   Calcola la **velocità media di sollevamento** in **mm/anno**. Per farlo in modo semplificato, puoi calcolare lo spostamento totale (l'ultimo valore meno il primo) e dividerlo per l'intervallo di tempo totale (5 anni).\n",
        "    *   Stampa il risultato in modo chiaro, usando una f-string. Esempio: `Velocità media di sollevamento: X.XX mm/anno`.\n",
        "\n",
        "5.  **(Bonus) Previsione Semplificata:**\n",
        "    *   Assumendo che la velocità media calcolata rimanga costante, quale sarebbe lo spostamento totale previsto (in mm) dopo 10 anni?"
      ],
      "metadata": {
        "id": "L7nqQuV9GS8b"
      }
    },
    {
      "cell_type": "code",
      "source": [
        "# Dati di partenza\n",
        "spostamenti_mm = [2.1, 2.4, 2.8, 3.1, 3.3, 3.7, 4.0, 4.2, 4.5, 4.9]\n",
        "\n",
        "# --- 1. Creare gli Array ---\n",
        "print(\"--- 1. Creazione Array ---\")\n",
        "# Array degli spostamenti\n",
        "spostamenti_mm_arr = np.array(spostamenti_mm)\n",
        "print(\"Array spostamenti (mm):\", spostamenti_mm_arr)\n",
        "\n",
        "# Array del tempo\n",
        "# Usiamo np.linspace perché vogliamo un numero specifico di punti in un intervallo inclusivo.\n",
        "tempo_anni = np.linspace(0.0, 5.0, 10)\n",
        "print(\"Array tempo (anni):\", tempo_anni)\n",
        "print(\"-\" * 40)\n",
        "\n",
        "\n",
        "# --- 2. Ispezionare gli Array ---\n",
        "print(\"--- 2. Ispezione Array ---\")\n",
        "print(f\"Forma dell'array spostamenti: {spostamenti_mm_arr.shape}\")\n",
        "print(f\"Tipo di dato dell'array spostamenti: {spostamenti_mm_arr.dtype}\")\n",
        "print(f\"Forma dell'array tempo: {tempo_anni.shape}\")\n",
        "print(f\"Tipo di dato dell'array tempo: {tempo_anni.dtype}\")\n",
        "print(\"-\" * 40)\n",
        "\n",
        "\n",
        "# --- 3. Conversione di Unità ---\n",
        "print(\"--- 3. Conversione Unità ---\")\n",
        "# Usiamo un'operazione vettorizzata per la conversione\n",
        "spostamenti_metri_arr = spostamenti_mm_arr / 1000.0\n",
        "print(\"Array spostamenti (metri):\", spostamenti_metri_arr)\n",
        "print(\"-\" * 40)\n",
        "\n",
        "\n",
        "# --- 4. Calcolo della Velocità Media ---\n",
        "print(\"--- 4. Calcolo Velocità Media ---\")\n",
        "# Calcoliamo lo spostamento totale\n",
        "# Possiamo accedere agli elementi con l'indicizzazione, che vedremo meglio nella prossima lezione!\n",
        "spostamento_totale = spostamenti_mm_arr[-1] - spostamenti_mm_arr[0] # Ultimo - primo\n",
        "intervallo_tempo = tempo_anni[-1] - tempo_anni[0]\n",
        "\n",
        "velocita_media = spostamento_totale / intervallo_tempo\n",
        "\n",
        "print(f\"Spostamento totale in {intervallo_tempo} anni: {spostamento_totale:.2f} mm\")\n",
        "print(f\"Velocità media di sollevamento: {velocita_media:.2f} mm/anno\")\n",
        "print(\"-\" * 40)\n",
        "\n",
        "\n",
        "# --- 5. (Bonus) Previsione Semplificata ---\n",
        "print(\"--- 5. Bonus: Previsione ---\")\n",
        "spostamento_previsto_10_anni = velocita_media * 10\n",
        "print(f\"Spostamento totale previsto dopo 10 anni: {spostamento_previsto_10_anni:.2f} mm\")"
      ],
      "metadata": {
        "id": "uzBpq98EGVaF"
      },
      "execution_count": null,
      "outputs": []
    }
  ]
}