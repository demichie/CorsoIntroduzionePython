{
  "cells": [
    {
      "cell_type": "markdown",
      "metadata": {
        "id": "view-in-github",
        "colab_type": "text"
      },
      "source": [
        "<a href=\"https://colab.research.google.com/github/demichie/CorsoIntroduzionePython/blob/main/lezione2.ipynb\" target=\"_parent\"><img src=\"https://colab.research.google.com/assets/colab-badge.svg\" alt=\"Open In Colab\"/></a>"
      ]
    },
    {
      "cell_type": "markdown",
      "source": [
        "# **Lezione 2: Dalle Strutture Dati all'Automazione**\n",
        "\n",
        "### Riepilogo della Lezione Precedente\n",
        "\n",
        "Nella prima parte del nostro corso, abbiamo imparato a:\n",
        "\n",
        "*   Lavorare con la **sintassi di base** di Python: variabili, tipi di dati e l'importanza cruciale dell'**indentazione**.\n",
        "*   Usare le **liste**, la nostra prima struttura dati, per creare collezioni ordinate di elementi.\n",
        "*   Manipolare le liste tramite **indicizzazione** (positiva e negativa) e **slicing**.\n",
        "*   Comprendere la **mutabilità** delle liste e il concetto fondamentale di **riferimenti vs. copie**, un punto chiave per evitare errori comuni.\n",
        "\n",
        "### Cosa Vedremo Oggi?\n",
        "\n",
        "Oggi introdurremo altri concetti fondamentali della programmazione in Python:\n",
        "\n",
        "1.  **I Dizionari:** Scopriremo una nuova, potente struttura dati per organizzare informazioni complesse con coppie `chiave-valore`.\n",
        "2.  **L'Automazione con i Cicli `for`:** Impareremo a iterare non solo sulle liste, ma anche sui dizionari e su sequenze numeriche con `range()`. Vedremo anche le funzioni ausiliarie `enumerate()` e `zip()` per scrivere cicli più eleganti.\n",
        "3.  **La Logica Decisionale con `if/elif/else`:** Insegneremo ai nostri script come valutare delle condizioni e intraprendere azioni diverse di conseguenza.\n",
        "4.  **Le List Comprehension:** Impareremo un modo \"Pythonico\", compatto ed efficiente per creare liste.\n",
        "5.  **La Modularità con le Funzioni:** Organizzeremo il nostro codice in blocchi riutilizzabili, il primo passo verso la scrittura di programmi complessi e manutenibili.\n",
        "\n",
        "L'obiettivo finale è unire tutti questi concetti per scrivere uno script completo in grado di analizzare un set di dati e produrre un report.\n"
      ],
      "metadata": {
        "id": "xKAxRFnrFkPb"
      }
    },
    {
      "cell_type": "markdown",
      "source": [
        "## **1 I dizionari**\n",
        "\n",
        "**1.1 I Dizionari: Schede Avanzate per i Dati**\n",
        "\n",
        "Se una lista è un elenco numerato, un **dizionario** è una scheda con etichette. Contiene coppie **`chiave: valore`**, dove ogni `chiave` (solitamente una stringa) è unica e serve per recuperare il suo `valore` associato. Sono perfetti per rappresentare oggetti con molte proprietà, come un campione geologico, dove l'ordine non è importante ma l'etichetta sì.\n",
        "\n",
        "I dizionari sono:\n",
        "*   **Associativi**: I valori non sono recuperati tramite un indice numerico (posizione), ma tramite la loro chiave.\n",
        "*   **Non Ordinati (Storicamente)**: Nelle versioni moderne di Python (dalla 3.7 in poi), i dizionari mantengono l'ordine di inserimento, ma non dovremmo mai fare affidamento su questo per la logica del nostro programma. La loro forza è l'associazione chiave-valore.\n",
        "*   **Mutabili**: Possiamo aggiungere, modificare e rimuovere coppie chiave-valore dopo la creazione.\n",
        "\n",
        "#### **Creazione di Dizionari**\n",
        "Un dizionario si crea specificando le coppie `chiave: valore` separate da virgole, all'interno di parentesi graffe `{}`."
      ],
      "metadata": {
        "id": "EVf2xdfPkgJz"
      }
    },
    {
      "cell_type": "code",
      "source": [
        "# Descriviamo un campione di Gneiss usando un dizionario\n",
        "campione_gneiss = {\n",
        "    \"id\": \"ALPI-2023-05\",\n",
        "    \"roccia\": \"Gneiss\",\n",
        "    \"localita\": \"Val d'Aosta\",\n",
        "    \"grado_metamorfico\": \"Alto\",\n",
        "    \"minerali_principali\": [\"Quarzo\", \"Feldspato\", \"Biotite\"] # Un valore può essere una lista!\n",
        "}\n",
        "\n",
        "print(\"Dizionario del campione:\", campione_gneiss)\n",
        "print(\"Tipo di dato:\", type(campione_gneiss))"
      ],
      "metadata": {
        "id": "M03mxbrJlTqs"
      },
      "execution_count": null,
      "outputs": []
    },
    {
      "cell_type": "markdown",
      "source": [
        "#### **Accesso, Modifica e Rimozione dei Valori**\n",
        "Si interagisce con i valori di un dizionario sempre tramite le loro chiavi."
      ],
      "metadata": {
        "id": "-HjkCwItlMhl"
      }
    },
    {
      "cell_type": "code",
      "source": [
        "# --- ACCEDERE a un valore tramite la sua chiave ---\n",
        "tipo_roccia = campione_gneiss['roccia']\n",
        "print(f\"La roccia è: {tipo_roccia}\")\n",
        "\n",
        "# --- MODIFICARE un valore esistente ---\n",
        "campione_gneiss['grado_metamorfico'] = \"Molto Alto\"\n",
        "print(f\"Grado modificato: {campione_gneiss['grado_metamorfico']}\")\n",
        "\n",
        "# --- AGGIUNGERE una nuova coppia chiave-valore ---\n",
        "campione_gneiss['data_raccolta'] = \"2023-10-26\"\n",
        "print(f\"Aggiunta data di raccolta: {campione_gneiss['data_raccolta']}\")\n",
        "\n",
        "# --- RIMUOVERE una coppia chiave-valore con 'del' ---\n",
        "del campione_gneiss['localita']\n",
        "print(\"\\nDizionario aggiornato dopo la rimozione della località:\")\n",
        "print(campione_gneiss)"
      ],
      "metadata": {
        "id": "6Yn10PAYlIQ2"
      },
      "execution_count": null,
      "outputs": []
    },
    {
      "cell_type": "markdown",
      "source": [
        "#### **Gestire le Chiavi Mancanti: il `KeyError`**\n",
        "Cosa succede se proviamo ad accedere a una chiave che non esiste? Python ci ferma con un errore, il `KeyError`. Questo è un comportamento corretto, perché ci avvisa di un problema nel nostro codice, ma dobbiamo imparare a gestirlo."
      ],
      "metadata": {
        "id": "dGpvRLKzlFpM"
      }
    },
    {
      "cell_type": "code",
      "source": [
        "# Togli il commento dalla riga seguente per vedere il KeyError!\n",
        "# profondita = campione_gneiss['profondita']"
      ],
      "metadata": {
        "id": "COkirpkalDkN"
      },
      "execution_count": null,
      "outputs": []
    },
    {
      "cell_type": "markdown",
      "source": [
        "Per evitare questi errori, abbiamo due strumenti fondamentali.\n",
        "\n",
        "**1. Verificare l'Esistenza di una Chiave con l'operatore `in` (Metodo Preferito)**\n",
        "Possiamo controllare se una chiave è presente in un dizionario prima di provare ad usarla. L'operatore `in` restituisce `True` se la chiave esiste, `False` altrimenti."
      ],
      "metadata": {
        "id": "V3-Z2DzjlAO-"
      }
    },
    {
      "cell_type": "code",
      "source": [
        "# Verifichiamo se la chiave 'profondita' esiste\n",
        "if 'profondita' in campione_gneiss:\n",
        "    print(f\"La profondità è: {campione_gneiss['profondita']}\")\n",
        "else:\n",
        "    print(\"La chiave 'profondita' non è stata trovata nel dizionario.\")\n",
        "\n",
        "# Facciamo lo stesso per una chiave che sappiamo esistere\n",
        "if 'roccia' in campione_gneiss:\n",
        "    print(\"La chiave 'roccia' è presente.\")"
      ],
      "metadata": {
        "id": "xbXLkbcHk3Wj"
      },
      "execution_count": null,
      "outputs": []
    },
    {
      "cell_type": "markdown",
      "source": [
        "**2. Accesso Sicuro con il Metodo `.get()`**\n",
        "Il metodo `.get()` è un'alternativa elegante per recuperare un valore. Si comporta in due modi:\n",
        "*   Se la chiave esiste, restituisce il valore corrispondente (come `dizionario['chiave']`).\n",
        "*   Se la chiave **non esiste**, non genera un errore, ma restituisce il valore speciale `None`.\n",
        "\n",
        "Possiamo anche fornire un secondo argomento a `.get()`: un valore di default da restituire nel caso la chiave non venga trovata."
      ],
      "metadata": {
        "id": "GUA4lOJYk5fU"
      }
    },
    {
      "cell_type": "code",
      "source": [
        "# Usiamo .get() per una chiave che non esiste\n",
        "profondita = campione_gneiss.get('profondita')\n",
        "print(f\"Tentativo di accesso a 'profondita' con .get(): {profondita}\")\n",
        "\n",
        "# Usiamo .get() fornendo un valore di default\n",
        "profondita_default = campione_gneiss.get('profondita', 'Dato non disponibile')\n",
        "print(f\"Tentativo con valore di default: {profondita_default}\")\n",
        "\n",
        "# Usiamo .get() per una chiave che esiste: funziona normalmente\n",
        "id_campione = campione_gneiss.get('id')\n",
        "print(f\"Accesso a 'id' con .get(): {id_campione}\")"
      ],
      "metadata": {
        "id": "pgD5navmk0US"
      },
      "execution_count": null,
      "outputs": []
    },
    {
      "cell_type": "markdown",
      "source": [
        "#### **Altre Operazioni Utili**\n",
        "Come per le liste, possiamo usare la funzione `len()` per sapere quante coppie chiave-valore ci sono in un dizionario.\n"
      ],
      "metadata": {
        "id": "gE9mMolIkyK8"
      }
    },
    {
      "cell_type": "code",
      "source": [
        "numero_proprieta = len(campione_gneiss)\n",
        "print(f\"\\nIl nostro dizionario contiene {numero_proprieta} proprietà.\")"
      ],
      "metadata": {
        "id": "lqAqCB6xkv3x"
      },
      "execution_count": null,
      "outputs": []
    },
    {
      "cell_type": "markdown",
      "source": [
        "#### **Esercizio Pratico: Costruire e Manipolare una Scheda Minerale**\n",
        "Mettiamo in pratica tutto quello che abbiamo imparato sui dizionari.\n",
        "\n",
        "**Obiettivo**: Creare e gestire la \"scheda anagrafica\" di un minerale.\n",
        "\n",
        "**Compiti:**\n",
        "\n",
        "1.  **Crea un dizionario vuoto** chiamato `scheda_minerale`.\n",
        "2.  **Popola la scheda** aggiungendo le seguenti coppie chiave-valore:\n",
        "    *   `\"nome\"`: `\"Calcite\"`\n",
        "    *   `\"formula\"`: `\"CaCO3\"`\n",
        "    *   `\"durezza\"`: `3`\n",
        "3.  **Correggi un dato**: Hai misurato di nuovo la durezza e hai scoperto che è `3.5`. Modifica il valore associato alla chiave `\"durezza\"`.\n",
        "4.  **Aggiungi una proprietà**: Aggiungi la `\"lucentezza\"` con il valore `\"Vitrea\"`.\n",
        "5.  **Verifica la presenza di un dato**: Usa l'operatore `in` per controllare se la chiave `\"colore\"` è presente nel dizionario e stampa un messaggio appropriato.\n",
        "6.  **Accedi in modo sicuro**: Usa il metodo `.get()` per recuperare il valore di `\"colore\"`, fornendo `\"Incolore\"` come valore di default, e salva il risultato in una variabile chiamata `colore_campione`.\n",
        "7.  **Rimuovi un dato ridondante**: Supponiamo di voler rimuovere la chiave `\"durezza\"`. Usa `del` per farlo.\n",
        "8.  **Stampa i risultati finali**: Stampa la variabile `colore_campione` e l'intero `scheda_minerale` per vedere lo stato finale.\n"
      ],
      "metadata": {
        "id": "Crp1hEt8ktVr"
      }
    },
    {
      "cell_type": "code",
      "source": [
        "# -- Scrivi qui il tuo codice per l'esercizio --\n",
        "\n",
        "# 1. Crea un dizionario vuoto\n",
        "\n",
        "\n",
        "# 2. Popola la scheda\n",
        "\n",
        "\n",
        "# 3. Correggi la durezza\n",
        "\n",
        "\n",
        "# 4. Aggiungi la lucentezza\n",
        "\n",
        "\n",
        "# 5. Verifica la presenza del colore\n",
        "\n",
        "\n",
        "# 6. Accedi in modo sicuro al colore\n",
        "\n",
        "\n",
        "# 7. Rimuovi la durezza\n",
        "\n",
        "\n",
        "# 8. Stampa i risultati\n",
        "print(\"\\n--- Scheda Finale del Minerale ---\")\n",
        "\n"
      ],
      "metadata": {
        "id": "JCijas5hklVa"
      },
      "execution_count": null,
      "outputs": []
    },
    {
      "cell_type": "markdown",
      "metadata": {
        "id": "hrHhZDO_im1I"
      },
      "source": [
        "## **2. Iterazione e Logica Condizionale: Insegnare al Computer a Lavorare**\n",
        "\n",
        "### **2.1 Il Ciclo `for`: Automatizzare i Compiti Ripetitivi**\n",
        "Il ciclo `for` è il nostro strumento principale per l'automazione. Itera su ogni elemento di una sequenza (come una lista) ed esegue un blocco di codice indentato per ciascun elemento."
      ]
    },
    {
      "cell_type": "code",
      "execution_count": null,
      "metadata": {
        "execution_count": null,
        "id": "D5T3RlCniief",
        "outputs": []
      },
      "outputs": [],
      "source": [
        "rock_types = [\"basalt\", \"granite\", \"shale\"]\n",
        "\n",
        "# Itera attraverso la lista e stampa ogni tipo di roccia\n",
        "for rock in rock_types:\n",
        "    print(\"Current rock type:\", rock)\n",
        "\n",
        "print(\"Finished iterating through rock_types.\")\n",
        "\n",
        "# Si può iterare anche su una stringa (una sequenza di caratteri)\n",
        "magma_type = \"Rhyolite\"\n",
        "for char in magma_type:\n",
        "    # L'argomento end=\" \" in print() evita di andare a capo\n",
        "    print(char, end=\" \")"
      ]
    },
    {
      "cell_type": "markdown",
      "metadata": {
        "id": "Zx4SLjnBidzV"
      },
      "source": [
        "### **2.2 La Funzione `range()`: Creare Sequenze Numeriche per i Cicli**\n",
        "Spesso, abbiamo bisogno di ripetere un'azione un numero specifico di volte, o di iterare su una sequenza di indici. La funzione `range()` è perfetta per questo.\n",
        "- `range(stop)`: genera numeri da 0 fino a `stop-1`.\n",
        "- `range(start, stop)`: genera numeri da `start` fino a `stop-1`.\n",
        "- `range(start, stop, step)`: genera numeri da `start` a `stop-1`, con un passo `step`."
      ]
    },
    {
      "cell_type": "code",
      "execution_count": null,
      "metadata": {
        "execution_count": null,
        "id": "8iAJ-hjDiafs",
        "outputs": []
      },
      "outputs": [],
      "source": [
        "# Esempio 1: range(stop) - Loop 5 volte (indici 0, 1, 2, 3, 4)\n",
        "print(\"Looping con range(5):\")\n",
        "for i in range(5):\n",
        "    print(i)"
      ]
    },
    {
      "cell_type": "code",
      "execution_count": null,
      "metadata": {
        "id": "b9JgM6kUj-TQ"
      },
      "outputs": [],
      "source": [
        "# Esempio 2: range(start, stop) - Loop da 2 fino a 6 (escluso)\n",
        "print(\"\\nLooping con range(2, 6):\")\n",
        "for num in range(2, 6):\n",
        "    print(num)"
      ]
    },
    {
      "cell_type": "code",
      "execution_count": null,
      "metadata": {
        "id": "ahrOs4gEj-TQ"
      },
      "outputs": [],
      "source": [
        "# Esempio 3: range(start, stop, step) - Loop da 10 a 0 (escluso), a passi di -2\n",
        "print(\"\\nLooping con range(10, 0, -2):\")\n",
        "for k in range(10, 0, -2):\n",
        "    print(k)"
      ]
    },
    {
      "cell_type": "code",
      "execution_count": null,
      "metadata": {
        "id": "q3IG6iw8j-TQ"
      },
      "outputs": [],
      "source": [
        "# Esempio 4: Usare range per accedere agli elementi di una lista tramite indice\n",
        "# Questo è utile quando abbiamo bisogno SIA dell'elemento CHE del suo indice\n",
        "values = [100, 200, 300, 400]\n",
        "print(\"\\nAccesso agli elementi della lista tramite range(len(list)):\")\n",
        "for index in range(len(values)):\n",
        "    print(f\"Elemento all'indice {index} è {values[index]}\")"
      ]
    },
    {
      "cell_type": "markdown",
      "metadata": {
        "id": "2Uk_RJ0Zj-TQ"
      },
      "source": [
        "### **Esercizio Pratico : Padroneggiare i Cicli `for` e `range()`**\n",
        "\n",
        "Ora che abbiamo visto come funzionano i cicli `for` e la funzione `range()`, mettiamoli subito alla prova. Questi esercizi sono pensati per farvi prendere confidenza con l'iterazione su sequenze e indici.\n",
        "\n",
        "---\n",
        "#### **Esercizio 1: La Tabellina del 7**\n",
        "**Obiettivo:** Stampare a schermo la tabellina del 7, da 7x1 a 7x10.\n",
        "L'output desiderato è:\n",
        "```\n",
        "7 x 1 = 7\n",
        "7 x 2 = 14\n",
        "...\n",
        "7 x 10 = 70\n",
        "```\n",
        "**Suggerimento:** Usate le f-strings con print. Usate un ciclo `for` con `range()`. Ricordate che `range(10)` va da 0 a 9. Di quali numeri avete bisogno per la moltiplicazione?\n"
      ]
    },
    {
      "cell_type": "code",
      "execution_count": null,
      "metadata": {
        "id": "mSFNEgs5j-TQ"
      },
      "outputs": [],
      "source": [
        "# Scrivi qui il tuo codice per la tabellina del 7\n",
        "\n",
        "print(\"--- Tabellina del 7 ---\")\n",
        "numero_base = 7\n"
      ]
    },
    {
      "cell_type": "markdown",
      "metadata": {
        "id": "zckB6eFvj-TQ"
      },
      "source": [
        "#### **Esercizio 2: Iterare a Rovescio**\n",
        "**Obiettivo:** Abbiamo una lista che rappresenta una sequenza stratigrafica, dal livello più superficiale al più profondo. Vogliamo stamparla in ordine inverso, cioè dal più profondo al più superficiale.\n",
        "\n",
        "**Suggerimento:** Ci sono diversi modi per farlo! Potete provare a:\n",
        "1.  Usare un ciclo `for` con `range()` che generi gli indici a ritroso (da `len(lista)-1` fino a `0`).\n",
        "2.  Oppure, creare prima una copia invertita della lista con lo slicing `[::-1]` e poi iterare su quella."
      ]
    },
    {
      "cell_type": "code",
      "execution_count": null,
      "metadata": {
        "id": "7n9PBiGfj-TR"
      },
      "outputs": [],
      "source": [
        "sequenza_stratigrafica = [\"Sabbia\", \"Argilla\", \"Conglomerato\", \"Calcare\"]\n",
        "print(f\"Sequenza originale (dall'alto al basso): {sequenza_stratigrafica}\\n\")\n",
        "\n",
        "print(\"--- Sequenza inversa (dal basso all'alto) ---\")\n"
      ]
    },
    {
      "cell_type": "markdown",
      "source": [
        "### **2.3 Il Ciclo `for` con i Dizionari: Ispezionare i Dati**\n",
        "\n",
        "Abbiamo visto come il ciclo `for` sia perfetto per scorrere gli elementi di una sequenza come una lista. Ma come si comporta con una struttura più complessa come un dizionario, che non ha un ordine numerico?\n",
        "\n",
        "Un ciclo `for` applicato a un dizionario ci offre tre modi potenti per accedere ai suoi dati.\n",
        "\n",
        "#### **1. Iterare sulle Chiavi (Comportamento di Default)**\n",
        "Se usiamo un dizionario direttamente in un ciclo `for`, il ciclo scorrerà, una per una, tutte le sue **chiavi**.\n",
        "\n",
        "\n",
        "\n",
        "\n",
        "\n",
        "\n",
        "\n",
        "\n"
      ],
      "metadata": {
        "id": "HMV0xJSBmKO3"
      }
    },
    {
      "cell_type": "code",
      "source": [
        "# Riprendiamo il nostro dizionario di esempio\n",
        "campione_gneiss = {\n",
        "    \"id\": \"ALPI-2023-05\",\n",
        "    \"roccia\": \"Gneiss\",\n",
        "    \"grado_metamorfico\": \"Alto\",\n",
        "    \"data_raccolta\": \"2023-10-26\"\n",
        "}\n",
        "\n",
        "print(\"--- Iterazione sulle CHIAVI del dizionario ---\")\n",
        "for chiave in campione_gneiss:\n",
        "    # Dentro il ciclo, la variabile 'chiave' conterrà \"id\", poi \"roccia\", etc.\n",
        "    # Possiamo usare la chiave per recuperare il valore corrispondente\n",
        "    valore = campione_gneiss[chiave]\n",
        "    print(f\"Chiave: '{chiave}', Valore: '{valore}'\")"
      ],
      "metadata": {
        "id": "IYFnnIASmmlY"
      },
      "execution_count": null,
      "outputs": []
    },
    {
      "cell_type": "markdown",
      "source": [
        "\n",
        "#### **2. Iterare solo sui Valori con il metodo `.values()`**\n",
        "Se siamo interessati unicamente ai valori e non ci importano le chiavi, possiamo usare il metodo `.values()` del dizionario."
      ],
      "metadata": {
        "id": "zqaSOMxvmjnv"
      }
    },
    {
      "cell_type": "code",
      "source": [
        "print(\"\\n--- Iterazione solo sui VALORI con .values() ---\")\n",
        "for valore in campione_gneiss.values():\n",
        "    print(f\"Valore trovato: {valore}\")"
      ],
      "metadata": {
        "id": "RjcDoNMgmd8O"
      },
      "execution_count": null,
      "outputs": []
    },
    {
      "cell_type": "markdown",
      "source": [
        "#### **3. Iterare su Chiavi e Valori Insieme con `.items()` (Il Metodo Migliore)**\n",
        "Il modo più comune e \"Pythonico\" di iterare su un dizionario è usare il metodo `.items()`. Questo metodo restituisce ad ogni passo del ciclo una coppia `(chiave, valore)`, che possiamo \"spacchettare\" direttamente in due variabili.\n",
        "\n",
        "Questa tecnica è estremamente leggibile e potente.\n"
      ],
      "metadata": {
        "id": "Nw3wxpYvmfvH"
      }
    },
    {
      "cell_type": "code",
      "source": [
        "print(\"\\n--- Iterazione su CHIAVI e VALORI con .items() ---\")\n",
        "# La sintassi 'for chiave, valore' spacchetta la coppia restituita da .items()\n",
        "for chiave, valore in campione_gneiss.items():\n",
        "    print(f\"Proprietà '{chiave}' -> Contenuto '{valore}'\")"
      ],
      "metadata": {
        "id": "D-h0P1N0maQG"
      },
      "execution_count": null,
      "outputs": []
    },
    {
      "cell_type": "markdown",
      "source": [
        "\n",
        "### **Esercizio Pratico: Ispezionare i Dati di un Campione**\n",
        "\n",
        "**Obiettivo:** Utilizzare i diversi metodi di iterazione sui dizionari per stampare un report dettagliato delle proprietà di un campione di roccia.\n",
        "\n",
        "**Dati di partenza:**\n",
        "Ti viene fornito il seguente dizionario che descrive un campione di basalto.\n",
        "\n",
        "```python\n",
        "campione_basalto = {\n",
        "    \"ID Campione\": \"ETNA-B-12\",\n",
        "    \"Tipo Roccia\": \"Basalto\",\n",
        "    \"Contenuto SiO2 (%)\": 49.5,\n",
        "    \"Minerali Chiave\": [\"Plagioclasio\", \"Pirosseno\", \"Olivina\"],\n",
        "    \"Località\": \"Etna\"\n",
        "}```\n",
        "\n",
        "**Compiti:**\n",
        "\n",
        "1.  **Stampa tutte le proprietà**: Scrivi un ciclo `for` che itera sul dizionario e stampa a schermo solo i nomi di tutte le proprietà (le chiavi).\n",
        "2.  **Stampa tutti i contenuti**: Scrivi un secondo ciclo `for` che, usando il metodo `.values()`, stampa solo i valori contenuti nel dizionario, senza le loro etichette.\n",
        "3.  **Crea un report completo**: Scrivi un terzo ciclo `for` che, usando il metodo `.items()`, stampa un report formattato e leggibile. Per ogni proprietà, deve stampare una riga nel formato:\n",
        "    `Proprietà: <nome_chiave>  -->  Valore: <valore>`\n"
      ],
      "metadata": {
        "id": "sh82dEmjmXLo"
      }
    },
    {
      "cell_type": "code",
      "source": [
        "# Dati di partenza\n",
        "campione_basalto = {\n",
        "    \"ID Campione\": \"ETNA-B-12\",\n",
        "    \"Tipo Roccia\": \"Basalto\",\n",
        "    \"Contenuto SiO2 (%)\": 49.5,\n",
        "    \"Minerali Chiave\": [\"Plagioclasio\", \"Pirosseno\", \"Olivina\"],\n",
        "    \"Località\": \"Etna\"\n",
        "}\n",
        "\n",
        "# -- Compito 1: Stampa solo i nomi delle proprietà (le chiavi) --\n",
        "print(\"--- Proprietà del Campione ---\")\n",
        "# Scrivi qui il tuo codice\n",
        "\n",
        "\n",
        "# -- Compito 2: Stampa solo i valori --\n",
        "print(\"\\n--- Contenuti del Campione ---\")\n",
        "# Scrivi qui il tuo codice\n",
        "\n",
        "\n",
        "# -- Compito 3: Stampa il report completo --\n",
        "print(\"\\n--- Report Dettagliato del Campione ---\")\n",
        "# Scrivi qui il tuo codice"
      ],
      "metadata": {
        "id": "cZuleZBRmP5J"
      },
      "execution_count": null,
      "outputs": []
    },
    {
      "cell_type": "markdown",
      "source": [
        "### **2.4 Accesso Avanzato nei Cicli: `enumerate` e `zip`**\n",
        "\n",
        "Ora che abbiamo padronanza del ciclo `for`, vediamo due funzioni integrate di Python che lo rendono ancora più potente e leggibile, specialmente quando lavoriamo con dati strutturati in liste.\n",
        "\n",
        "#### **Il Problema: Avere sia l'Elemento che il suo Indice**\n",
        "\n",
        "A volte, durante un'iterazione, non ci basta avere solo il valore dell'elemento, ma abbiamo bisogno anche della sua **posizione** (il suo indice). Un caso d'uso classico è quando abbiamo **due o più liste correlate** (liste \"parallele\"), dove l'elemento all'indice `i` della prima lista corrisponde all'elemento all'indice `i` della seconda.\n",
        "\n",
        "Supponiamo di avere una lista di località e una lista con le profondità di un carotaggio effettuate in quelle località.\n",
        "\n"
      ],
      "metadata": {
        "id": "PzCr_zNjnbIS"
      }
    },
    {
      "cell_type": "code",
      "source": [
        "localita = [\"Sito A\", \"Sito B\", \"Sito C\"]\n",
        "profondita_misure = [150, 220, 185]"
      ],
      "metadata": {
        "id": "Pan1TzyRpZWe"
      },
      "execution_count": null,
      "outputs": []
    },
    {
      "cell_type": "markdown",
      "source": [
        "Come possiamo stampare un report che associ ogni località alla sua profondità?\n",
        "\n",
        "**Metodo 1 (Classico ma Verboso): `range(len())`**\n",
        "La prima soluzione che viene in mente è usare `range()` per generare gli indici e poi usare quegli indici per accedere agli elementi di entrambe le liste.\n",
        "\n"
      ],
      "metadata": {
        "id": "1SY4GfHapWx1"
      }
    },
    {
      "cell_type": "code",
      "source": [
        "print(\"--- Report con range(len()) ---\")\n",
        "for i in range(len(localita)):\n",
        "    # Usiamo l'indice 'i' per accedere a entrambe le liste\n",
        "    loc = localita[i]\n",
        "    prof = profondita_misure[i]\n",
        "    print(f\"Nel {loc}, il carotaggio ha raggiunto {prof} metri.\")"
      ],
      "metadata": {
        "id": "LtyIWy6VpTXZ"
      },
      "execution_count": null,
      "outputs": []
    },
    {
      "cell_type": "markdown",
      "source": [
        "Questo funziona, ma non è molto elegante. Dobbiamo scrivere `localita[i]` e `profondita_misure[i]`, rendendo il codice più lungo e potenzialmente più soggetto a errori.\n",
        "\n",
        "**Metodo 2 (Pythonico e Leggibile): `enumerate()`**\n",
        "Python ci offre una soluzione molto più pulita: la funzione `enumerate()`. Quando usata in un ciclo `for`, `enumerate()` ci restituisce, ad ogni passo, una coppia contenente **l'indice e il valore** dell'elemento."
      ],
      "metadata": {
        "id": "aqAfmuq9pROF"
      }
    },
    {
      "cell_type": "code",
      "source": [
        "print(\"\\n--- Report con enumerate() ---\")\n",
        "# La sintassi 'for i, loc' spacchetta la coppia (indice, valore)\n",
        "for i, loc in enumerate(localita):\n",
        "    # Ora abbiamo già l'indice 'i' e la località 'loc'\n",
        "    prof = profondita_misure[i] # Usiamo l'indice solo per la seconda lista\n",
        "    print(f\"Nel {loc} (indice {i}), il carotaggio ha raggiunto {prof} metri.\")"
      ],
      "metadata": {
        "id": "sURtkJ7cpOT0"
      },
      "execution_count": null,
      "outputs": []
    },
    {
      "cell_type": "markdown",
      "source": [
        "In questo modo il codice è più diretto. Non abbiamo più bisogno di `localita[i]`. `enumerate()` è lo strumento preferito quando hai bisogno dell'indice *e* del valore durante l'iterazione.\n",
        "\n",
        "#### **Iterare su più Liste Contemporaneamente: la Funzione `zip()`**\n",
        "\n",
        "Nell'esempio precedente, `enumerate()` ha migliorato la situazione, ma il nostro problema di fondo era iterare su due liste *contemporaneamente*. Per questo specifico compito, Python fornisce uno strumento ancora più perfetto: `zip()`.\n",
        "\n",
        "La funzione `zip()` prende due o più liste e le \"aggancia\" insieme. Ad ogni passo del ciclo, `zip()` restituisce una coppia (o una tripla, etc.) contenente gli elementi corrispondenti di ciascuna lista."
      ],
      "metadata": {
        "id": "aimtJkUWpLmd"
      }
    },
    {
      "cell_type": "code",
      "source": [
        "print(\"\\n--- Report con zip() ---\")\n",
        "# zip() unisce le due liste elemento per elemento\n",
        "for loc, prof in zip(localita, profondita_misure):\n",
        "    # Ad ogni passo, 'loc' è un elemento da 'localita' e 'prof' da 'profondita_misure'\n",
        "    print(f\"Nel {loc}, il carotaggio ha raggiunto {prof} metri.\")"
      ],
      "metadata": {
        "id": "vNlM9x2ApI_h"
      },
      "execution_count": null,
      "outputs": []
    },
    {
      "cell_type": "markdown",
      "source": [
        "Questa è la soluzione più pulita e leggibile in assoluto per questo tipo di problema. Non dobbiamo più preoccuparci degli indici.\n",
        "\n",
        "**NOTA IMPORTANTE:** Se le liste hanno lunghezze diverse, `zip()` si fermerà non appena la lista **più corta** sarà esaurita, ignorando gli elementi in eccesso della lista più lunga.\n",
        "\n",
        "### **Esercizio Pratico: Combinare Dati da Liste Parallele**\n",
        "\n",
        "**Obiettivo:** Utilizzare la funzione `zip()` per creare un report che combini i dati provenienti da tre liste diverse.\n",
        "\n",
        "**Dati di partenza:**\n",
        "Hai raccolto dei campioni geologici e hai salvato i loro dati in tre liste separate ma correlate:\n",
        "\n",
        "```python\n",
        "id_campioni = [\"C-01\", \"C-02\", \"C-03\", \"C-04\"]\n",
        "tipi_roccia = [\"Arenaria\", \"Calcare\", \"Scisto Metamorfico\", \"Granito\"]\n",
        "profondita_raccolta = [25.5, 42.0, 88.3, 115.8]\n",
        "```\n"
      ],
      "metadata": {
        "id": "LiOdA8jJnJy-"
      }
    },
    {
      "cell_type": "markdown",
      "source": [
        "\n",
        "**Esercizio:**\n",
        "Scrivi un ciclo `for` che utilizzi `zip()` per iterare contemporaneamente sulle tre liste. All'interno del ciclo, stampa una riga formattata per ogni campione, come mostrato di seguito:\n",
        "\n",
        "`Campione ID: C-01 | Tipo: Arenaria | Profondità: 25.5 m`\n",
        "\n",
        "**Suggerimento:** Il modo più diretto ed efficiente per risolvere questo problema è usare la funzione `zip()` passando le tre liste come argomenti.\n"
      ],
      "metadata": {
        "id": "6rE5VflBo5U7"
      }
    },
    {
      "cell_type": "code",
      "source": [
        "# Dati di partenza\n",
        "id_campioni = [\"C-01\", \"C-02\", \"C-03\", \"C-04\"]\n",
        "tipi_roccia = [\"Arenaria\", \"Calcare\", \"Scisto Metamorfico\", \"Granito\"]\n",
        "profondita_raccolta = [25.5, 42.0, 88.3, 115.8]\n",
        "\n",
        "print(\"--- Report Campioni Raccolti ---\")\n",
        "# Scrivi qui il tuo codice per iterare con zip e stampare il report"
      ],
      "metadata": {
        "id": "OLfM9l4Mo2gb"
      },
      "execution_count": null,
      "outputs": []
    },
    {
      "cell_type": "markdown",
      "metadata": {
        "id": "W1tLdeg6iU4X"
      },
      "source": [
        "### **2.5 Logica Condizionale: `if`, `elif`, `else`**\n",
        "Queste istruzioni permettono al nostro codice di prendere decisioni, eseguendo blocchi di codice diversi in base al risultato di una condizione. Una condizione è un'espressione che viene valutata come \"vera\" (`True`) o \"falsa\" (`False`).\n",
        "\n",
        "#### **Operatori di Confronto**\n",
        "Per creare queste condizioni, utilizziamo gli operatori di confronto. Essi prendono due valori e restituiscono un valore booleano (`True` o `False`).\n",
        "\n",
        "| Operatore | Descrizione                  | Esempio       | Risultato |\n",
        "| :-------- | :--------------------------- | :------------ | :-------- |\n",
        "| `==`      | Uguale a                     | `5 == 5`      | `True`    |\n",
        "| `!=`      | Diverso da                   | `5 != 7`      | `True`    |\n",
        "| `>`       | Maggiore di                  | `7 > 5`       | `True`    |\n",
        "| `<`       | Minore di                    | `5 < 7`       | `True`    |\n",
        "| `>=`      | Maggiore o uguale a          | `7 >= 7`      | `True`    |\n",
        "| `<=`      | Minore o uguale a            | `5 <= 7`      | `True`    |\n",
        "\n",
        "**ATTENZIONE:** Un errore comunissimo è usare un singolo uguale (`=`) per confrontare due valori. Ricordate:\n",
        "-   `=` (singolo uguale) è l'**operatore di assegnazione**: assegna un valore a una variabile.\n",
        "-   `==` (doppio uguale) è l'**operatore di confronto**: controlla se due valori sono uguali.\n",
        "\n",
        "#### **La Struttura `if/elif/else`**\n",
        "La logica condizionale in Python si costruisce con queste tre parole chiave:\n",
        "- `if`: esegue un blocco di codice **se** una condizione è vera. È l'inizio di ogni blocco condizionale.\n",
        "- `elif` (sta per \"else if\"): controlla un'altra condizione **se** la precedente era falsa. Se ne possono avere quante se ne vuole.\n",
        "- `else`: esegue un blocco di codice **se** nessuna delle condizioni precedenti (`if` o `elif`) era vera. È opzionale e ce ne può essere solo una, alla fine."
      ]
    },
    {
      "cell_type": "code",
      "execution_count": null,
      "metadata": {
        "execution_count": null,
        "id": "Rpq-5FaziRDl",
        "outputs": []
      },
      "outputs": [],
      "source": [
        "# Combiniamo cicli e condizioni per classificare la qualità di un reservoir\n",
        "porosita_misure = [0.15, 0.22, 0.08, 0.19]\n",
        "print(\"--- Valutazione Qualità Reservoir ---\")\n",
        "for p in porosita_misure:\n",
        "    if p >= 0.20:\n",
        "        qualita = \"Eccellente\"\n",
        "    elif p >= 0.15:\n",
        "        qualita = \"Buona\"\n",
        "    else:\n",
        "        qualita = \"Sufficiente/Scarsa\"\n",
        "    print(f\"Porosità {p:.2f} -> Qualità: {qualita}\")"
      ]
    },
    {
      "cell_type": "markdown",
      "metadata": {
        "id": "LS34osqpj-TR"
      },
      "source": [
        "### **Esercizio Pratico: Combinare Cicli e Condizioni - I Numeri Primi**\n",
        "\n",
        "Questo esercizio è più impegnativo dei precedenti e ci richiederà di combinare tutto ciò che abbiamo visto finora: cicli `for` annidati, `range()` e condizioni `if`.\n",
        "\n",
        "**Obiettivo:** Scrivere uno script che trovi e stampi tutti i numeri primi compresi tra 2 e 100 (incluso).\n",
        "\n",
        "**Cos'è un numero primo?**\n",
        "Un numero primo è un numero intero maggiore di 1 che è divisibile solo per 1 e per se stesso.\n",
        "- Esempi: 2, 3, 5, 7, 11...\n",
        "- Non sono primi: 4 (divisibile per 2), 6 (divisibile per 2 e 3), 9 (divisibile per 3).\n",
        "\n",
        "**Logica da implementare:**\n",
        "Per ogni numero `n` nell'intervallo da 2 a 100, dobbiamo verificare se è primo. Come?\n",
        "1.  Iteriamo su `n` da 2 a 100 (ciclo esterno).\n",
        "2.  Per ogni `n`, assumiamo che sia primo fino a prova contraria.\n",
        "3.  Proviamo a dividere `n` per tutti i numeri `d` che vanno da 2 fino a `n-1` (ciclo interno).\n",
        "4.  Se troviamo anche un solo divisore `d` per cui il resto della divisione `n % d` è uguale a 0, allora `n` non è primo. Possiamo interrompere il ciclo interno e passare al prossimo numero `n`.\n",
        "5.  Se il ciclo interno termina senza aver trovato nessun divisore, allora `n` è veramente un numero primo e possiamo stamparlo.\n",
        "\n",
        "L'operatore **modulo** (`%`) è la chiave qui: `a % b` restituisce il resto della divisione tra `a` e `b`.\n"
      ]
    },
    {
      "cell_type": "code",
      "execution_count": null,
      "metadata": {
        "id": "30VesCAKj-TR"
      },
      "outputs": [],
      "source": [
        "# Definiamo l'intervallo in cui cercare i numeri primi\n",
        "limite_superiore = 100\n",
        "\n",
        "print(f\"--- Numeri Primi da 2 a {limite_superiore} ---\")\n"
      ]
    },
    {
      "cell_type": "markdown",
      "metadata": {
        "id": "n4APVqeImY4k"
      },
      "source": [
        "### **2.6 Un Modo più Elegante per Creare Liste: Le *List Comprehension***\n",
        "\n",
        "Ora che abbiamo familiarità con la creazione di liste e l'uso dei cicli `for` per popolarle, vedremo un nuovo metodo per fare entrambe le cose contemporaneamente: la **list comprehension**.\n",
        "\n",
        "In Python, una lista è spesso formata da elementi provenienti da un'altra sequenza (come un'altra lista) su cui sono state svolte delle operazioni. Ad esempio, supponiamo di avere una lista di misure di profondità in metri e di volerne creare una nuova con i valori convertiti in piedi.\n",
        "\n",
        "La prima cosa che ci verrebbe in mente, con gli strumenti visti finora, è:\n",
        "1.  Creare una lista vuota.\n",
        "2.  Usare un ciclo `for` per scorrere la lista originale.\n",
        "3.  All'interno del ciclo, calcolare il nuovo valore e aggiungerlo alla nuova lista con `.append()`."
      ]
    },
    {
      "cell_type": "code",
      "execution_count": null,
      "metadata": {
        "execution_count": null,
        "id": "UABiakfYmVBF",
        "outputs": []
      },
      "outputs": [],
      "source": [
        "# Metodo \"classico\" per convertire unità di misura\n",
        "profondita_metri = [120.5, 250.2, 375.8, 510.0]\n",
        "profondita_piedi = [] # 1. Lista vuota\n",
        "\n",
        "COEFFICIENTE_CONVERSIONE = 3.28084\n",
        "\n",
        "# 2. Ciclo for\n",
        "for prof_m in profondita_metri:\n",
        "    # 3. Calcolo e append\n",
        "    prof_ft = prof_m * COEFFICIENTE_CONVERSIONE\n",
        "    profondita_piedi.append(prof_ft)\n",
        "\n",
        "print(profondita_piedi)"
      ]
    },
    {
      "cell_type": "markdown",
      "metadata": {
        "id": "kJ1AwB0BmScI"
      },
      "source": [
        "Funziona perfettamente, ma richiede tre righe di codice per un'operazione concettualmente molto semplice. Vediamo ora come possiamo ottenere lo stesso identico risultato, ma impiegando stavolta una list comprehension:"
      ]
    },
    {
      "cell_type": "code",
      "execution_count": null,
      "metadata": {
        "execution_count": null,
        "id": "F41VD7QRmQLn",
        "outputs": []
      },
      "outputs": [],
      "source": [
        "# Lo stesso risultato con una list comprehension\n",
        "profondita_metri = [120.5, 250.2, 375.8, 510.0]\n",
        "COEFFICIENTE_CONVERSIONE = 3.28084\n",
        "\n",
        "profondita_piedi_comp = [prof_m * COEFFICIENTE_CONVERSIONE for prof_m in profondita_metri]\n",
        "\n",
        "print(profondita_piedi_comp)"
      ]
    },
    {
      "cell_type": "markdown",
      "metadata": {
        "id": "BXDZCj2dmNrM"
      },
      "source": [
        "Da una parte abbiamo usato tre righe di codice, mentre qui, semplicemente **una**. Inoltre, la sintassi è quasi una traduzione diretta del linguaggio parlato: `[calcola il valore in piedi PER ogni profondità NELLA lista dei metri]`.\n",
        "\n",
        "La sintassi generale di una list comprehension è:\n",
        "`nuova_lista = [<espressione> for <elemento> in <lista_originale>]`\n",
        "\n",
        "All'interno delle parentesi quadre, che definiscono la nuova lista, mettiamo prima l'**espressione** che genera i nuovi elementi, e poi il **ciclo `for`** che ci dice su cosa iterare."
      ]
    },
    {
      "cell_type": "markdown",
      "metadata": {
        "id": "-cm1cypRmI9F"
      },
      "source": [
        "#### **List Comprehension con Condizioni**\n",
        "La potenza delle list comprehension non si ferma qui. Possiamo anche aggiungere una condizione `if` per filtrare gli elementi da includere nella nuova lista.\n",
        "\n",
        "Supponiamo di avere una lista di campioni di roccia e di voler creare una nuova lista contenente solo le rocce sedimentarie (es. \"Arenaria\", \"Calcare\").\n",
        "\n",
        "Con il metodo classico, faremmo così:"
      ]
    },
    {
      "cell_type": "code",
      "execution_count": null,
      "metadata": {
        "execution_count": null,
        "id": "GLIM7mJQmFiS",
        "outputs": []
      },
      "outputs": [],
      "source": [
        "# Metodo classico con condizione if\n",
        "campioni_carota = [\"Granito\", \"Arenaria\", \"Scisto\", \"Calcare\", \"Basalto\"]\n",
        "rocce_sedimentarie = []\n",
        "\n",
        "for roccia in campioni_carota:\n",
        "    if roccia == \"Arenaria\" or roccia == \"Calcare\":\n",
        "        rocce_sedimentarie.append(roccia)\n",
        "\n",
        "print(rocce_sedimentarie)"
      ]
    },
    {
      "cell_type": "markdown",
      "metadata": {
        "id": "rKVX8QcTmCNx"
      },
      "source": [
        "Ed ecco la versione con la list comprehension. La condizione `if` viene semplicemente aggiunta alla fine, prima della parentesi quadra di chiusura."
      ]
    },
    {
      "cell_type": "code",
      "execution_count": null,
      "metadata": {
        "execution_count": null,
        "id": "RsEfDcG6l87v",
        "outputs": []
      },
      "outputs": [],
      "source": [
        "# Lo stesso risultato con una list comprehension e una condizione if\n",
        "campioni_carota = [\"Granito\", \"Arenaria\", \"Scisto\", \"Calcare\", \"Basalto\"]\n",
        "\n",
        "rocce_sedimentarie_comp = [roccia for roccia in campioni_carota if roccia == \"Arenaria\" or roccia == \"Calcare\"]\n",
        "\n",
        "print(rocce_sedimentarie_comp)"
      ]
    },
    {
      "cell_type": "markdown",
      "metadata": {
        "id": "8sDjYF5Rl9XM"
      },
      "source": [
        "La sintassi diventa quindi:\n",
        "`nuova_lista = [<espressione> for <elemento> in <lista_originale> if <condizione>]`\n",
        "\n",
        "Anche in questo caso, la leggibilità è altissima: `[prendi la roccia PER ogni roccia NELLA carota SE la roccia è Arenaria o Calcare]`."
      ]
    },
    {
      "cell_type": "markdown",
      "metadata": {
        "id": "1KZxd51fl5me"
      },
      "source": [
        "#### **List Comprehension con Cicli Annidati**\n",
        "Infine, possiamo gestire anche logiche più complesse, come quelle che richiederebbero cicli `for` annidati.\n",
        "\n",
        "Supponiamo di avere una lista di possibili rocce sorgente e una di possibili rocce serbatoio in un bacino. Vogliamo creare una lista di tutte le possibili coppie (sistemi petroliferi), ma solo se la roccia sorgente è diversa da quella serbatoio (un caso raro ma possibile).\n",
        "\n",
        "Il metodo classico richiederebbe due cicli `for` e una condizione `if`."
      ]
    },
    {
      "cell_type": "code",
      "execution_count": null,
      "metadata": {
        "execution_count": null,
        "id": "XLk9Cw66l2bl",
        "outputs": []
      },
      "outputs": [],
      "source": [
        "# Metodo classico con cicli annidati\n",
        "rocce_sorgente = [\"Argillite\", \"Marna\"]\n",
        "rocce_serbatoio = [\"Arenaria\", \"Argillite\", \"Calcare\"]\n",
        "sistemi_petroliferi = []\n",
        "\n",
        "for sorgente in rocce_sorgente:\n",
        "    for serbatoio in rocce_serbatoio:\n",
        "        if sorgente != serbatoio:\n",
        "            sistemi_petroliferi.append( (sorgente, serbatoio) ) # Aggiungiamo una tupla\n",
        "\n",
        "print(sistemi_petroliferi)"
      ]
    },
    {
      "cell_type": "markdown",
      "metadata": {
        "id": "FdvG4_telzs1"
      },
      "source": [
        "Oppure, molto più semplicemente, possiamo usare una list comprehension. I cicli `for` e la condizione `if` vengono scritti uno dopo l'altro, nello stesso ordine in cui apparirebbero nella versione classica."
      ]
    },
    {
      "cell_type": "code",
      "execution_count": null,
      "metadata": {
        "execution_count": null,
        "id": "cta9C_yNlwOW",
        "outputs": []
      },
      "outputs": [],
      "source": [
        "# Lo stesso risultato con una list comprehension annidata\n",
        "rocce_sorgente = [\"Argillite\", \"Marna\"]\n",
        "rocce_serbatoio = [\"Arenaria\", \"Argillite\", \"Calcare\"]\n",
        "\n",
        "sistemi_petroliferi_comp = [(sorgente, serbatoio) for sorgente in rocce_sorgente for serbatoio in rocce_serbatoio if sorgente != serbatoio]\n",
        "\n",
        "print(sistemi_petroliferi_comp)"
      ]
    },
    {
      "cell_type": "markdown",
      "metadata": {
        "id": "poboGHBYj-TS"
      },
      "source": [
        "### **Esercizio Pratico: Filtro e Trasformazione Dati con List Comprehension**\n",
        "\n",
        "Abbiamo appena visto come le list comprehension possano sostituire i cicli `for` per creare nuove liste in modo più conciso. Ora mettiamole alla prova con un tipico scenario di analisi dati: filtrare e trasformare una collezione di campioni.\n",
        "\n",
        "L'obiettivo è dimostrare come operazioni complesse di manipolazione di liste possano essere scritte in una singola, leggibile riga di codice.\n",
        "\n",
        "**Dati di partenza:**\n",
        "Useremo una **lista di liste**. Ogni lista interna rappresenta un campione e contiene i suoi dati in un ordine fisso:\n",
        "`[ID_Campione, percentuale_SiO2, percentuale_MgO, Localita]`"
      ]
    },
    {
      "cell_type": "code",
      "execution_count": null,
      "metadata": {
        "id": "eT-cWbJ_j-TS"
      },
      "outputs": [],
      "source": [
        "# I nostri dati: una lista di liste\n",
        "# Ogni lista interna: [ID, SiO2, MgO, Localita]\n",
        "dataset_campioni = [\n",
        "    [\"S1\", 50.1, 7.5, \"Etna\"],\n",
        "    [\"S2\", 68.2, 1.2, \"Sardegna\"],\n",
        "    [\"S3\", 42.0, 25.8, \"Alpi\"],\n",
        "    [\"S4\", 72.5, 0.8, \"Toscana\"]\n",
        "]"
      ]
    },
    {
      "cell_type": "markdown",
      "metadata": {
        "id": "yh1Sr02nj-TS"
      },
      "source": [
        "#### **Compito 1: Estrarre una lista di tutti gli ID dei campioni**\n",
        "\n",
        "**Obiettivo:** Creare una nuova lista che contenga solo il primo elemento (l'ID, all'indice 0) di ogni lista interna.\n",
        "\n",
        "**Metodo classico (per confronto):**\n",
        "```python\n",
        "# ids_campioni = []\n",
        "# for campione in dataset_campioni:\n",
        "#     ids_campioni.append(campione[0]) # Accediamo all'elemento con indice 0\n",
        "```\n",
        "Ora, scriviamo la soluzione in una sola riga usando una list comprehension.\n"
      ]
    },
    {
      "cell_type": "code",
      "execution_count": null,
      "metadata": {
        "id": "U9Q-AVP7j-TS"
      },
      "outputs": [],
      "source": [
        "# Scrivi qui la tua list comprehension per estrarre gli ID"
      ]
    },
    {
      "cell_type": "markdown",
      "metadata": {
        "id": "cU1YyuAuj-TS"
      },
      "source": [
        "#### **Compito 2: Filtrare i campioni \"Felsici\"**\n",
        "\n",
        "**Obiettivo:** Creare una *nuova lista di liste* che contenga solo i campioni considerati \"felsici\". Per questo esercizio, definiamo \"felsico\" un campione con una percentuale di `sio2` (all'indice 1) **maggiore del 65%**.\n",
        "\n",
        "**Metodo classico (per confronto):**\n",
        "```python\n",
        "# campioni_felsici = []\n",
        "# for campione in dataset_campioni:\n",
        "#     if campione[1] > 65: # Controlliamo il valore all'indice 1\n",
        "#         campioni_felsici.append(campione)\n",
        "```\n",
        "\n",
        "Scriviamo ora la soluzione usando una list comprehension con una condizione `if`."
      ]
    },
    {
      "cell_type": "code",
      "execution_count": null,
      "metadata": {
        "id": "b3cuF3Ouj-TT"
      },
      "outputs": [],
      "source": [
        "# Scrivi qui la tua list comprehension per filtrare i campioni felsici"
      ]
    },
    {
      "cell_type": "markdown",
      "metadata": {
        "id": "keoqvy94j-TT"
      },
      "source": [
        "#### **Compito 3: Estrarre gli ID dei campioni \"Mafici\" (Filtro + Trasformazione)**\n",
        "\n",
        "**Obiettivo:** Questo è il compito più completo. Vogliamo unire le due logiche precedenti: dobbiamo **filtrare** i campioni in base a una condizione e poi **trasformare** il risultato. Vogliamo una lista contenente solo gli **ID** (all'indice 0) dei campioni \"mafici\". Per questo esercizio, definiamo \"mafico\" un campione con una percentuale di `MgO` (all'indice 2) **maggiore del 5%**.\n",
        "\n",
        "**Metodo classico (per confronto):**\n",
        "```python\n",
        "# ids_mafici = []\n",
        "# for campione in dataset_campioni:\n",
        "#     if campione[2] > 5: # Filtriamo in base al valore all'indice 2\n",
        "#         ids_mafici.append(campione[0]) # Aggiungiamo il valore all'indice 0\n",
        "```\n",
        "Riusciamo a fare tutto questo in una sola riga?"
      ]
    },
    {
      "cell_type": "code",
      "execution_count": null,
      "metadata": {
        "id": "1MtWZJeHj-TT"
      },
      "outputs": [],
      "source": [
        "# Scrivi qui la tua list comprehension per filtrare e trasformare"
      ]
    },
    {
      "cell_type": "markdown",
      "metadata": {
        "id": "9m47giBpj-TT"
      },
      "source": [
        "### **Riepilogo dell'Esercizio**\n",
        "\n",
        "Avete appena visto come operazioni di filtro e trasformazione, che con il metodo classico avrebbero richiesto un ciclo `for` di 3-4 righe, una condizione `if` e un `.append()`, possano essere realizzate in una **singola riga di codice**.\n",
        "\n",
        "Questo non è solo un vezzo stilistico: è considerato il modo **\"Pythonico\"** di lavorare con le liste. È più leggibile (una volta capita la sintassi), meno propenso a errori e spesso anche più efficiente. Padroneggiare le list comprehension è un passo fondamentale per scrivere codice Python di alta qualità."
      ]
    },
    {
      "cell_type": "markdown",
      "metadata": {
        "id": "L_Ofo6gdiLtB"
      },
      "source": [
        "## **3. Scrivere Codice Riutilizzabile: Le Funzioni**\n",
        "\n",
        "Quando scriviamo del codice per eseguire un compito specifico (es. un calcolo), è una buona pratica \"impacchettarlo\" in una **funzione**. Una funzione è un blocco di codice nominato e riutilizzabile.\n",
        "- Si definisce con la parola chiave `def`.\n",
        "- Può accettare dati in input (i **parametri** o **argomenti**).\n",
        "- Può restituire un risultato con l'istruzione `return`.\n",
        "- È buona norma includere una **docstring** `\"\"\"...\"\"\"` per spiegare cosa fa.\n",
        "\n",
        "Questo approccio rende il codice più pulito, più facile da leggere e da correggere."
      ]
    },
    {
      "cell_type": "code",
      "execution_count": null,
      "metadata": {
        "execution_count": null,
        "id": "hQJ92OkDiHia",
        "outputs": []
      },
      "outputs": [],
      "source": [
        "# Definiamo una funzione per calcolare l'area di un cerchio\n",
        "def calculateCircleArea(radius):\n",
        "    \"\"\"Calcola l'area di un cerchio dato il suo raggio.\"\"\"\n",
        "    piApprox = 3.14159\n",
        "    area = piApprox * radius**2\n",
        "    return area\n",
        "\n",
        "# Ora \"chiamiamo\" la funzione con argomenti diversi\n",
        "radiusOne = 5.0\n",
        "areaOne = calculateCircleArea(radiusOne)\n",
        "print(\"L'area di un cerchio con raggio\", radiusOne, \"è\", areaOne)\n",
        "\n",
        "radiusTwo = 2.5\n",
        "areaTwo = calculateCircleArea(radiusTwo)\n",
        "# Usiamo una f-string per una stampa più pulita\n",
        "print(f\"L'area di un cerchio con raggio {radiusTwo} è {areaTwo}\")"
      ]
    },
    {
      "cell_type": "markdown",
      "metadata": {
        "id": "2QX9oEE4iD_u"
      },
      "source": [
        "#### **Funzioni senza Valore di Ritorno**\n",
        "Non tutte le funzioni devono restituire un valore. Alcune eseguono semplicemente un'azione, come stampare un messaggio. Se una funzione non ha un'istruzione `return`, o ha `return` senza un valore, implicitamente restituisce il valore speciale `None`."
      ]
    },
    {
      "cell_type": "code",
      "execution_count": null,
      "metadata": {
        "execution_count": null,
        "id": "nKs9HvV6iBSs",
        "outputs": []
      },
      "outputs": [],
      "source": [
        "def greet(name):\n",
        "    \"\"\"Stampa un messaggio di saluto.\"\"\"\n",
        "    print(\"Hello,\", name, \"!\")\n",
        "\n",
        "# Chiamiamo la funzione, che esegue l'azione di stampa\n",
        "greet(\"World\")\n",
        "\n",
        "# Se proviamo a salvare il risultato, vedremo che è None\n",
        "returnedValue = greet(\"Student\")\n",
        "print(\"Valore restituito da greet():\", returnedValue)"
      ]
    },
    {
      "cell_type": "markdown",
      "metadata": {
        "id": "7gW9B9gej-TT"
      },
      "source": [
        "#### **Lo Spazio di Lavoro di una Funzione: Variabili Locali vs. Globali**\n",
        "\n",
        "Una delle caratteristiche più importanti delle funzioni è che creano uno **spazio di lavoro isolato**, una sorta di \"stanza\" separata dal resto dello script. Le variabili create *all'interno* di una funzione sono chiamate **variabili locali** e vivono solo dentro quella funzione. Non sono visibili né possono essere modificate dall'esterno.\n",
        "\n",
        "Allo stesso modo, le variabili create all'esterno, nel corpo principale dello script, sono chiamate **variabili globali**.\n",
        "\n",
        "Vediamo come interagiscono:\n",
        "\n",
        "1.  **Visibilità dall'interno verso l'esterno:** Una funzione può **leggere** il valore di una variabile globale, ma non dovrebbe (e in genere non può direttamente) modificarla.\n",
        "2.  **Visibilità dall'esterno verso l'interno:** Lo script principale **non può vedere** le variabili locali create all'interno di una funzione. Appena la funzione termina la sua esecuzione, tutte le sue variabili locali vengono distrutte.\n",
        "\n",
        "Questo isolamento è un enorme vantaggio: ci permette di scrivere funzioni riutilizzabili senza preoccuparci che i nomi delle variabili interne possano entrare in conflitto con variabili omonime presenti nel resto del nostro codice.\n"
      ]
    },
    {
      "cell_type": "code",
      "execution_count": null,
      "metadata": {
        "id": "A_ZCsZIXj-TT"
      },
      "outputs": [],
      "source": [
        "# --- Esempio 1: Le variabili interne sono invisibili all'esterno ---\n",
        "\n",
        "def calcola_proprieta_roccia(volume, densita):\n",
        "    # 'massa' è una variabile LOCALE. Esiste solo qui dentro.\n",
        "    massa = volume * densita\n",
        "    print(f\"All'interno della funzione, la massa calcolata è: {massa}\")\n",
        "    return massa\n",
        "\n",
        "# Definiamo una variabile globale\n",
        "densita_basalto = 2.9 # g/cm^3\n",
        "\n",
        "# Chiamiamo la funzione\n",
        "massa_calcolata = calcola_proprieta_roccia(10, densita_basalto)\n",
        "\n",
        "print(f\"La funzione ha restituito il valore: {massa_calcolata}\")\n",
        "\n",
        "# Ora proviamo ad accedere alla variabile 'massa' dall'esterno...\n",
        "# Togli il commento dalla riga seguente per vedere l'errore!\n",
        "# print(massa)\n",
        "# Otterrai un NameError, perché 'massa' non esiste in questo scope globale."
      ]
    },
    {
      "cell_type": "markdown",
      "metadata": {
        "id": "kHhWw2ACj-TT"
      },
      "source": [
        "### **Come le funzioni modificano i dati? Con il `return`!**\n",
        "\n",
        "Se una funzione non può modificare direttamente le variabili esterne, come facciamo a usare i risultati dei suoi calcoli? La risposta è nell'istruzione **`return`**.\n",
        "\n",
        "Il modo corretto per interagire con una funzione è:\n",
        "1.  Passare i dati necessari come **argomenti**.\n",
        "2.  Lasciare che la funzione esegua i suoi calcoli internamente.\n",
        "3.  La funzione **restituisce** il risultato finale.\n",
        "4.  Lo script principale cattura questo valore restituito e lo assegna a una propria variabile.\n",
        "\n",
        "Questo flusso di \"input -> processo -> output\" è la base della programmazione modulare e pulita."
      ]
    },
    {
      "cell_type": "code",
      "execution_count": null,
      "metadata": {
        "id": "im3dkY31j-TT"
      },
      "outputs": [],
      "source": [
        "# --- Esempio 2: Modificare lo stato globale nel modo CORRETTO ---\n",
        "\n",
        "# Stato globale del nostro programma\n",
        "profondita_attuale = 100.0 # metri\n",
        "\n",
        "def simula_avanzamento_scavo(profondita_partenza, avanzamento):\n",
        "    \"\"\"Calcola la nuova profondità dopo uno scavo.\"\"\"\n",
        "    # 'nuova_profondita' è una variabile locale\n",
        "    nuova_profondita = profondita_partenza + avanzamento\n",
        "    # La funzione comunica il risultato all'esterno tramite 'return'\n",
        "    return nuova_profondita\n",
        "\n",
        "# 1. Passiamo lo stato attuale come argomento\n",
        "# 2. Catturiamo il valore restituito\n",
        "# 3. Aggiorniamo la nostra variabile globale con il nuovo valore\n",
        "profondita_attuale = simula_avanzamento_scavo(profondita_attuale, 25.5)\n",
        "\n",
        "print(f\"La nuova profondità dopo lo scavo è: {profondita_attuale} m\")\n",
        "\n",
        "# Lo stato del nostro programma è stato aggiornato correttamente, ma\n",
        "# senza che la funzione \"toccasse\" direttamente le variabili esterne."
      ]
    },
    {
      "cell_type": "markdown",
      "metadata": {
        "id": "JS0xiMNNj-TU"
      },
      "source": [
        "## **Esercizio Finale: Unire Tutti i Concetti - Report Idrogeologico**\n",
        "\n",
        "È il momento di mettere insieme tutto ciò che abbiamo imparato in questa lezione. In questo esercizio finale, abbandoneremo le semplici liste di liste per usare una struttura dati molto più professionale e comune nel mondo reale: una **lista di dizionari**.\n",
        "\n",
        "Ogni dizionario rappresenterà un singolo campione e le sue chiavi ci diranno esplicitamente cosa rappresenta ogni valore, rendendo il codice molto più leggibile rispetto all'uso di indici numerici.\n",
        "\n",
        "**Lo Scenario:**\n",
        "Siamo idrogeologi e abbiamo ricevuto dal laboratorio i dati di una campagna di campionamento. Dobbiamo generare un report rapido per il cliente che mostri la classificazione di ogni pozzo basata sulla salinità (TDS - Total Dissolved Solids).\n",
        "\n",
        "**I Dati (Lista di Dizionari):**\n",
        "Avremo una lista chiamata `dati_laboratorio`. Ogni elemento della lista è un dizionario con questa struttura:\n",
        "```python\n",
        "{\n",
        "    \"id_pozzo\": \"PZ-104\",\n",
        "    \"profondita_m\": 250,\n",
        "    \"tds_ppm\": 11500,\n",
        "    \"data\": \"2023-11-05\"\n",
        "}\n",
        "```\n",
        "\n",
        "**Obiettivi:**\n",
        "1.  **Funzione Ausiliaria di Classificazione:** Scrivere una funzione che prenda in input *solo* un valore numerico di TDS e restituisca la sua classificazione (stringa) secondo questa logica standard:\n",
        "    *   TDS < 1,000 ppm: `\"Acqua Dolce\"`\n",
        "    *   1,000 <= TDS < 10,000 ppm: `\"Acqua Salmastra\"`\n",
        "    *   TDS >= 10,000 ppm: `\"Acqua Salina\"`\n",
        "2.  **Funzione Principale di Report:** Scrivere una funzione che prenda in input l'intera lista di dizionari e stampi un report formattato.\n",
        "    *   Deve usare un ciclo `for` per esaminare ogni campione.\n",
        "    *   *Bonus:* Usa `enumerate()` nel ciclo per mostrare anche un numero progressivo di riga nel report (es. `#1`, `#2`...).\n",
        "    *   Deve chiamare la funzione ausiliaria per ottenere la classificazione di ogni singolo campione.\n"
      ]
    },
    {
      "cell_type": "code",
      "source": [
        "# --- Dati di Partenza (Lista di Dizionari) ---\n",
        "dati_laboratorio = [\n",
        "    {\"id_pozzo\": \"PZ-01\", \"profondita_m\": 50,  \"tds_ppm\": 450,   \"data\": \"2023-10-01\"},\n",
        "    {\"id_pozzo\": \"PZ-02\", \"profondita_m\": 120, \"tds_ppm\": 1800,  \"data\": \"2023-10-02\"},\n",
        "    {\"id_pozzo\": \"PZ-03\", \"profondita_m\": 80,  \"tds_ppm\": 950,   \"data\": \"2023-10-02\"},\n",
        "    {\"id_pozzo\": \"PZ-04\", \"profondita_m\": 350, \"tds_ppm\": 12500, \"data\": \"2023-10-03\"},\n",
        "    {\"id_pozzo\": \"PZ-05\", \"profondita_m\": 150, \"tds_ppm\": 5600,  \"data\": \"2023-10-04\"}\n",
        "]\n",
        "\n",
        "# --- 1. Funzione Ausiliaria ---\n",
        "def classifica_tds(valore_tds):\n",
        "    \"\"\"\n",
        "    Restituisce la classificazione dell'acqua basata sul valore TDS.\n",
        "    \"\"\"\n",
        "    # COMPLETA TU: Implementa la logica if/elif/else\n",
        "    # Se valore_tds < 1000 restituisci \"Acqua Dolce\", ecc.\n",
        "    pass\n",
        "\n",
        "# --- 2. Funzione Principale ---\n",
        "def genera_report_completo(lista_campioni):\n",
        "    \"\"\"\n",
        "    Stampa un report tabellare processando una lista di dizionari.\n",
        "    \"\"\"\n",
        "    print(f\"{'#':<3} {'ID Pozzo':<10} {'Prof. (m)':<10} {'TDS (ppm)':<10} {'Classificazione':<15}\")\n",
        "    print(\"-\" * 50)\n",
        "\n",
        "    # COMPLETA TU:\n",
        "    # 1. Inizia un ciclo for. Suggerimento: usa 'enumerate(lista_campioni)' per avere sia l'indice che il dizionario.\n",
        "    #    es: for i, campione in enumerate(lista_campioni):\n",
        "    # 2. Estrai i dati necessari dal dizionario 'campione' usando le chiavi (es. campione[\"tds_ppm\"]).\n",
        "    # 3. Chiama la funzione 'classifica_tds()' passando il valore di TDS appena estratto.\n",
        "    # 4. Stampa la riga formattata usando una f-string.\n",
        "    pass\n",
        "\n",
        "# --- Esecuzione ---\n",
        "genera_report_completo(dati_laboratorio)"
      ],
      "metadata": {
        "id": "Db-4bzJBkEIl"
      },
      "execution_count": null,
      "outputs": []
    }
  ],
  "metadata": {
    "colab": {
      "provenance": [],
      "include_colab_link": true
    },
    "kernelspec": {
      "display_name": "Python 3 (ipykernel)",
      "language": "python",
      "name": "python3"
    },
    "language_info": {
      "codemirror_mode": {
        "name": "ipython",
        "version": 3
      },
      "file_extension": ".py",
      "mimetype": "text/x-python",
      "name": "python",
      "nbconvert_exporter": "python",
      "pygments_lexer": "ipython3",
      "version": "3.13.2"
    }
  },
  "nbformat": 4,
  "nbformat_minor": 0
}