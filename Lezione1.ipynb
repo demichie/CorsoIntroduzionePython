{
  "nbformat": 4,
  "nbformat_minor": 0,
  "metadata": {
    "colab": {
      "provenance": [],
      "authorship_tag": "ABX9TyOkv9F3IqLIGtlN1MuCqJTk",
      "include_colab_link": true
    },
    "kernelspec": {
      "name": "python3",
      "display_name": "Python 3"
    },
    "language_info": {
      "name": "python"
    }
  },
  "cells": [
    {
      "cell_type": "markdown",
      "metadata": {
        "id": "view-in-github",
        "colab_type": "text"
      },
      "source": [
        "<a href=\"https://colab.research.google.com/github/demichie/CorsoIntroduzionePython/blob/main/Lezione1.ipynb\" target=\"_parent\"><img src=\"https://colab.research.google.com/assets/colab-badge.svg\" alt=\"Open In Colab\"/></a>"
      ]
    },
    {
      "cell_type": "markdown",
      "source": [
        "# **Lezione 1: I Fondamenti Completi di Python per le Geoscienze**\n",
        "\n",
        "Benvenuti alla prima lezione del nostro corso. Oggi getteremo le fondamenta che ci permetteranno di utilizzare Python come un potente strumento per l'analisi e l'automazione nelle Scienze della Terra. L'obiettivo non è solo imparare comandi a memoria, ma capire la logica che sta dietro la programmazione.\n",
        "\n",
        "Questo Jupyter Notebook sarà la nostra guida interattiva. Il testo nelle celle come questa (celle **Markdown**) spiegherà i concetti teorici, mentre le celle sottostanti (celle **Codice**) vi permetteranno di eseguire gli esempi e sperimentare in prima persona.\n",
        "\n",
        "**Obiettivi dettagliati della Lezione 1:**\n",
        "1.  **Sintassi e Struttura di Base:** Variabili, tipi di dati, l'importanza critica dell'indentazione, commenti e come gestire righe di codice lunghe.\n",
        "2.  **Strutture Dati:**\n",
        "    *   **Liste:** Creazione, indicizzazione (positiva e negativa), slicing, mutabilità, e il concetto cruciale di riferimenti vs. copie.\n",
        "    *   **Dizionari:** Strutturare dati complessi con coppie chiave-valore.\n",
        "3.  **Controllo del Flusso e Iterazione:**\n",
        "    *   Il ciclo `for` per automatizzare compiti ripetitivi.\n",
        "    *   La funzione `range()` per generare sequenze numeriche.\n",
        "    *   Le condizioni `if`, `elif`, `else` per creare codice che prende decisioni.\n",
        "4.  **Modularità e Riusabilità:**\n",
        "    *   Definire e chiamare **funzioni** per organizzare il codice e renderlo riutilizzabile.\n"
      ],
      "metadata": {
        "id": "EJvx6V9Thqyt"
      }
    },
    {
      "cell_type": "markdown",
      "source": [
        "## **1. Sintassi Essenziale di Python: Le Regole del Gioco**\n",
        "*(Riferimento: Sezione 2.2.3 del capitolo)*\n",
        "\n",
        "### **1.1 Variabili e Assegnazione: Dare un Nome ai Dati**\n",
        "In qualsiasi analisi, lavoriamo con dei dati: una temperatura, una profondità, il nome di una località. Per poterli manipolare, dobbiamo prima memorizzarli nel computer. Una **variabile** è un nome che associamo a un valore in memoria. In Python, l'assegnazione di un valore a una variabile si effettua con l'operatore `=`.\n",
        "\n",
        "Una delle caratteristiche più comode di Python è la **tipizzazione dinamica**. Questo significa che non dobbiamo specificare in anticipo che tipo di dato conterrà una variabile (ad esempio, se sarà un numero intero o del testo). Python lo capisce da solo quando le assegniamo un valore. Questo contrasta con linguaggi a **tipizzazione statica** come C++ o Fortran, dove è obbligatorio dichiarare il tipo di ogni variabile, rendendo il codice più verboso.\n",
        "\n",
        "La funzione `print()` è il nostro strumento fondamentale per visualizzare il valore di una variabile. La funzione `type()` ci permette di ispezionare quale tipo di dato Python ha automaticamente inferito.\n"
      ],
      "metadata": {
        "id": "wXz3TK_vkxqY"
      }
    },
    {
      "cell_type": "code",
      "source": [
        "# Assegnazione di variabili in Python\n",
        "# Assegniamo diversi tipi di dati a delle variabili\n",
        "x = 3.0              # Python inferisce che x è un numero in virgola mobile (float)\n",
        "name = \"basalt\"      # Python inferisce che name è una stringa (str)\n",
        "is_volcano = True    # Python inferisce che is_volcano è un booleano (bool)\n",
        "count = 10           # Python inferisce che count è un intero (int)\n",
        "\n",
        "# Usiamo print() per mostrare sia il valore che il tipo di dato di una variabile\n",
        "print(x, type(x))\n",
        "print(name, type(name))\n"
      ],
      "metadata": {
        "id": "6IN3SnQMktbB"
      },
      "execution_count": null,
      "outputs": []
    },
    {
      "cell_type": "markdown",
      "source": [
        "### **1.2 L'Indentazione: Una Regola Sintattica, non Stilistica**\n",
        "A differenza della maggior parte dei linguaggi di programmazione che usano parentesi graffe `{}` o parole chiave come `end` per definire blocchi di codice, Python usa l'**indentazione**. Gli spazi all'inizio di una riga non sono opzionali o stilistici: sono parte integrante della sintassi e indicano quali righe di codice appartengono a un determinato blocco (ad esempio, il corpo di un ciclo o di una condizione). Un'istruzione che inizia un blocco (come `for` o `if`) termina sempre con due punti `:`.\n",
        "\n",
        "Un'indentazione scorretta provocherà un `IndentationError`. La convenzione ufficiale (PEP 8) è di usare **4 spazi per ogni livello di indentazione**.\n"
      ],
      "metadata": {
        "id": "Ynl-GHpIkrK5"
      }
    },
    {
      "cell_type": "code",
      "source": [
        "# Esempio di indentazione in Python\n",
        "\n",
        "# Esempio di un ciclo 'for' e una condizione 'if'\n",
        "# Notare i due punti (:) e l'indentazione (4 spazi)\n",
        "for i in range(3): # Il : inizia il blocco del ciclo for\n",
        "    print(\"Outer loop, i =\", i) # Questa riga è indentata, fa parte del ciclo\n",
        "    if i % 2 == 0: # Il : inizia il blocco della condizione if\n",
        "        print(\" i is even\") # Questa riga è ulteriormente indentata\n",
        "    else: # Il : inizia il blocco else\n",
        "        print(\" i is odd\") # Anche questa è indentata rispetto all'else\n",
        "\n",
        "print(\"Loop finished\") # Questa riga non è indentata, quindi è fuori dal ciclo for\n"
      ],
      "metadata": {
        "id": "ew4GzuW1km9G"
      },
      "execution_count": null,
      "outputs": []
    },
    {
      "cell_type": "markdown",
      "source": [
        "### **1.3 Commenti: Note a Margine nel Codice**\n",
        "I commenti sono porzioni di testo che vengono ignorate dall'interprete Python. Servono a noi umani per spiegare cosa fa il codice, rendendolo più comprensibile e manutenibile nel tempo.\n",
        "-   Un commento su una singola riga inizia con il simbolo `#`. Tutto ciò che segue il `#` su quella riga è un commento.\n",
        "-   Un commento su più righe, o una **docstring** (una stringa di documentazione speciale per le funzioni), è racchiuso tra tre virgolette `\"\"\" ... \"\"\"` o tre apici `''' ... '''`.\n"
      ],
      "metadata": {
        "id": "35rqs5xykkZD"
      }
    },
    {
      "cell_type": "code",
      "source": [
        "# Listing Commenti in Python\n",
        "\n",
        "# Questo è un commento su una singola riga che spiega l'assegnazione seguente\n",
        "gravity_g = 9.81 # m/s^2, standard gravity\n",
        "\n",
        "\"\"\"\n",
        "Questo è un commento\n",
        "che si estende\n",
        "su più righe.\n",
        "\"\"\"\n",
        "\n",
        "def calculate_area(radius):\n",
        "    \"\"\"Questa è una docstring. Spiega cosa fa la funzione.\"\"\"\n",
        "    return 3.14159 * radius**2\n",
        "\n",
        "print(\"La gravità standard è:\", gravity_g)\n",
        "print(\"Eseguendo la funzione calculate_area(10):\", calculate_area(10))\n"
      ],
      "metadata": {
        "id": "pg7q8wsZkgMU"
      },
      "execution_count": null,
      "outputs": []
    },
    {
      "cell_type": "markdown",
      "source": [
        "### **1.4 Lunghezza delle Righe e Continuazione**\n",
        "Per garantire la leggibilità, la guida di stile PEP 8 raccomanda di limitare la lunghezza delle righe di codice a 79 caratteri. Quando un'istruzione è troppo lunga per stare comodamente su una riga, Python ci offre due modi per spezzarla:\n",
        "\n",
        "**1. Continuazione Implicita (Metodo Preferito)**\n",
        "È il metodo più pulito e meno propenso a errori. Python unisce automaticamente le righe di codice che si trovano all'interno di parentesi tonde `()`, quadre `[]` o graffe `{}`. Questo è particolarmente utile per definire lunghe liste, dizionari o per chiamare funzioni con molti argomenti.\n"
      ],
      "metadata": {
        "id": "Ah4q_vMwkcX2"
      }
    },
    {
      "cell_type": "code",
      "source": [],
      "metadata": {
        "id": "RprfaxDMkdJW"
      },
      "execution_count": null,
      "outputs": []
    },
    {
      "cell_type": "code",
      "source": [
        "# Esempi di continuazione implicita\n",
        "\n",
        "# 1. Definizione di una lunga lista\n",
        "my_long_list = [\n",
        "    1, 2, 3, 4, 5, 6, 7, 8, 9, 10, 11, 12, 13, 14, 15,\n",
        "    16, 17, 18, 19, 20, # I commenti possono essere aggiunti anche qui\n",
        "]\n",
        "print(\"Lista lunga:\", my_long_list)\n",
        "\n",
        "\n",
        "# 2. Lunga espressione aritmetica dentro parentesi\n",
        "total_value = (100 + 200 + 300 +\n",
        "               400 + 500 + 600)\n",
        "print(\"Valore totale:\", total_value)\n",
        "\n",
        "# 3. Lunga definizione di un dizionario\n",
        "my_dictionary = {\n",
        "    \"key1\": \"very_long_value_that_makes_the_line_exceed_limit\",\n",
        "    \"key2\": \"another_value\",\n",
        "}\n",
        "print(\"Dizionario:\", my_dictionary)\n"
      ],
      "metadata": {
        "id": "rDD-W56JkYJR"
      },
      "execution_count": null,
      "outputs": []
    },
    {
      "cell_type": "markdown",
      "source": [
        "**2. Continuazione Esplicita (Metodo Meno Preferito)**\n",
        "È possibile forzare la continuazione di una riga usando il carattere backslash `\\` alla fine di essa. Questo dice a Python che l'istruzione continua sulla riga successiva. Questo metodo è meno comune e più fragile: un qualsiasi carattere, anche uno spazio, dopo il backslash provocherebbe un errore.\n"
      ],
      "metadata": {
        "id": "zrFk_gp8kURo"
      }
    },
    {
      "cell_type": "code",
      "source": [
        "# Esempi di continuazione esplicita\n",
        "\n",
        "# 1. Lunga istruzione di assegnazione con backslash\n",
        "x = 1 + 2 + 3 + \\\n",
        "    4 + 5 + 6 + \\\n",
        "    7 + 8 + 9\n",
        "print(\"Valore di x:\", x)\n",
        "\n",
        "# 2. Lunga condizione 'if' con backslash\n",
        "a_variable = 10\n",
        "another_variable = 20\n",
        "yet_another_variable = 30\n",
        "\n",
        "if a_variable > 5 and \\\n",
        "   another_variable < 30 and \\\n",
        "   yet_another_variable == 30:\n",
        "    print(\"Tutte le condizioni sono state soddisfatte!\")\n"
      ],
      "metadata": {
        "id": "ePZ_Dkq3kN3W"
      },
      "execution_count": null,
      "outputs": []
    },
    {
      "cell_type": "markdown",
      "source": [
        "## **2. Strutture Dati Fondamentali: Contenitori per i Dati**\n",
        "Finora abbiamo lavorato con dati singoli. La vera potenza della programmazione emerge quando gestiamo intere collezioni di dati. Le **liste** e i **dizionari** sono i contenitori più importanti in Python.\n",
        "\n",
        "### **2.1 Le Liste: Collezioni Ordinate e Modificabili**\n",
        "\n",
        "Immaginate di avere una serie di misure di porosità da un carotaggio. Invece di creare una variabile per ogni misura (`porosita1`, `porosita2`, ...), possiamo raggrupparle tutte in un'unica struttura dati: la **lista**.\n",
        "\n",
        "Una lista è una sequenza **ordinata** e **modificabile** (*mutabile*) di elementi.\n",
        "- **Ordinata**: Gli elementi mantengono l'ordine in cui li abbiamo inseriti.\n",
        "- **Modificabile**: Possiamo cambiare, aggiungere o rimuovere elementi dopo la creazione della lista.\n",
        "\n",
        "#### **Creazione di Liste**\n",
        "Una lista si crea racchiudendo una sequenza di elementi separati da virgole tra parentesi quadre `[]`. Una lista può contenere tipi di dati diversi, anche se è buona pratica (e spesso necessario per i calcoli) che contengano dati omogenei.\n"
      ],
      "metadata": {
        "id": "5fv4lKHykJhY"
      }
    },
    {
      "cell_type": "code",
      "source": [
        "# Creazione di liste in Python\n",
        "\n",
        "# Lista di temperature (float)\n",
        "temperatures = [15.5, 16.1, 15.8, 17.0]\n",
        "print(f\"Lista di temperature: {temperatures}\")\n",
        "\n",
        "# Lista di tipi di roccia (stringhe)\n",
        "rock_types = [\"basalt\", \"granite\", \"shale\", \"sandstone\"]\n",
        "print(f\"Lista di rocce: {rock_types}\")\n",
        "\n",
        "# Lista con tipi di dati misti\n",
        "mixed_data = [10, \"andesite\", 25.3, True]\n",
        "print(f\"Lista mista: {mixed_data}\")\n",
        "\n",
        "# Una lista può contenere altre liste (liste annidate)\n",
        "nested_list = [1, 2, [\"a\", \"b\"], 3]\n",
        "print(f\"Lista annidata: {nested_list}\")\n"
      ],
      "metadata": {
        "id": "tA4N70BhkDbC"
      },
      "execution_count": null,
      "outputs": []
    },
    {
      "cell_type": "markdown",
      "source": [
        "#### **Determinare la Lunghezza di una Lista**\n",
        "Per sapere quanti elementi ci sono in una lista, usiamo la funzione `len()`.\n"
      ],
      "metadata": {
        "id": "RhWO1wUCkAis"
      }
    },
    {
      "cell_type": "code",
      "source": [
        "# Uso della funzione len()\n",
        "\n",
        "num_rocks = len(rock_types)\n",
        "print(f\"La lista 'rock_types' contiene {num_rocks} elementi.\")\n",
        "\n",
        "length_nested = len(nested_list)\n",
        "# Nota: la lista interna [\"a\", \"b\"] viene contata come un singolo elemento!\n",
        "print(f\"La lista 'nested_list' contiene {length_nested} elementi.\")\n"
      ],
      "metadata": {
        "id": "A8Kab24fj8rN"
      },
      "execution_count": null,
      "outputs": []
    },
    {
      "cell_type": "markdown",
      "source": [
        "#### **Accesso agli Elementi: Indexing**\n",
        "Ogni elemento in una lista ha una posizione, chiamata **indice**. L'indicizzazione in Python, come in molti altri linguaggi, parte da **0**. Quindi, il primo elemento ha indice 0, il secondo ha indice 1, e così via. Per accedere a un elemento, usiamo il nome della lista seguito dall'indice tra parentesi quadre.\n"
      ],
      "metadata": {
        "id": "CN3kI0Jzj5_t"
      }
    },
    {
      "cell_type": "code",
      "source": [
        "# Accesso agli elementi con indici positivi\n",
        "\n",
        "rock_samples = [\"granite\", \"basalt\", \"shale\", \"sandstone\", \"limestone\"]\n",
        "print(\"Original list:\", rock_samples)\n",
        "\n",
        "# Accesso al primo elemento (indice 0)\n",
        "first_sample = rock_samples[0]\n",
        "print(f\"Primo campione (indice 0): {first_sample}\")\n",
        "\n",
        "# Accesso al terzo elemento (indice 2)\n",
        "third_sample = rock_samples[2]\n",
        "print(f\"Terzo campione (indice 2): {third_sample}\")\n",
        "\n",
        "\n"
      ],
      "metadata": {
        "id": "l7FPt11Hj04N"
      },
      "execution_count": null,
      "outputs": []
    },
    {
      "cell_type": "markdown",
      "source": [
        "#### **Indicizzazione Negativa**\n",
        "Python offre un modo molto comodo per accedere agli elementi partendo dalla fine della lista: l'indicizzazione negativa. L'indice `-1` si riferisce all'ultimo elemento, `-2` al penultimo, e così via. Questo è estremamente utile quando vogliamo l'ultimo elemento di una lista senza sapere in anticipo quanto sia lunga."
      ],
      "metadata": {
        "id": "NSSc-4Kojxk_"
      }
    },
    {
      "cell_type": "code",
      "source": [
        "# Accesso agli elementi con indici negativi\n",
        "\n",
        "elements = [\"Oxygen\", \"Silicon\", \"Aluminum\", \"Iron\", \"Calcium\"]\n",
        "print(\"Original list of elements:\", elements)\n",
        "\n",
        "# Accesso all'ultimo elemento\n",
        "last_element = elements[-1]\n",
        "print(f\"Ultimo elemento (indice -1): {last_element}\")\n",
        "\n",
        "# Accesso al penultimo elemento\n",
        "second_to_last = elements[-2]\n",
        "print(f\"Penultimo elemento (indice -2): {second_to_last}\")\n"
      ],
      "metadata": {
        "id": "4YIobB_zjp-7"
      },
      "execution_count": null,
      "outputs": []
    },
    {
      "cell_type": "markdown",
      "source": [
        "#### **Distinguere tra Indexing e Slicing**\n",
        "È cruciale capire la differenza tra accedere a un singolo elemento (indexing) e estrarre una sotto-lista (slicing).\n",
        "- **Indexing** `lista[i]` restituisce l'elemento stesso, mantenendo il suo tipo di dato originale.\n",
        "- **Slicing** `lista[i:j]` restituisce sempre una **nuova lista**, anche se contiene un solo elemento.\n",
        "\n"
      ],
      "metadata": {
        "id": "v4x0-MeFjmb4"
      }
    },
    {
      "cell_type": "code",
      "source": [
        "# Distinguere tra indexing e slicing\n",
        "\n",
        "measurements = [10.1, 12.5, 11.3, 13.0]\n",
        "\n",
        "# Indexing: restituisce l'elemento, un float\n",
        "first_element = measurements[0]\n",
        "print(f\"Indexing con measurements[0]: {first_element}, tipo: {type(first_element)}\")\n",
        "\n",
        "# Slicing: restituisce una nuova lista\n",
        "first_slice = measurements[0:1]\n",
        "print(f\"Slicing con measurements[0:1]: {first_slice}, tipo: {type(first_slice)}\")"
      ],
      "metadata": {
        "id": "_tzCsPusji1H"
      },
      "execution_count": null,
      "outputs": []
    },
    {
      "cell_type": "markdown",
      "source": [
        "#### **Slicing: Estrarre Sotto-Liste**\n",
        "Lo slicing è una tecnica potente per estrarre una **nuova lista** contenente un sottoinsieme degli elementi. La sintassi è `lista[start:stop]`.\n",
        "- `start`: l'indice di partenza (incluso). Se omesso, parte dall'inizio.\n",
        "- `stop`: l'indice di fine (**escluso**). Se omesso, arriva fino alla fine.\n"
      ],
      "metadata": {
        "id": "maubxDJdjfVL"
      }
    },
    {
      "cell_type": "code",
      "source": [
        "# Listing 2.14: Slicing di base\n",
        "\n",
        "measurements = [10.1, 12.5, 11.3, 13.0, 12.8, 10.9, 11.5, 14.2]\n",
        "print(\"Original measurements:\", measurements)\n",
        "\n",
        "# Elementi dall'indice 1 fino a 4 (escluso)\n",
        "sub_list1 = measurements[1:4]\n",
        "print(f\"measurements[1:4]: {sub_list1}\")\n",
        "\n",
        "# Elementi dall'inizio fino all'indice 3 (escluso)\n",
        "sub_list2 = measurements[:3]\n",
        "print(f\"measurements[:3]: {sub_list2}\")\n",
        "\n",
        "# Elementi dall'indice 3 fino alla fine\n",
        "sub_list3 = measurements[3:]\n",
        "print(f\"measurements[3:]: {sub_list3}\")\n",
        "\n"
      ],
      "metadata": {
        "id": "Lc_uLbJ2jZ0r"
      },
      "execution_count": null,
      "outputs": []
    },
    {
      "cell_type": "markdown",
      "source": [
        "#### **Slicing con Passo (Step)**\n",
        "La sintassi completa dello slicing è `lista[start:stop:step]`, dove `step` indica l'incremento tra gli indici. Può essere usato per selezionare elementi a intervalli regolari o, se negativo, per invertire una lista.\n"
      ],
      "metadata": {
        "id": "n1ySI0_4jV4V"
      }
    },
    {
      "cell_type": "code",
      "source": [
        "# Slicing con un passo\n",
        "\n",
        "numbers = [0, 1, 2, 3, 4, 5, 6, 7, 8, 9]\n",
        "print(\"Original numbers:\", numbers)\n",
        "\n",
        "# Estrai ogni secondo elemento\n",
        "every_other = numbers[::2]\n",
        "print(f\"numbers[::2]: {every_other}\")\n",
        "\n",
        "# Estrai elementi dall'indice 1 a 8 (escluso), a passi di 3\n",
        "stepped_slice = numbers[1:8:3]\n",
        "print(f\"numbers[1:8:3]: {stepped_slice}\")\n",
        "\n",
        "# Un'idioma comune per invertire una lista (step = -1)\n",
        "reversed_list = numbers[::-1]\n",
        "print(f\"numbers[::-1]: {reversed_list}\")"
      ],
      "metadata": {
        "id": "56bRPX8PjSlj"
      },
      "execution_count": null,
      "outputs": []
    },
    {
      "cell_type": "markdown",
      "source": [
        "#### **Modificare le Liste: Mutabilità**\n",
        "Le liste sono **mutabili**, il che significa che possiamo alterarle dopo averle create. Possiamo sostituire un elemento, aggiungerne di nuovi o rimuoverli usando vari metodi.\n"
      ],
      "metadata": {
        "id": "5AWZTL7ZjNkM"
      }
    },
    {
      "cell_type": "code",
      "source": [
        "# Modifica di elementi di una lista\n",
        "\n",
        "rock_types = [\"basalt\", \"granite\", \"shale\"]\n",
        "print(f\"Initial rock_types: {rock_types}\")\n",
        "\n",
        "# Cambiare un elemento a un indice specifico\n",
        "rock_types[1] = \"rhyolite\" # Sostituisce \"granite\"\n",
        "print(f\"After changing index 1: {rock_types}\")\n",
        "\n",
        "# Aggiungere un elemento alla fine con il metodo .append()\n",
        "rock_types.append(\"marble\")\n",
        "print(f\"After appending 'marble': {rock_types}\")\n",
        "\n",
        "# Rimuovere un elemento per valore con il metodo .remove()\n",
        "rock_types.remove(\"shale\")\n",
        "print(f\"After removing 'shale': {rock_types}\")\n",
        "\n",
        "# Rimuovere un elemento per indice con 'del'\n",
        "del rock_types[0] # Rimuove \"basalt\"\n",
        "print(f\"After deleting element at index 0: {rock_types}\")\n"
      ],
      "metadata": {
        "id": "SXkS4y3ljJ_A"
      },
      "execution_count": null,
      "outputs": []
    },
    {
      "cell_type": "markdown",
      "source": [
        "#### **Riferimenti vs. Copie: Un Concetto Cruciale**\n",
        "Questo è un punto fondamentale e spesso fonte di errori. Quando assegniamo una lista (o un altro oggetto mutabile) a una nuova variabile, **non stiamo creando una copia**. Stiamo creando un altro **riferimento**, un'altra etichetta che punta alla **stessa identica lista in memoria**. Modificare uno dei due riferimenti modificherà l'oggetto originale, influenzando entrambi.\n",
        "\n"
      ],
      "metadata": {
        "id": "C-Qx0mWVjHND"
      }
    },
    {
      "cell_type": "code",
      "source": [
        "# L'assegnazione di liste crea riferimenti, non copie\n",
        "\n",
        "list_a = [10, 20, 30]\n",
        "list_b = list_a  # list_b è solo un altro nome per list_a, NON una copia\n",
        "print(\"list_a:\", list_a)\n",
        "print(\"list_b:\", list_b)\n",
        "\n",
        "# Modifichiamo list_b\n",
        "list_b[0] = 99\n",
        "print(\"\\nAfter modifying list_b[0]:\")\n",
        "\n",
        "# Controlliamo list_a... è cambiata anche lei!\n",
        "print(f\"list_a: {list_a}\")\n",
        "print(f\"list_b: {list_b}\")\n",
        "\n",
        "# L'operatore 'is' controlla se due variabili puntano allo stesso oggetto in memoria\n",
        "print(f\"Are list_a and list_b the same object? {list_a is list_b}\")\n"
      ],
      "metadata": {
        "id": "D38NdkgrjDEI"
      },
      "execution_count": null,
      "outputs": []
    },
    {
      "cell_type": "markdown",
      "source": [
        "#### **Creare Copie Indipendenti (Shallow Copy)**\n",
        "Per evitare il problema dei riferimenti e creare una vera copia indipendente di una lista, dobbiamo farlo esplicitamente. I modi più comuni sono usare lo slicing `[:]` o il metodo `.copy()`. Questo crea una *shallow copy* (copia superficiale): va bene per le liste semplici, ma se la lista contiene altre liste (oggetti mutabili), solo i riferimenti a queste liste interne vengono copiati, non le liste stesse.\n"
      ],
      "metadata": {
        "id": "6md4WOT8jAU8"
      }
    },
    {
      "cell_type": "code",
      "source": [
        "# Creazione di shallow copies di liste\n",
        "\n",
        "original_list = [1, 2, 3, [40, 50]]\n",
        "print(\"Original list:\", original_list)\n",
        "\n",
        "# Creiamo una shallow copy\n",
        "copied_list_slice = original_list[:]\n",
        "\n",
        "# Modifichiamo un elemento di primo livello nella copia\n",
        "copied_list_slice[0] = 100\n",
        "\n",
        "# L'originale non cambia a questo livello\n",
        "print(\"\\nAfter modifying copied_list_slice[0]:\")\n",
        "print(\"Original list:\", original_list)\n",
        "print(\"Copied list (slice):\", copied_list_slice)\n",
        "print(f\"original_list is copied_list_slice: {original_list is copied_list_slice}\")\n",
        "\n",
        "# Ora modifichiamo la lista annidata DENTRO la copia\n",
        "copied_list_slice[3][0] = 999\n",
        "\n",
        "# L'originale CAMBIA! Perché la lista interna è condivisa.\n",
        "print(\"\\nAfter modifying nested list in copied_list_slice:\")\n",
        "print(f\"Original list: {original_list}\")\n",
        "print(f\"Copied list (slice): {copied_list_slice}\")\n"
      ],
      "metadata": {
        "id": "5yRKiSoXi7Tx"
      },
      "execution_count": null,
      "outputs": []
    },
    {
      "cell_type": "markdown",
      "source": [
        "### **2.2 I Dizionari: Schede Anagrafiche per i Dati**\n",
        "Se una lista è un elenco, un **dizionario** è una scheda descrittiva. Contiene coppie **`chiave: valore`**, dove ogni `chiave` (solitamente una stringa) è unica e serve per recuperare il suo `valore` associato. Sono perfetti per rappresentare oggetti con molte proprietà, come un campione geologico. Si creano con le parentesi graffe `{}`.\n",
        "\n",
        "#### **Creazione di Dizionari**\n",
        "Un dizionario si crea specificando le coppie `chiave: valore` separate da virgole.\n"
      ],
      "metadata": {
        "id": "RlhQnh_Fi1ok"
      }
    },
    {
      "cell_type": "code",
      "source": [],
      "metadata": {
        "id": "kiiyVMkei2WS"
      },
      "execution_count": null,
      "outputs": []
    },
    {
      "cell_type": "code",
      "source": [
        "# Descriviamo un campione di Gneiss usando un dizionario\n",
        "campione_gneiss = {\n",
        "    \"id\": \"ALPI-2023-05\",\n",
        "    \"roccia\": \"Gneiss\",\n",
        "    \"localita\": \"Val d'Aosta\",\n",
        "    \"grado_metamorfico\": \"Alto\"\n",
        "}\n",
        "\n",
        "print(\"Dizionario del campione:\", campione_gneiss)\n"
      ],
      "metadata": {
        "id": "HTjo-vf3ixTp"
      },
      "execution_count": null,
      "outputs": []
    },
    {
      "cell_type": "markdown",
      "source": [
        "#### **Accesso e Modifica dei Valori**\n",
        "Si accede a un valore tramite la sua chiave, non tramite un indice numerico. Si possono modificare valori esistenti o aggiungere nuove coppie chiave-valore con una semplice assegnazione.\n",
        "\n"
      ],
      "metadata": {
        "id": "eGAZrtITitOG"
      }
    },
    {
      "cell_type": "code",
      "source": [
        "# Accedere a un valore tramite la sua chiave\n",
        "print(f\"La roccia è: {campione_gneiss['roccia']}\")\n",
        "\n",
        "# Modificare un valore esistente\n",
        "campione_gneiss['grado_metamorfico'] = \"Molto Alto\"\n",
        "print(f\"Grado modificato: {campione_gneiss['grado_metamorfico']}\")\n",
        "\n",
        "# Aggiungere una nuova coppia chiave-valore\n",
        "campione_gneiss['minerali_principali'] = [\"Quarzo\", \"Feldspato\", \"Biotite\"]\n",
        "print(\"\\nDizionario aggiornato con i minerali:\")\n",
        "print(campione_gneiss)\n"
      ],
      "metadata": {
        "id": "gHBqzZpBiqnD"
      },
      "execution_count": null,
      "outputs": []
    },
    {
      "cell_type": "markdown",
      "source": [
        "## **3. Iterazione e Logica Condizionale: Insegnare al Computer a Lavorare**\n",
        "*(Riferimento: Sezione 2.2.5 del capitolo)*\n",
        "\n",
        "### **3.1 Il Ciclo `for`: Automatizzare i Compiti Ripetitivi**\n",
        "Il ciclo `for` è il nostro strumento principale per l'automazione. Itera su ogni elemento di una sequenza (come una lista) ed esegue un blocco di codice indentato per ciascun elemento.\n",
        "\n"
      ],
      "metadata": {
        "id": "hrHhZDO_im1I"
      }
    },
    {
      "cell_type": "code",
      "source": [
        "# Iterare su una lista con un ciclo for\n",
        "\n",
        "rock_types = [\"basalt\", \"granite\", \"shale\"]\n",
        "\n",
        "# Itera attraverso la lista e stampa ogni tipo di roccia\n",
        "for rock in rock_types:\n",
        "    print(\"Current rock type:\", rock)\n",
        "\n",
        "print(\"Finished iterating through rock_types.\")\n",
        "\n",
        "# Si può iterare anche su una stringa (una sequenza di caratteri)\n",
        "magma_type = \"Rhyolite\"\n",
        "for char in magma_type:\n",
        "    # L'argomento end=\" \" in print() evita di andare a capo\n",
        "    print(char, end=\" \")"
      ],
      "metadata": {
        "id": "D5T3RlCniief"
      },
      "execution_count": null,
      "outputs": []
    },
    {
      "cell_type": "markdown",
      "source": [
        "### **3.2 La Funzione `range()`: Creare Sequenze Numeriche per i Cicli**\n",
        "Spesso, abbiamo bisogno di ripetere un'azione un numero specifico di volte, o di iterare su una sequenza di indici. La funzione `range()` è perfetta per questo.\n",
        "- `range(stop)`: genera numeri da 0 fino a `stop-1`.\n",
        "- `range(start, stop)`: genera numeri da `start` fino a `stop-1`.\n",
        "- `range(start, stop, step)`: genera numeri da `start` a `stop-1`, con un passo `step`.\n"
      ],
      "metadata": {
        "id": "Zx4SLjnBidzV"
      }
    },
    {
      "cell_type": "code",
      "source": [
        "# Esempio 1: range(stop) - Loop 5 volte (indici 0, 1, 2, 3, 4)\n",
        "print(\"Looping con range(5):\")\n",
        "for i in range(5):\n",
        "    print(i)\n",
        "\n",
        "# Esempio 2: range(start, stop) - Loop da 2 fino a 6 (escluso)\n",
        "print(\"\\nLooping con range(2, 6):\")\n",
        "for num in range(2, 6):\n",
        "    print(num)\n",
        "\n",
        "# Esempio 3: range(start, stop, step) - Loop da 10 a 0 (escluso), a passi di -2\n",
        "print(\"\\nLooping con range(10, 0, -2):\")\n",
        "for k in range(10, 0, -2):\n",
        "    print(k)\n",
        "\n",
        "# Esempio 4: Usare range per accedere agli elementi di una lista tramite indice\n",
        "values = [100, 200, 300, 400]\n",
        "print(\"\\nAccesso agli elementi della lista tramite range(len(list)):\")\n",
        "for index in range(len(values)):\n",
        "    print(f\"Elemento all'indice {index} è {values[index]}\")\n"
      ],
      "metadata": {
        "id": "8iAJ-hjDiafs"
      },
      "execution_count": null,
      "outputs": []
    },
    {
      "cell_type": "markdown",
      "source": [
        "### **3.3 Logica Condizionale: `if`, `elif`, `else`**\n",
        "Queste istruzioni permettono al nostro codice di prendere decisioni, eseguendo blocchi di codice diversi in base al fatto che una condizione sia vera (`True`) o falsa (`False`).\n",
        "- `if`: esegue un blocco di codice se una condizione è vera.\n",
        "- `elif` (sta per \"else if\"): controlla un'altra condizione se la precedente era falsa.\n",
        "- `else`: esegue un blocco di codice se nessuna delle condizioni precedenti era vera.\n"
      ],
      "metadata": {
        "id": "W1tLdeg6iU4X"
      }
    },
    {
      "cell_type": "code",
      "source": [
        "# Combiniamo cicli e condizioni per classificare la qualità di un reservoir\n",
        "porosita_misure = [0.15, 0.22, 0.08, 0.19]\n",
        "print(\"--- Valutazione Qualità Reservoir ---\")\n",
        "for p in porosita_misure:\n",
        "    if p >= 0.20:\n",
        "        qualita = \"Eccellente\"\n",
        "    elif p >= 0.15:\n",
        "        qualita = \"Buona\"\n",
        "    else:\n",
        "        qualita = \"Sufficiente/Scarsa\"\n",
        "    print(f\"Porosità {p:.2f} -> Qualità: {qualita}\")\n"
      ],
      "metadata": {
        "id": "Rpq-5FaziRDl"
      },
      "execution_count": null,
      "outputs": []
    },
    {
      "cell_type": "markdown",
      "source": [
        "### **3.4 Un Modo più Elegante per Creare Liste: Le *List Comprehension***\n",
        "\n",
        "Ora che abbiamo familiarità con la creazione di liste e l'uso dei cicli `for` per popolarle, vedremo un nuovo fantastico e semplice metodo per fare entrambe le cose contemporaneamente: la **list comprehension**.\n",
        "\n",
        "In Python, una lista è spesso formata da elementi provenienti da un'altra sequenza (come un'altra lista) su cui sono state svolte delle operazioni. Ad esempio, supponiamo di avere una lista di misure di profondità in metri e di volerne creare una nuova con i valori convertiti in piedi.\n",
        "\n",
        "La prima cosa che ci verrebbe in mente, con gli strumenti visti finora, è:\n",
        "1.  Creare una lista vuota.\n",
        "2.  Usare un ciclo `for` per scorrere la lista originale.\n",
        "3.  All'interno del ciclo, calcolare il nuovo valore e aggiungerlo alla nuova lista con `.append()`."
      ],
      "metadata": {
        "id": "n4APVqeImY4k"
      }
    },
    {
      "cell_type": "code",
      "source": [
        "# Metodo \"classico\" per convertire unità di misura\n",
        "profondita_metri = [120.5, 250.2, 375.8, 510.0]\n",
        "profondita_piedi = [] # 1. Lista vuota\n",
        "\n",
        "COEFFICIENTE_CONVERSIONE = 3.28084\n",
        "\n",
        "# 2. Ciclo for\n",
        "for prof_m in profondita_metri:\n",
        "    # 3. Calcolo e append\n",
        "    prof_ft = prof_m * COEFFICIENTE_CONVERSIONE\n",
        "    profondita_piedi.append(prof_ft)\n",
        "\n",
        "print(profondita_piedi)"
      ],
      "metadata": {
        "id": "UABiakfYmVBF"
      },
      "execution_count": null,
      "outputs": []
    },
    {
      "cell_type": "markdown",
      "source": [
        "Funziona perfettamente, ma richiede tre righe di codice per un'operazione concettualmente molto semplice. Vediamo ora come possiamo ottenere lo stesso identico risultato, ma impiegando stavolta una list comprehension:\n"
      ],
      "metadata": {
        "id": "kJ1AwB0BmScI"
      }
    },
    {
      "cell_type": "code",
      "source": [
        "# Lo stesso risultato con una list comprehension\n",
        "profondita_metri = [120.5, 250.2, 375.8, 510.0]\n",
        "\n",
        "profondita_piedi_comp = [prof_m * COEFFICIENTE_CONVERSIONE for prof_m in profondita_metri]\n",
        "\n",
        "print(profondita_piedi_comp)\n"
      ],
      "metadata": {
        "id": "F41VD7QRmQLn"
      },
      "execution_count": null,
      "outputs": []
    },
    {
      "cell_type": "markdown",
      "source": [
        "Da una parte abbiamo usato tre righe di codice, mentre qui, semplicemente **una**. Inoltre, la sintassi è quasi una traduzione diretta del linguaggio parlato: `[calcola il valore in piedi PER ogni profondità NELLA lista dei metri]`.\n",
        "\n",
        "La sintassi generale di una list comprehension è:\n",
        "`nuova_lista = [<espressione> for <elemento> in <lista_originale>]`\n",
        "\n",
        "All'interno delle parentesi quadre, che definiscono la nuova lista, mettiamo prima l'**espressione** che genera i nuovi elementi, e poi il **ciclo `for`** che ci dice su cosa iterare.\n"
      ],
      "metadata": {
        "id": "BXDZCj2dmNrM"
      }
    },
    {
      "cell_type": "markdown",
      "source": [
        "#### **List Comprehension con Condizioni**\n",
        "La potenza delle list comprehension non si ferma qui. Possiamo anche aggiungere una condizione `if` per filtrare gli elementi da includere nella nuova lista.\n",
        "\n",
        "Supponiamo di avere una lista di campioni di roccia e di voler creare una nuova lista contenente solo le rocce sedimentarie (es. \"Arenaria\", \"Calcare\").\n",
        "\n",
        "Con il metodo classico, faremmo così:\n"
      ],
      "metadata": {
        "id": "-cm1cypRmI9F"
      }
    },
    {
      "cell_type": "code",
      "source": [
        "# Metodo classico con condizione if\n",
        "campioni_carota = [\"Granito\", \"Arenaria\", \"Scisto\", \"Calcare\", \"Basalto\"]\n",
        "rocce_sedimentarie = []\n",
        "\n",
        "for roccia in campioni_carota:\n",
        "    if roccia == \"Arenaria\" or roccia == \"Calcare\":\n",
        "        rocce_sedimentarie.append(roccia)\n",
        "\n",
        "print(rocce_sedimentarie)\n"
      ],
      "metadata": {
        "id": "GLIM7mJQmFiS"
      },
      "execution_count": null,
      "outputs": []
    },
    {
      "cell_type": "markdown",
      "source": [
        "Ed ecco la versione con la list comprehension. La condizione `if` viene semplicemente aggiunta alla fine, prima della parentesi quadra di chiusura.\n"
      ],
      "metadata": {
        "id": "rKVX8QcTmCNx"
      }
    },
    {
      "cell_type": "code",
      "source": [
        "# Lo stesso risultato con una list comprehension e una condizione if\n",
        "campioni_carota = [\"Granito\", \"Arenaria\", \"Scisto\", \"Calcare\", \"Basalto\"]\n",
        "\n",
        "rocce_sedimentarie_comp = [roccia for roccia in campioni_carota if roccia == \"Arenaria\" or roccia == \"Calcare\"]\n",
        "\n",
        "print(rocce_sedimentarie_comp)\n"
      ],
      "metadata": {
        "id": "RsEfDcG6l87v"
      },
      "execution_count": null,
      "outputs": []
    },
    {
      "cell_type": "markdown",
      "source": [
        "La sintassi diventa quindi:\n",
        "`nuova_lista = [<espressione> for <elemento> in <lista_originale> if <condizione>]`\n",
        "\n",
        "Anche in questo caso, la leggibilità è altissima: `[prendi la roccia PER ogni roccia NELLA carota SE la roccia è Arenaria o Calcare]`.\n"
      ],
      "metadata": {
        "id": "8sDjYF5Rl9XM"
      }
    },
    {
      "cell_type": "markdown",
      "source": [
        "#### **List Comprehension con Cicli Annidati**\n",
        "Infine, possiamo gestire anche logiche più complesse, come quelle che richiederebbero cicli `for` annidati.\n",
        "\n",
        "Supponiamo di avere una lista di possibili rocce sorgente e una di possibili rocce serbatoio in un bacino. Vogliamo creare una lista di tutte le possibili coppie (sistemi petroliferi), ma solo se la roccia sorgente è diversa da quella serbatoio (un caso raro ma possibile).\n",
        "\n",
        "Il metodo classico richiederebbe due cicli `for` e una condizione `if`.\n"
      ],
      "metadata": {
        "id": "1KZxd51fl5me"
      }
    },
    {
      "cell_type": "code",
      "source": [
        "# Metodo classico con cicli annidati\n",
        "rocce_sorgente = [\"Argillite\", \"Marna\"]\n",
        "rocce_serbatoio = [\"Arenaria\", \"Argillite\", \"Calcare\"]\n",
        "sistemi_petroliferi = []\n",
        "\n",
        "for sorgente in rocce_sorgente:\n",
        "    for serbatoio in rocce_serbatoio:\n",
        "        if sorgente != serbatoio:\n",
        "            sistemi_petroliferi.append( (sorgente, serbatoio) ) # Aggiungiamo una tupla\n",
        "\n",
        "print(sistemi_petroliferi)\n"
      ],
      "metadata": {
        "id": "XLk9Cw66l2bl"
      },
      "execution_count": null,
      "outputs": []
    },
    {
      "cell_type": "markdown",
      "source": [
        "Oppure, molto più semplicemente, possiamo usare una list comprehension. I cicli `for` e la condizione `if` vengono scritti uno dopo l'altro, nello stesso ordine in cui apparirebbero nella versione classica.\n"
      ],
      "metadata": {
        "id": "FdvG4_telzs1"
      }
    },
    {
      "cell_type": "code",
      "source": [
        "# Lo stesso risultato con una list comprehension annidata\n",
        "rocce_sorgente = [\"Argillite\", \"Marna\"]\n",
        "rocce_serbatoio = [\"Arenaria\", \"Argillite\", \"Calcare\"]\n",
        "\n",
        "sistemi_petroliferi_comp = [(sorgente, serbatoio) for sorgente in rocce_sorgente for serbatoio in rocce_serbatoio if sorgente != serbatoio]\n",
        "\n",
        "print(sistemi_petroliferi_comp)\n"
      ],
      "metadata": {
        "id": "cta9C_yNlwOW"
      },
      "execution_count": null,
      "outputs": []
    },
    {
      "cell_type": "markdown",
      "source": [
        "## **4. Scrivere Codice Riutilizzabile: Le Funzioni**\n",
        "\n",
        "Quando scriviamo del codice per eseguire un compito specifico (es. un calcolo), è una buona pratica \"impacchettarlo\" in una **funzione**. Una funzione è un blocco di codice nominato e riutilizzabile.\n",
        "- Si definisce con la parola chiave `def`.\n",
        "- Può accettare dati in input (i **parametri** o **argomenti**).\n",
        "- Può restituire un risultato con l'istruzione `return`.\n",
        "- È buona norma includere una **docstring** `\"\"\"...\"\"\"` per spiegare cosa fa.\n",
        "\n",
        "Questo approccio rende il codice più pulito, più facile da leggere e da correggere.\n"
      ],
      "metadata": {
        "id": "L_Ofo6gdiLtB"
      }
    },
    {
      "cell_type": "code",
      "source": [
        "# Definiamo una funzione per calcolare l'area di un cerchio\n",
        "def calculateCircleArea(radius):\n",
        "    \"\"\"Calcola l'area di un cerchio dato il suo raggio.\"\"\"\n",
        "    piApprox = 3.14159\n",
        "    area = piApprox * radius**2\n",
        "    return area\n",
        "\n",
        "# Ora \"chiamiamo\" la funzione con argomenti diversi\n",
        "radiusOne = 5.0\n",
        "areaOne = calculateCircleArea(radiusOne)\n",
        "print(\"L'area di un cerchio con raggio\", radiusOne, \"è\", areaOne)\n",
        "\n",
        "radiusTwo = 2.5\n",
        "areaTwo = calculateCircleArea(radiusTwo)\n",
        "# Usiamo una f-string per una stampa più pulita\n",
        "print(f\"L'area di un cerchio con raggio {radiusTwo} è {areaTwo}\")\n"
      ],
      "metadata": {
        "id": "hQJ92OkDiHia"
      },
      "execution_count": null,
      "outputs": []
    },
    {
      "cell_type": "markdown",
      "source": [
        "#### **Funzioni senza Valore di Ritorno**\n",
        "Non tutte le funzioni devono restituire un valore. Alcune eseguono semplicemente un'azione, come stampare un messaggio. Se una funzione non ha un'istruzione `return`, o ha `return` senza un valore, implicitamente restituisce un valore speciale chiamato `None`.\n"
      ],
      "metadata": {
        "id": "2QX9oEE4iD_u"
      }
    },
    {
      "cell_type": "code",
      "source": [
        "def greet(name):\n",
        "    \"\"\"Stampa un messaggio di saluto.\"\"\"\n",
        "    print(\"Hello,\", name, \"!\")\n",
        "\n",
        "# Chiamiamo la funzione, che esegue l'azione di stampa\n",
        "greet(\"World\")\n",
        "\n",
        "# Se proviamo a salvare il risultato, vedremo che è None\n",
        "returnedValue = greet(\"Student\")\n",
        "print(\"Valore restituito da greet():\", returnedValue)\n"
      ],
      "metadata": {
        "id": "nKs9HvV6iBSs"
      },
      "execution_count": null,
      "outputs": []
    },
    {
      "cell_type": "markdown",
      "source": [
        "## **Esercizio Finale: Unire Tutti i Concetti**\n",
        "Creiamo un report automatico per una serie di campioni. Abbiamo una lista di dizionari, dove ogni dizionario rappresenta un campione. Vogliamo scrivere una funzione che processi questa lista e stampi una scheda di valutazione per ogni campione, riutilizzando una funzione di classificazione che scriveremo.\n"
      ],
      "metadata": {
        "id": "TNEUTlZHh7oa"
      }
    },
    {
      "cell_type": "code",
      "source": [
        "# Dati di partenza: una lista di dizionari\n",
        "dataset_campioni = [\n",
        "    {\"id\": \"S1\", \"sio2\": 50.1, \"mgo\": 7.5, \"localita\": \"Etna\"},\n",
        "    {\"id\": \"S2\", \"sio2\": 68.2, \"mgo\": 1.2, \"localita\": \"Sardegna\"},\n",
        "    {\"id\": \"S3\", \"sio2\": 42.0, \"mgo\": 25.8, \"localita\": \"Alpi\"}\n",
        "]\n",
        "\n",
        "# Funzione ausiliaria di classificazione\n",
        "def classifica_roccia_ignea(sio2_perc):\n",
        "    \"\"\"\n",
        "    Classifica una roccia ignea in base alla percentuale di SiO2.\n",
        "    \"\"\"\n",
        "    if sio2_perc > 65:\n",
        "        return \"Acida\"\n",
        "    elif sio2_perc > 52:\n",
        "        return \"Intermedia\"\n",
        "    elif sio2_perc > 45:\n",
        "        return \"Basica\"\n",
        "    else:\n",
        "        return \"Ultrabasica\"\n",
        "\n",
        "# Funzione principale che genera il report\n",
        "def genera_report_completo(lista_campioni):\n",
        "    \"\"\"\n",
        "    Analizza una lista di campioni e stampa un report dettagliato.\n",
        "    \"\"\"\n",
        "    print(\"===== REPORT GEOCHIMICO AUTOMATICO =====\")\n",
        "    # 1. Ciclo for per iterare sulla lista di dizionari\n",
        "    for campione in lista_campioni:\n",
        "        # 2. Estrarre dati dal dizionario corrente\n",
        "        id_campione = campione['id']\n",
        "        sio2 = campione['sio2']\n",
        "        localita = campione['localita']\n",
        "\n",
        "        # 3. Chiamare la funzione ausiliaria per riutilizzare il codice\n",
        "        tipo_roccia = classifica_roccia_ignea(sio2)\n",
        "\n",
        "        # 4. Usare una condizione logica per aggiungere una nota\n",
        "        if tipo_roccia == \"Ultrabasica\":\n",
        "            nota = \"-> Potenziale fonte di olivina.\"\n",
        "        else:\n",
        "            nota = \"\"\n",
        "\n",
        "        # Stampare il risultato formattato per il campione corrente\n",
        "        print(f\"\\n--- Campione: {id_campione} ({localita}) ---\")\n",
        "        print(f\"  Tipo roccia stimato: {tipo_roccia} ({sio2}% SiO2)\")\n",
        "        if nota:  # Stampa la nota solo se non è vuota\n",
        "            print(f\"  {nota}\")\n",
        "\n",
        "    print(\"\\n================= FINE REPORT =================\")\n",
        "\n",
        "# Eseguiamo la funzione principale sui nostri dati\n",
        "genera_report_completo(dataset_campioni)"
      ],
      "metadata": {
        "id": "iutR-psRh2fK"
      },
      "execution_count": null,
      "outputs": []
    }
  ]
}