{
  "cells": [
    {
      "cell_type": "markdown",
      "metadata": {
        "id": "view-in-github",
        "colab_type": "text"
      },
      "source": [
        "<a href=\"https://colab.research.google.com/github/demichie/CorsoIntroduzionePython/blob/main/lezione1.ipynb\" target=\"_parent\"><img src=\"https://colab.research.google.com/assets/colab-badge.svg\" alt=\"Open In Colab\"/></a>"
      ]
    },
    {
      "cell_type": "markdown",
      "metadata": {
        "id": "EJvx6V9Thqyt"
      },
      "source": [
        "# **Lezione 1: Fondamenti di Python**\n",
        "\n",
        "Benvenuti alla prima lezione del nostro corso. Oggi getteremo le fondamenta che ci permetteranno di utilizzare Python come un potente strumento per l'analisi e il calcolo. L'obiettivo non è solo imparare comandi a memoria, ma capire la logica che sta dietro la programmazione.\n",
        "\n",
        "Questo Jupyter Notebook sarà la nostra guida interattiva, il nostro **taccuino da campo digitale**. Il testo nelle celle come questa (celle **Markdown**) spiegherà i concetti teorici, mentre le celle sottostanti (celle **Codice**) vi permetteranno di eseguire gli esempi e sperimentare in prima persona.\n",
        "\n",
        "**Obiettivi dettagliati della Lezione 1:**\n",
        "1.  **Sintassi e Struttura di Base:** Variabili, tipi di dati, l'importanza critica dell'indentazione, commenti e come gestire righe di codice lunghe.\n",
        "2.  **Strutture Dati:**\n",
        "    *   **Liste:** Creazione, indicizzazione (positiva e negativa), slicing, mutabilità, e il concetto cruciale di riferimenti vs. copie.\n",
        "    *   **Dizionari:** Strutturare dati complessi con coppie chiave-valore.\n",
        "3.  **Controllo del Flusso e Iterazione:**\n",
        "    *   Il ciclo `for` per automatizzare compiti ripetitivi.\n",
        "    *   La funzione `range()` per generare sequenze numeriche.\n",
        "    *   Le condizioni `if`, `elif`, `else` per creare codice che prende decisioni.\n",
        "    *   Le **List Comprehension** per creare liste in modo elegante e conciso.\n",
        "4.  **Modularità e Riusabilità:**\n",
        "    *   Definire e chiamare **funzioni** per organizzare il codice e renderlo riutilizzabile."
      ]
    },
    {
      "cell_type": "markdown",
      "metadata": {
        "id": "qYu8oYdKj-TH"
      },
      "source": [
        "## **0. Il Nostro Ambiente di Lavoro e l'Ecosistema Python**\n",
        "\n",
        "Prima di iniziare a scrivere codice, è importante capire *dove* lo stiamo scrivendo e quali sono le alternative. Per questo corso, utilizzeremo dei **Jupyter Notebook** ospitati su un servizio cloud come **Google Colab**. Questo è un modo semplice per iniziare perché non richiede alcuna installazione: tutto ciò che serve è un browser web e una connessione a Internet.\n",
        "\n",
        "Tuttavia, quando si lavora su progetti più grandi o si vuole avere pieno controllo sul proprio ambiente, è comune installare Python direttamente sul proprio computer.\n",
        "\n",
        "### **Installare Python con Anaconda**\n",
        "Il modo più semplice e raccomandato per installare Python per scopi scientifici è attraverso la distribuzione **Anaconda**.\n",
        "\n",
        "**Cos'è Anaconda?** Pensate ad Anaconda non solo come a un installatore per Python, ma come a un intero **kit di strumenti per la scienza dei dati**. Quando installate Anaconda, ottenete:\n",
        "-   L'interprete **Python** stesso.\n",
        "-   Centinaia delle **librerie scientifiche più importanti** (come NumPy, Pandas, Matplotlib, SciPy, Jupyter) già pre-installate e configurate per funzionare insieme.\n",
        "-   Un gestore di pacchetti e ambienti chiamato `conda`, che permette di installare nuove librerie e di creare ambienti di lavoro isolati per progetti diversi.\n",
        "\n",
        "Installando Anaconda sul vostro computer (Windows, macOS o Linux), potrete lanciare Jupyter Notebook direttamente in locale, senza bisogno di una connessione di rete attiva per lavorare.\n",
        "\n",
        "### **Notebook vs. Script (`.py` files)**\n",
        "Il Jupyter Notebook è uno strumento eccezionale per l'apprendimento, l'esplorazione dei dati e la presentazione dei risultati, grazie alla sua natura interattiva che mescola codice, testo e grafici.\n",
        "\n",
        "Tuttavia, per sviluppare applicazioni complesse, librerie riutilizzabili o flussi di lavoro automatizzati, gli sviluppatori usano file di testo semplice con estensione `.py`, chiamati **script** o **moduli**.\n",
        "\n",
        "**Perché usare gli script?**\n",
        "-   **Modularità:** Un progetto complesso viene suddiviso in più file `.py`, ognuno responsabile di un compito specifico (es. un file per caricare i dati, uno per i calcoli, uno per la visualizzazione). Questo rende il codice più organizzato, facile da mantenere e da testare.\n",
        "-   **Controllo di Versione:** Lavorare con file di testo semplici è ideale per sistemi di controllo di versione come Git, che permettono di tracciare le modifiche e collaborare con altri.\n",
        "-   **Automazione:** Uno script `.py` può essere eseguito interamente da un terminale o da una riga di comando, senza interazione manuale. Questo è fondamentale per automatizzare compiti che devono girare in background o a orari programmati.\n",
        "\n",
        "**Come si esegue uno script?**\n",
        "Una volta che Python è installato, si apre un terminale (o Prompt dei Comandi su Windows) e si lancia lo script con il comando:\n",
        "```bash\n",
        "python nome_del_mio_script.py\n",
        "```\n",
        "Questo eseguirà tutto il codice contenuto nel file dall'inizio alla fine.\n",
        "\n",
        "Per questo corso, il Jupyter Notebook rimane il nostro ambiente di scelta, ma è importante che conosciate il contesto più ampio in cui si inserisce."
      ]
    },
    {
      "cell_type": "markdown",
      "metadata": {
        "id": "wXz3TK_vkxqY"
      },
      "source": [
        "## **1. Sintassi Essenziale di Python**\n",
        "\n",
        "### **1.1 Variabili e Assegnazione: Dare un Nome ai Dati**\n",
        "In qualsiasi analisi, lavoriamo con dei dati: una temperatura, una profondità, il nome di una località. Per poterli manipolare, dobbiamo prima memorizzarli nel computer. Una **variabile** è un nome che associamo a un valore in memoria. In Python, l'assegnazione di un valore a una variabile si effettua con l'operatore `=`.\n",
        "\n",
        "Una delle caratteristiche più comode di Python è la **tipizzazione dinamica**. Questo significa che non dobbiamo specificare in anticipo che tipo di dato conterrà una variabile (ad esempio, se sarà un numero intero o del testo). Python lo capisce da solo quando le assegniamo un valore. Questo contrasta con linguaggi a **tipizzazione statica** come C++ o Fortran, dove è obbligatorio dichiarare esplicitamente il tipo di ogni variabile prima di poterle assegnare un valore.\n",
        "\n",
        "Per esempio, vediamo come la stessa operazione viene scritta in C++ e Fortran 90:\n",
        "\n",
        "**In C++ (esempio concettuale):**\n",
        "```cpp\n",
        "// 1. Devi prima dichiarare il tipo della variabile\n",
        "int count;\n",
        "double temperature;\n",
        "\n",
        "// 2. Solo dopo puoi assegnare un valore\n",
        "count = 10;\n",
        "temperature = 25.5;\n",
        "\n",
        "// Questa riga provocherebbe un errore in fase di compilazione,\n",
        "// perché non puoi assegnare una stringa a una variabile di tipo double.\n",
        "temperature = \"hot\";\n",
        "```\n",
        "\n",
        "**In Fortran 90/95 (esempio concettuale):**\n",
        "```fortran\n",
        "! 1. Devi prima dichiarare il tipo della variabile\n",
        "INTEGER :: count\n",
        "REAL :: temperature\n",
        "\n",
        "! 2. Solo dopo puoi assegnare un valore\n",
        "count = 10\n",
        "temperature = 25.5\n",
        "\n",
        "! Anche questa riga provocherebbe un errore in fase di compilazione\n",
        "temperature = \"hot\"\n",
        "```\n",
        "In Python, invece, tutto questo è molto più diretto, come vedremo nella prossima cella. La funzione `print()` è il nostro strumento fondamentale per visualizzare il valore di una variabile, mentre `type()` ci permette di ispezionare quale tipo di dato Python ha automaticamente inferito."
      ]
    },
    {
      "cell_type": "code",
      "execution_count": null,
      "metadata": {
        "execution_count": null,
        "id": "6IN3SnQMktbB",
        "outputs": []
      },
      "outputs": [],
      "source": [
        "# Assegniamo diversi tipi di dati a delle variabili\n",
        "x = 3.0              # Python inferisce che x è un numero in virgola mobile (float)\n",
        "name = \"basalt\"      # Python inferisce che name è una stringa (str)\n",
        "is_volcano = True    # Python inferisce che is_volcano è un booleano (bool)\n",
        "count = 10           # Python inferisce che count è un intero (int)\n",
        "\n",
        "# Usiamo print() per mostrare sia il valore che il tipo di dato di una variabile\n",
        "print(x, type(x))\n",
        "print(name, type(name))"
      ]
    },
    {
      "cell_type": "markdown",
      "metadata": {
        "id": "DKjVVwtHj-TK"
      },
      "source": [
        "#### **La Dinamicità dei Tipi**\n",
        "La natura \"dinamica\" di Python non si limita solo all'assegnazione iniziale. Significa anche che una stessa variabile può cambiare tipo durante l'esecuzione dello script, semplicemente riassegnandole un valore di tipo diverso. La stessa \"etichetta\" può essere spostata da un dato di un tipo a un dato di un altro tipo senza alcun problema.\n",
        "\n",
        "Questo offre grande flessibilità, ma richiede anche attenzione: in programmi molto lunghi, è importante tenere traccia di che tipo di dato una variabile dovrebbe contenere in un certo punto del codice.\n"
      ]
    },
    {
      "cell_type": "code",
      "execution_count": null,
      "metadata": {
        "id": "Uzrs7Y3mj-TK"
      },
      "outputs": [],
      "source": [
        "# Creiamo una variabile 'valore' e le assegniamo una stringa\n",
        "valore = \"Campione A-01\"\n",
        "print(\"Valore iniziale:\", valore, \", Tipo:\", type(valore))\n",
        "\n",
        "# Ora riassegniamo alla stessa variabile un numero intero\n",
        "valore = 105\n",
        "print(\"Valore dopo la prima riassegnazione:\", valore, \", Tipo:\", type(valore))\n",
        "\n",
        "# E infine, un numero float\n",
        "valore = 95.8 # in percentuale\n",
        "print(\"Valore dopo la seconda riassegnazione:\", valore, \", Tipo:\", type(valore))"
      ]
    },
    {
      "cell_type": "markdown",
      "metadata": {
        "id": "Ynl-GHpIkrK5"
      },
      "source": [
        "### **1.2 L'Indentazione: Una Regola Sintattica, non Stilistica**\n",
        "A differenza della maggior parte dei linguaggi di programmazione che usano parentesi graffe `{}` o parole chiave come `end` per definire blocchi di codice, Python usa l'**indentazione**.\n",
        "\n",
        "Per capire meglio l'unicità di Python, vediamo prima come si scrive un semplice blocco `if-else` in altri linguaggi:\n",
        "\n",
        "**In C++ (esempio concettuale):**\n",
        "C++ usa le parentesi graffe `{}` per delimitare i blocchi di codice. L'indentazione è solo una convenzione per la leggibilità, ma non ha alcun significato per il compilatore.\n",
        "```cpp\n",
        "int i = 1;\n",
        "if (i % 2 == 0) {\n",
        "    // Blocco 'if': tutto ciò che è dentro le parentesi graffe\n",
        "    // viene eseguito se la condizione è vera.\n",
        "    printf(\"i is even\");\n",
        "} else {\n",
        "    // Blocco 'else': questo viene eseguito se la condizione è falsa.\n",
        "    printf(\"i is odd\");\n",
        "}\n",
        "```\n",
        "\n",
        "**In Fortran 90/95 (esempio concettuale):**\n",
        "Fortran usa le parole chiave `THEN`, `ELSE` e `END IF` per definire l'inizio e la fine dei blocchi. Anche qui, l'indentazione è solo per chiarezza.\n",
        "```fortran\n",
        "INTEGER :: i = 1\n",
        "IF (MOD(i, 2) == 0) THEN\n",
        "    ! Blocco 'if'\n",
        "    PRINT *, \"i is even\"\n",
        "ELSE\n",
        "    ! Blocco 'else'\n",
        "    PRINT *, \"i is odd\"\n",
        "END IF\n",
        "```\n",
        "\n",
        "In Python, le parentesi graffe e le parole chiave di chiusura sono sostituite dalla semplice e pulita regola dell'indentazione, come vedremo nell'esempio di codice seguente.\n",
        "\n",
        "Gli spazi all'inizio di una riga non sono quindi opzionali o stilistici: sono parte integrante della sintassi e indicano quali righe di codice appartengono a un determinato blocco (ad esempio, il corpo di un ciclo o di una condizione). Un'istruzione che inizia un blocco (come `for` o `if`) termina sempre con due punti `:`.\n",
        "\n",
        "**ATTENZIONE:** Un'indentazione scorretta provocherà un `IndentationError`. È uno degli errori più comuni per chi inizia. La convenzione ufficiale (PEP 8) è di usare **4 spazi per ogni livello di indentazione**."
      ]
    },
    {
      "cell_type": "code",
      "execution_count": null,
      "metadata": {
        "execution_count": null,
        "id": "ew4GzuW1km9G",
        "outputs": []
      },
      "outputs": [],
      "source": [
        "# Esempio di un ciclo 'for' e una condizione 'if'\n",
        "# Notare i due punti (:) e l'indentazione (4 spazi)\n",
        "for i in range(3): # Il : inizia il blocco del ciclo for\n",
        "    print(\"Outer loop, i =\", i) # Questa riga è indentata, fa parte del ciclo\n",
        "    if i % 2 == 0: # Il : inizia il blocco della condizione if\n",
        "        print(\" i is even\") # Questa riga è ulteriormente indentata\n",
        "    else: # Il : inizia il blocco else\n",
        "        print(\" i is odd\") # Anche questa è indentata rispetto all'else\n",
        "\n",
        "print(\"Loop finished\") # Questa riga non è indentata, quindi è fuori dal ciclo for"
      ]
    },
    {
      "cell_type": "markdown",
      "metadata": {
        "id": "j-KsSB6uj-TL"
      },
      "source": [
        "**Una nota importante: Spazi vs. Tab**\n",
        "Sebbene sia possibile usare il tasto `Tab` per indentare, questo può causare problemi. Un `Tab` potrebbe essere interpretato come 4 spazi in un editor e come 8 in un altro, portando a errori di indentazione difficili da individuare. La guida di stile ufficiale di Python (PEP 8) raccomanda fortemente di **usare sempre gli spazi per l'indentazione**. La buona notizia è che quasi tutti gli editor di codice moderni, inclusi i Jupyter Notebook, possono essere configurati per inserire automaticamente 4 spazi quando si preme il tasto `Tab`."
      ]
    },
    {
      "cell_type": "markdown",
      "metadata": {
        "id": "35rqs5xykkZD"
      },
      "source": [
        "### **1.3 Commenti: Note a Margine nel Codice**\n",
        "I commenti sono porzioni di testo che vengono ignorate dall'interprete Python. Servono a noi per spiegare cosa fa il codice, rendendolo più comprensibile e manutenibile nel tempo.\n",
        "-   Un commento su una singola riga inizia con il simbolo `#`. Tutto ciò che segue il `#` su quella riga è un commento.\n",
        "-   Un commento su più righe, o una **docstring** (una stringa di documentazione speciale per le funzioni), è racchiuso tra tre virgolette `\"\"\" ... \"\"\"` o tre apici `''' ... '''`."
      ]
    },
    {
      "cell_type": "code",
      "execution_count": null,
      "metadata": {
        "execution_count": null,
        "id": "pg7q8wsZkgMU",
        "outputs": []
      },
      "outputs": [],
      "source": [
        "# Questo è un commento su una singola riga che spiega l'assegnazione seguente\n",
        "gravity_g = 9.81 # m/s^2, standard gravity\n",
        "\n",
        "\"\"\"\n",
        "Questo è un commento\n",
        "che si estende\n",
        "su più righe.\n",
        "\"\"\"\n",
        "\n",
        "def calculate_area(radius):\n",
        "    \"\"\"Questa è una docstring. Spiega cosa fa la funzione.\"\"\"\n",
        "    return 3.14159 * radius**2\n",
        "\n",
        "print(\"La gravità standard è:\", gravity_g)\n",
        "print(\"Eseguendo la funzione calculate_area(10):\", calculate_area(10))"
      ]
    },
    {
      "cell_type": "markdown",
      "metadata": {
        "id": "d0KfVVUJj-TL"
      },
      "source": [
        "### **1.4 Formattare l'Output: Le *f-string***\n",
        "Abbiamo visto che la funzione `print()` può accettare più argomenti separati da virgole. Tuttavia, per un controllo più preciso su come vengono visualizzati i nostri risultati, Python offre un meccanismo potente e leggibile chiamato **f-string** (o \"stringa formattata\").\n",
        "\n",
        "Una f-string è una normale stringa di testo preceduta da una `f` (maiuscola o minuscola) prima delle virgolette di apertura. La sua magia sta nel fatto che possiamo inserire i nomi delle variabili direttamente all'interno della stringa, racchiudendoli tra parentesi graffe `{}`. Python sostituirà automaticamente le parentesi graffe con il valore attuale della variabile.\n",
        "\n",
        "Questo approccio è quasi sempre preferibile perché rende il codice più leggibile e conciso.\n",
        "\n",
        "Vediamo un confronto:\n"
      ]
    },
    {
      "cell_type": "code",
      "execution_count": null,
      "metadata": {
        "id": "DHwQLy0bj-TL"
      },
      "outputs": [],
      "source": [
        "# Dati di un campione\n",
        "id_campione = \"ETNA-01\"\n",
        "profondita = 150.5\n",
        "contenuto_sio2 = 48.2\n",
        "\n",
        "# Metodo classico con print() e più argomenti\n",
        "print(\"Report Campione:\", id_campione, \"prelevato a\", profondita, \"m. Contenuto SiO2:\", contenuto_sio2, \"%\")\n",
        "\n",
        "# Metodo con f-string: più pulito e leggibile\n",
        "print(f\"Report Campione: {id_campione} prelevato a {profondita} m. Contenuto SiO2: {contenuto_sio2}%\")\n",
        "\n",
        "# Le f-string permettono anche di formattare i numeri. Ad esempio, :.1f significa\n",
        "# \"mostra questo numero float con due cifre decimali\".\n",
        "print(f\"Profondità con una cifra decimale: {profondita:.2f} m\")"
      ]
    },
    {
      "cell_type": "markdown",
      "metadata": {
        "id": "5fv4lKHykJhY"
      },
      "source": [
        "## **2. Strutture Dati Fondamentali: Contenitori per i Dati**\n",
        "Finora abbiamo lavorato con dati singoli. La vera potenza della programmazione emerge quando gestiamo intere collezioni di dati. Le **liste** e i **dizionari** sono i contenitori più importanti in Python.\n",
        "\n",
        "### **2.1 Le Liste: Collezioni Ordinate e Modificabili**\n",
        "\n",
        "Come annoteremmo una serie di misure di profondità su un taccuino? Probabilmente come un elenco verticale. In Python, l'equivalente di questo elenco è la **lista**.\n",
        "\n",
        "Una lista è una sequenza **ordinata** e **modificabile** (*mutabile*) di elementi.\n",
        "- **Ordinata**: Gli elementi mantengono l'ordine in cui li abbiamo inseriti.\n",
        "- **Modificabile**: Possiamo cambiare, aggiungere o rimuovere elementi dopo la creazione della lista.\n",
        "\n",
        "#### **Creazione di Liste**\n",
        "Una lista si crea racchiudendo una sequenza di elementi separati da virgole tra parentesi quadre `[]`. Una lista può contenere tipi di dati diversi, anche se è buona pratica (e spesso necessario per i calcoli) che contengano dati omogenei."
      ]
    },
    {
      "cell_type": "code",
      "execution_count": null,
      "metadata": {
        "execution_count": null,
        "id": "tA4N70BhkDbC",
        "outputs": []
      },
      "outputs": [],
      "source": [
        "# Lista di temperature (float)\n",
        "temperatures = [15.5, 16.1, 15.8, 17.0]\n",
        "print(f\"Lista di temperature: {temperatures}\")\n",
        "\n",
        "# Lista di tipi di roccia (stringhe)\n",
        "rock_types = [\"basalt\", \"granite\", \"shale\", \"sandstone\"]\n",
        "print(f\"Lista di rocce: {rock_types}\")\n",
        "\n",
        "# Lista con tipi di dati misti\n",
        "mixed_data = [10, \"andesite\", 25.3, True]\n",
        "print(f\"Lista mista: {mixed_data}\")\n",
        "\n",
        "# Una lista può contenere altre liste (liste annidate)\n",
        "nested_list = [1, 2, [\"a\", \"b\"], 3]\n",
        "print(f\"Lista annidata: {nested_list}\")"
      ]
    },
    {
      "cell_type": "markdown",
      "metadata": {
        "id": "RhWO1wUCkAis"
      },
      "source": [
        "#### **Determinare la Lunghezza di una Lista**\n",
        "Per sapere quanti elementi ci sono in una lista, usiamo la funzione `len()`."
      ]
    },
    {
      "cell_type": "code",
      "execution_count": null,
      "metadata": {
        "execution_count": null,
        "id": "A8Kab24fj8rN",
        "outputs": []
      },
      "outputs": [],
      "source": [
        "num_rocks = len(rock_types)\n",
        "print(f\"La lista 'rock_types' contiene {num_rocks} elementi.\")\n",
        "\n",
        "length_nested = len(nested_list)\n",
        "# Nota: la lista interna [\"a\", \"b\"] viene contata come un singolo elemento!\n",
        "print(f\"La lista 'nested_list' contiene {length_nested} elementi.\")"
      ]
    },
    {
      "cell_type": "markdown",
      "metadata": {
        "id": "lWFp3ompj-TM"
      },
      "source": [
        "#### **Esercizio Pratico : Primi Passi con le Liste**\n",
        "\n",
        "Mettiamo subito alla prova i concetti appena visti. Nella cella di codice sottostante, prova a completare i seguenti compiti:\n",
        "\n",
        "1.  **Creare una lista vuota:** Crea una lista chiamata `lista_vuota` che non contenga alcun elemento.\n",
        "2.  **Verificare la sua lunghezza:** Usa la funzione `print()` e `len()` per mostrare a schermo la lunghezza della `lista_vuota` (dovrebbe essere 0)."
      ]
    },
    {
      "cell_type": "code",
      "execution_count": null,
      "metadata": {
        "id": "ShYDpf5Ej-TM"
      },
      "outputs": [],
      "source": [
        "# -- Esercizio 1: Creare una lista vuota --\n",
        "# Scrivi qui il tuo codice\n"
      ]
    },
    {
      "cell_type": "markdown",
      "metadata": {
        "id": "Ah4q_vMwkcX2"
      },
      "source": [
        "#### **Lunghezza delle Righe e Continuazione**\n",
        "Per garantire la leggibilità, la guida di stile PEP 8 raccomanda di limitare la lunghezza delle righe di codice a 79 caratteri. Quando un'istruzione è troppo lunga per stare comodamente su una riga, Python ci offre due modi per spezzarla:\n",
        "\n",
        "**1. Continuazione Implicita (Metodo Preferito)**\n",
        "È il metodo più pulito e meno propenso a errori. Python unisce automaticamente le righe di codice che si trovano all'interno di parentesi tonde `()`, quadre `[]` o graffe `{}`. Questo è particolarmente utile per definire lunghe liste, dizionari o per chiamare funzioni con molti argomenti."
      ]
    },
    {
      "cell_type": "code",
      "execution_count": null,
      "metadata": {
        "execution_count": null,
        "id": "rDD-W56JkYJR",
        "outputs": []
      },
      "outputs": [],
      "source": [
        "# 1. Definizione di una lista lunga\n",
        "my_long_list = [\n",
        "    1, 2, 3, 4, 5, 6, 7, 8, 9, 10, 11, 12, 13, 14, 15,\n",
        "    16, 17, 18, 19, 20, # I commenti possono essere aggiunti anche qui\n",
        "]\n",
        "print(\"Lista lunga:\", my_long_list)\n",
        "\n",
        "\n",
        "# 2. Lunga espressione aritmetica dentro parentesi\n",
        "total_value = (100 + 200 + 300 +\n",
        "               400 + 500 + 600)\n",
        "print(\"Valore totale:\", total_value)\n",
        "\n",
        "# 3. Definizione \"lunga\" di un dizionario\n",
        "my_dictionary = {\n",
        "    \"key1\": \"very_long_value_that_makes_the_line_exceed_limit\",\n",
        "    \"key2\": \"another_value\",\n",
        "}\n",
        "print(\"Dizionario:\", my_dictionary)"
      ]
    },
    {
      "cell_type": "markdown",
      "metadata": {
        "id": "zrFk_gp8kURo"
      },
      "source": [
        "**2. Continuazione Esplicita (Metodo Meno Preferito)**\n",
        "È possibile forzare la continuazione di una riga usando il carattere backslash `\\` alla fine di essa. Questo dice a Python che l'istruzione continua sulla riga successiva. Questo metodo è meno comune e più fragile: un qualsiasi carattere, anche uno spazio, dopo il backslash provocherebbe un errore."
      ]
    },
    {
      "cell_type": "code",
      "execution_count": null,
      "metadata": {
        "execution_count": null,
        "id": "ePZ_Dkq3kN3W",
        "outputs": []
      },
      "outputs": [],
      "source": [
        "# 1. Lunga istruzione di assegnazione con backslash\n",
        "x = 1 + 2 + 3 + \\\n",
        "    4 + 5 + 6 + \\\n",
        "    7 + 8 + 9\n",
        "print(\"Valore di x:\", x)\n",
        "\n",
        "# 2. Lunga condizione 'if' con backslash\n",
        "a_variable = 10\n",
        "another_variable = 20\n",
        "yet_another_variable = 30\n",
        "\n",
        "if a_variable > 5 and \\\n",
        "   another_variable < 30 and \\\n",
        "   yet_another_variable == 30:\n",
        "    print(\"Tutte le condizioni sono state soddisfatte!\")"
      ]
    },
    {
      "cell_type": "markdown",
      "metadata": {
        "id": "CN3kI0Jzj5_t"
      },
      "source": [
        "#### **Accesso agli Elementi: Indexing**\n",
        "Ogni elemento in una lista ha una posizione, chiamata **indice**.\n",
        "\n",
        "**ATTENZIONE: L'indicizzazione in Python parte sempre da 0!** Questo è il concetto più importante da ricordare quando si lavora con le liste. Il primo elemento ha indice 0, il secondo ha indice 1, e così via. Per accedere a un elemento, usiamo il nome della lista seguito dall'indice tra parentesi quadre."
      ]
    },
    {
      "cell_type": "code",
      "execution_count": null,
      "metadata": {
        "execution_count": null,
        "id": "l7FPt11Hj04N",
        "outputs": []
      },
      "outputs": [],
      "source": [
        "rock_samples = [\"granite\", \"basalt\", \"shale\", \"sandstone\", \"limestone\"]\n",
        "print(\"Original list:\", rock_samples)\n",
        "\n",
        "# Accesso al primo elemento (indice 0)\n",
        "first_sample = rock_samples[0]\n",
        "print(f\"Primo campione (indice 0): {first_sample}\")\n",
        "\n",
        "# Accesso al terzo elemento (indice 2)\n",
        "third_sample = rock_samples[2]\n",
        "print(f\"Terzo campione (indice 2): {third_sample}\")"
      ]
    },
    {
      "cell_type": "markdown",
      "metadata": {
        "id": "new_interactive_cell_1"
      },
      "source": [
        "#### **Esercizio Pratico : Primi Passi con le Liste**\n",
        "\n",
        "Nella cella qui sotto, scrivi il codice per accedere all'elemento `\"sandstone\"` dalla lista `rock_samples`."
      ]
    },
    {
      "cell_type": "code",
      "execution_count": null,
      "metadata": {
        "id": "new_interactive_cell_2"
      },
      "outputs": [],
      "source": [
        "# Scrivi qui il tuo codice per accedere all'elemento \"sandstone\"\n",
        "# e stamparlo a schermo"
      ]
    },
    {
      "cell_type": "markdown",
      "metadata": {
        "id": "7sRfHEILj-TN"
      },
      "source": [
        "#### **Trovare l'Indice di un Elemento: il Metodo `.index()`**\n",
        "Nell'esercizio precedente, abbiamo trovato l'indice di `\"sandstone\"` contando manualmente le posizioni. Questo va bene per liste piccole, ma diventa impraticabile con centinaia o migliaia di elementi.\n",
        "\n",
        "Per fortuna, le liste in Python hanno un metodo integrato per fare esattamente questo: `.index()`.\n",
        "La sintassi è `lista.index(valore_da_cercare)`. Questo metodo scorre la lista e restituisce l'indice della **prima occorrenza** del valore che stiamo cercando.\n",
        "\n",
        "**ATTENZIONE:** Se il valore che cerchiamo non è presente nella lista, Python genererà un errore (`ValueError`).\n"
      ]
    },
    {
      "cell_type": "code",
      "execution_count": null,
      "metadata": {
        "id": "AS_dNOsaj-TN"
      },
      "outputs": [],
      "source": [
        "rock_samples = [\"granite\", \"basalt\", \"shale\", \"sandstone\", \"limestone\", \"shale\"]\n",
        "\n",
        "# Troviamo l'indice di \"sandstone\"\n",
        "indice_sandstone = rock_samples.index(\"sandstone\")\n",
        "print(f\"L'elemento 'sandstone' si trova all'indice: {indice_sandstone}\")\n",
        "\n",
        "# Cosa succede se un elemento è presente più volte?\n",
        "# .index() restituisce solo l'indice della prima occorrenza.\n",
        "indice_shale = rock_samples.index(\"shale\")\n",
        "print(f\"La prima occorrenza di 'shale' si trova all'indice: {indice_shale}\")\n",
        "\n",
        "# Ora proviamo a cercare un elemento che non c'è.\n",
        "# Togli il commento dalla riga seguente per vedere il ValueError!\n",
        "# indice_inesistente = rock_samples.index(\"gabbro\")"
      ]
    },
    {
      "cell_type": "markdown",
      "metadata": {
        "id": "NSSc-4Kojxk_"
      },
      "source": [
        "#### **Indicizzazione Negativa**\n",
        "Python offre un modo molto comodo per accedere agli elementi partendo dalla fine della lista: l'indicizzazione negativa. L'indice `-1` si riferisce all'ultimo elemento, `-2` al penultimo, e così via. Questo è estremamente utile quando vogliamo l'ultimo elemento di una lista senza sapere in anticipo quanto sia lunga."
      ]
    },
    {
      "cell_type": "code",
      "execution_count": null,
      "metadata": {
        "execution_count": null,
        "id": "4YIobB_zjp-7",
        "outputs": []
      },
      "outputs": [],
      "source": [
        "elements = [\"Oxygen\", \"Silicon\", \"Aluminum\", \"Iron\", \"Calcium\"]\n",
        "print(\"Original list of elements:\", elements)\n",
        "\n",
        "# Accesso all'ultimo elemento\n",
        "last_element = elements[-1]\n",
        "print(f\"Ultimo elemento (indice -1): {last_element}\")\n",
        "\n",
        "# Accesso al penultimo elemento\n",
        "second_to_last = elements[-2]\n",
        "print(f\"Penultimo elemento (indice -2): {second_to_last}\")"
      ]
    },
    {
      "cell_type": "markdown",
      "metadata": {
        "id": "7eCZoAkPj-TN"
      },
      "source": [
        "#### **Esercizio Pratico: Primi Passi con le Liste**\n",
        "\n",
        "Mettiamo subito alla prova i concetti appena visti. Nella cella di codice sottostante, prova a completare i seguenti compiti:\n",
        "\n",
        "1.  **Creare una lista di minerali:** Crea una nuova lista chiamata `minerali_silicati` che contenga le seguenti stringhe: `\"Quarzo\"`, `\"Ortoclasio\"`, `\"Albite\"`, `\"Anortite\"`.\n",
        "2.  **Estrarre e salvare un valore:**\n",
        "    *   Crea una nuova variabile chiamata `primo_minerale` e assegnale il primo elemento della lista `minerali_silicati`.\n",
        "    *   Crea un'altra variabile chiamata `ultimo_minerale` e assegnale l'ultimo elemento della lista, questa volta utilizzando l'**indicizzazione negativa**.\n",
        "3.  **Stampare i risultati:** Usa la funzione `print()` per mostrare il valore delle variabili `primo_minerale` e `ultimo_minerale`.\n"
      ]
    },
    {
      "cell_type": "code",
      "execution_count": null,
      "metadata": {
        "id": "50W1jy3Jj-TN"
      },
      "outputs": [],
      "source": [
        "# -- Esercizio 1: Creare una lista di minerali --\n",
        "# Scrivi qui il tuo codice\n",
        "\n",
        "# -- Esercizio 2: Estrarre e salvare un valore --\n",
        "# Scrivi qui il tuo codice\n",
        "\n",
        "\n",
        "# -- Esercizio 3: Stampare i risultati --\n",
        "# Scrivi qui il tuo codice\n"
      ]
    },
    {
      "cell_type": "markdown",
      "metadata": {
        "id": "v4x0-MeFjmb4"
      },
      "source": [
        "#### **Distinguere tra Indexing e Slicing**\n",
        "È cruciale capire la differenza tra accedere a un singolo elemento (indexing) e estrarre una sotto-lista (slicing).\n",
        "- **Indexing** `lista[i]` restituisce l'elemento stesso, mantenendo il suo tipo di dato originale (es. un numero, una stringa).\n",
        "- **Slicing** `lista[i:j]` restituisce sempre una **nuova lista**, anche se contiene un solo elemento."
      ]
    },
    {
      "cell_type": "code",
      "execution_count": null,
      "metadata": {
        "execution_count": null,
        "id": "_tzCsPusji1H",
        "outputs": []
      },
      "outputs": [],
      "source": [
        "measurements = [10.1, 12.5, 11.3, 13.0]\n",
        "\n",
        "# Indexing: restituisce l'elemento, un float\n",
        "first_element = measurements[0]\n",
        "print(f\"Indexing con measurements[0]: {first_element}, tipo: {type(first_element)}\")\n",
        "\n",
        "# Slicing: restituisce una nuova lista\n",
        "first_slice = measurements[0:1]\n",
        "print(f\"Slicing con measurements[0:1]: {first_slice}, tipo: {type(first_slice)}\")"
      ]
    },
    {
      "cell_type": "markdown",
      "metadata": {
        "id": "maubxDJdjfVL"
      },
      "source": [
        "#### **Slicing: Estrarre Sotto-Liste**\n",
        "Lo slicing è una tecnica potente per estrarre una **nuova lista** contenente un sottoinsieme degli elementi. La sintassi è `lista[start:stop]`.\n",
        "**NOTA BENE:** Nello slicing, l'elemento all'indice `stop` è sempre **escluso** dal risultato. Pensate a 'fino a, ma non incluso'.\n",
        "- `start`: l'indice di partenza (incluso). Se omesso, parte dall'inizio.\n",
        "- `stop`: l'indice di fine (**escluso**). Se omesso, arriva fino alla fine."
      ]
    },
    {
      "cell_type": "code",
      "execution_count": null,
      "metadata": {
        "execution_count": null,
        "id": "Lc_uLbJ2jZ0r",
        "outputs": []
      },
      "outputs": [],
      "source": [
        "measurements = [10.1, 12.5, 11.3, 13.0, 12.8, 10.9, 11.5, 14.2]\n",
        "print(\"Original measurements:\", measurements)\n",
        "\n",
        "# Elementi dall'indice 1 fino a 4 (escluso)\n",
        "sub_list1 = measurements[1:4]\n",
        "print(f\"measurements[1:4]: {sub_list1}\")\n",
        "\n",
        "# Elementi dall'inizio fino all'indice 3 (escluso)\n",
        "sub_list2 = measurements[:3]\n",
        "print(f\"measurements[:3]: {sub_list2}\")\n",
        "\n",
        "# Elementi dall'indice 3 fino alla fine\n",
        "sub_list3 = measurements[3:]\n",
        "print(f\"measurements[3:]: {sub_list3}\")"
      ]
    },
    {
      "cell_type": "markdown",
      "metadata": {
        "id": "n1ySI0_4jV4V"
      },
      "source": [
        "#### **Slicing con Passo (Step)**\n",
        "La sintassi completa dello slicing è `lista[start:stop:step]`, dove `step` indica l'incremento tra gli indici. Può essere usato per selezionare elementi a intervalli regolari o, se negativo, per invertire una lista."
      ]
    },
    {
      "cell_type": "code",
      "execution_count": null,
      "metadata": {
        "execution_count": null,
        "id": "56bRPX8PjSlj",
        "outputs": []
      },
      "outputs": [],
      "source": [
        "numbers = [0, 1, 2, 3, 4, 5, 6, 7, 8, 9]\n",
        "print(\"Original numbers:\", numbers)\n",
        "\n",
        "# Estrai ogni secondo elemento\n",
        "every_other = numbers[::2]\n",
        "print(f\"numbers[::2]: {every_other}\")\n",
        "\n",
        "# Estrai elementi dall'indice 1 a 8 (escluso), a passi di 3\n",
        "stepped_slice = numbers[1:8:3]\n",
        "print(f\"numbers[1:8:3]: {stepped_slice}\")\n",
        "\n",
        "# Un'idioma comune per invertire una lista (step = -1)\n",
        "reversed_list = numbers[::-1]\n",
        "print(f\"numbers[::-1]: {reversed_list}\")"
      ]
    },
    {
      "cell_type": "markdown",
      "metadata": {
        "id": "5AWZTL7ZjNkM"
      },
      "source": [
        "#### **Modificare le Liste: Mutabilità**\n",
        "Le liste sono **mutabili**, il che significa che possiamo alterarle dopo averle create. Possiamo sostituire un elemento, aggiungerne di nuovi o rimuoverli usando vari metodi."
      ]
    },
    {
      "cell_type": "code",
      "execution_count": null,
      "metadata": {
        "execution_count": null,
        "id": "SXkS4y3ljJ_A",
        "outputs": []
      },
      "outputs": [],
      "source": [
        "rock_types = [\"basalt\", \"granite\", \"shale\"]\n",
        "print(f\"Initial rock_types: {rock_types}\")\n",
        "\n",
        "# Cambiare un elemento a un indice specifico\n",
        "rock_types[1] = \"rhyolite\" # Sostituisce \"granite\"\n",
        "print(f\"After changing index 1: {rock_types}\")\n",
        "\n",
        "# Aggiungere un elemento alla fine con il metodo .append()\n",
        "rock_types.append(\"marble\")\n",
        "print(f\"After appending 'marble': {rock_types}\")\n",
        "\n",
        "# Rimuovere un elemento per valore con il metodo .remove()\n",
        "rock_types.remove(\"shale\")\n",
        "print(f\"After removing 'shale': {rock_types}\")\n",
        "\n",
        "# Rimuovere un elemento per indice con 'del'\n",
        "del rock_types[0] # Rimuove \"basalt\"\n",
        "print(f\"After deleting element at index 0: {rock_types}\")"
      ]
    },
    {
      "cell_type": "markdown",
      "metadata": {
        "id": "8mERpY5Aj-TO"
      },
      "source": [
        "#### **Esercizio pratico: Simulazione di Erosione (1/2)**\n",
        "\n",
        "Proviamo con uno script a simuliare un semplice processo geologico: l'erosione di un profilo topografico nel tempo.\n",
        "\n",
        "**Il nostro modello (semplificato):**\n",
        "- Abbiamo una lista che rappresenta le quote di un profilo topografico.\n",
        "- Vogliamo simulare **due** passi temporali di erosione.\n",
        "- Ad ogni passo, la quota di ogni punto (esclusi gli estremi) viene ricalcolata come la media delle quote dei suoi due punti vicini del passo temporale *precedente*. Questo simula un \"appiattimento\" del rilievo.\n",
        "\n",
        "Per fare questo, abbiamo bisogno di conservare lo stato del profilo al tempo `t` (`profilo_old`) mentre calcoliamo il nuovo profilo al tempo `t+1` (`profilo_new`).\n",
        "\n",
        "**Esercizio mentale: cosa ci aspettiamo?**\n",
        "Partendo dal profilo `[0, 10, 20, 10, 0]`, provate a calcolare a mano le quote dopo **un** passo temporale.\n",
        "- `punto[1]` dovrebbe diventare `(0 + 20) / 2 = 10`\n",
        "- `punto[2]` dovrebbe diventare `(10 + 10) / 2 = 10`\n",
        "- `punto[3]` dovrebbe diventare `(20 + 0) / 2 = 10`\n",
        "Il profilo dopo un passo dovrebbe essere `[0, 10, 10, 10, 0]`.\n",
        "\n",
        "Ora, scriviamo uno script che implementa questa logica per due passi temporali. A prima vista, il codice seguente sembra corretto. Eseguitelo e confrontate il risultato con le vostre aspettative."
      ]
    },
    {
      "cell_type": "code",
      "execution_count": null,
      "metadata": {
        "id": "J4SrBe8Rj-TO"
      },
      "outputs": [],
      "source": [
        "# --- Simulazione di Erosione ---\n",
        "\n",
        "# Profilo iniziale: una semplice collina\n",
        "profilo_topografico = [0, 10, 20, 10, 0]\n",
        "print(f\"Profilo iniziale: {profilo_topografico}\\n\")\n",
        "\n",
        "numero_passi_temporali = 2\n",
        "\n",
        "print(\"--- Inizio simulazione ---\")\n",
        "for t in range(numero_passi_temporali):\n",
        "    # Conserviamo il profilo del passo precedente\n",
        "    profilo_old = profilo_topografico\n",
        "\n",
        "    # Iteriamo sui punti interni per calcolare il nuovo profilo\n",
        "    for i in range(1, len(profilo_topografico) - 1):\n",
        "        # Calcoliamo la nuova quota come media dei vicini dal profilo \"vecchio\"\n",
        "        nuova_quota = (profilo_old[i-1] + profilo_old[i+1]) / 2\n",
        "        profilo_topografico[i] = nuova_quota\n",
        "\n",
        "        # Ispezioniamo cosa succede DENTRO il ciclo\n",
        "        # print(f\"  Profilo 'vecchio': {profilo_old}\") # Questa riga è commentata per ora\n",
        "\n",
        "    print(f\"Profilo dopo il passo temporale {t+1}: {profilo_topografico}\")\n",
        "\n",
        "print(\"\\n--- Risultato Finale ---\")\n",
        "print(f\"Profilo finale: {profilo_topografico}\")"
      ]
    },
    {
      "cell_type": "markdown",
      "metadata": {
        "id": "R50aOW7hj-TP"
      },
      "source": [
        "**Qualcosa non torna, vero?**\n",
        "\n",
        "Il risultato finale è `[0, 5.0, 5.0, 2.5, 0]`, che è molto diverso da quello che ci aspettavamo. Anche solo dopo il primo passo, il profilo è `[0, 10.0, 10.0, 5.0, 0]`, che non corrisponde al nostro calcolo manuale `[0, 10, 10, 10, 0]`. Il processo di erosione sembra \"accelerato\" in modo anomalo.\n",
        "\n",
        "**Dov'è il problema?**\n",
        "Il problema si nasconde nella riga `profilo_old = profilo_topografico`. Questa non è una copia. Per vederlo chiaramente, tornate alla cella di codice precedente, **togliete il commento (`#`)** dalla riga `print(f\"  Profilo 'vecchio': {profilo_old}\")` e rieseguite la cella.\n",
        "\n",
        "Osservate come, all'interno del ciclo, il `profilo_old` viene modificato non appena aggiorniamo `profilo_topografico`. Stiamo \"inquinando\" i dati del passo precedente mentre li stiamo ancora usando per i calcoli!\n",
        "\n",
        "#### **La Soluzione Corretta: Creare una Copia Esplicita**\n",
        "Per risolvere il problema, dobbiamo creare una copia reale e indipendente del profilo prima di iniziare il ciclo di calcolo."
      ]
    },
    {
      "cell_type": "markdown",
      "metadata": {
        "id": "C-Qx0mWVjHND"
      },
      "source": [
        "#### **Riferimenti vs. Copie: Un Concetto Cruciale**\n",
        "Questo è un punto fondamentale e spesso fonte di errori. Quando assegniamo una lista (o un altro oggetto mutabile) a una nuova variabile, **non stiamo creando una copia**. Stiamo creando un altro **riferimento**, un'altra etichetta che punta alla **stessa identica lista in memoria**.\n",
        "\n",
        "Pensate a `lista_b = lista_a` non come a 'fare una fotocopia', ma come a 'dare un secondo soprannome alla stessa persona'. Se cambiate qualcosa parlando con 'Mario' (lista_a), anche 'il Dottore' (lista_b) ne subirà le conseguenze, perché sono la stessa entità."
      ]
    },
    {
      "cell_type": "code",
      "execution_count": null,
      "metadata": {
        "execution_count": null,
        "id": "D38NdkgrjDEI",
        "outputs": []
      },
      "outputs": [],
      "source": [
        "list_a = [10, 20, 30]\n",
        "list_b = list_a  # list_b è solo un altro nome per list_a, NON una copia\n",
        "print(\"list_a:\", list_a)\n",
        "print(\"list_b:\", list_b)\n",
        "\n",
        "# Modifichiamo list_b\n",
        "list_b[0] = 99\n",
        "print(\"\\nAfter modifying list_b[0]:\")\n",
        "\n",
        "# Controlliamo list_a... è cambiata anche lei!\n",
        "print(f\"list_a: {list_a}\")\n",
        "print(f\"list_b: {list_b}\")\n",
        "\n",
        "# L'operatore 'is' controlla se due variabili puntano allo stesso oggetto in memoria\n",
        "print(f\"Are list_a and list_b the same object? {list_a is list_b}\")"
      ]
    },
    {
      "cell_type": "markdown",
      "metadata": {
        "id": "6md4WOT8jAU8"
      },
      "source": [
        "#### **Creare Copie Indipendenti (Shallow Copy)**\n",
        "Per evitare il problema dei riferimenti e creare una vera copia indipendente di una lista, dobbiamo farlo esplicitamente. I modi più comuni sono usare lo slicing `[:]` o il metodo `.copy()`. Questo crea una *shallow copy* (copia superficiale): va bene per le liste semplici, ma se la lista contiene altre liste (oggetti mutabili), solo i riferimenti a queste liste interne vengono copiati, non le liste stesse."
      ]
    },
    {
      "cell_type": "code",
      "execution_count": null,
      "metadata": {
        "execution_count": null,
        "id": "5yRKiSoXi7Tx",
        "outputs": []
      },
      "outputs": [],
      "source": [
        "original_list = [1, 2, 3, [40, 50]]\n",
        "print(\"Original list:\", original_list)\n",
        "\n",
        "# Creiamo una shallow copy\n",
        "copied_list_slice = original_list[:]\n",
        "\n",
        "# Modifichiamo un elemento di primo livello nella copia\n",
        "copied_list_slice[0] = 100\n",
        "\n",
        "# L'originale non cambia a questo livello\n",
        "print(\"\\nAfter modifying copied_list_slice[0]:\")\n",
        "print(\"Original list:\", original_list)\n",
        "print(\"Copied list (slice):\", copied_list_slice)\n",
        "print(f\"original_list is copied_list_slice: {original_list is copied_list_slice}\")\n",
        "\n",
        "# Ora modifichiamo la lista annidata DENTRO la copia\n",
        "copied_list_slice[3][0] = 999\n",
        "\n",
        "# L'originale CAMBIA! Perché la lista interna è condivisa.\n",
        "print(\"\\nAfter modifying nested list in copied_list_slice:\")\n",
        "print(f\"Original list: {original_list}\")\n",
        "print(f\"Copied list (slice): {copied_list_slice}\")"
      ]
    },
    {
      "cell_type": "markdown",
      "metadata": {
        "id": "LnP4UYgAj-TP"
      },
      "source": [
        "#### **Esercizio pratico: Simulazione di Erosione (2/2)**\n",
        "\n",
        "Toniamo al codice per l'erosione. Per risolvere il problema dello script originale, dobbiamo creare una copia reale e indipendente del profilo prima di iniziare il ciclo di calcolo, usando il metodo `.copy()` o lo slicing `[:]`."
      ]
    },
    {
      "cell_type": "code",
      "execution_count": null,
      "metadata": {
        "id": "uH6TkjGqj-TP"
      },
      "outputs": [],
      "source": [
        "# --- Tentativo 2: Il Metodo CORRETTO ---\n",
        "\n",
        "# Riportiamo il profilo al suo stato iniziale\n",
        "profilo_topografico = [0, 10, 20, 10, 0]\n",
        "print(f\"Profilo iniziale: {profilo_topografico}\\n\")\n",
        "\n",
        "numero_passi_temporali = 2\n",
        "\n",
        "print(\"--- Inizio simulazione (metodo corretto) ---\")\n",
        "for t in range(numero_passi_temporali):\n",
        "    # SOLUZIONE: Creiamo una COPIA indipendente del profilo prima del calcolo\n",
        "    profilo_old = profilo_topografico.copy()\n",
        "\n",
        "    # Il ciclo interno è identico a prima\n",
        "    for i in range(1, len(profilo_topografico) - 1):\n",
        "        nuova_quota = (profilo_old[i-1] + profilo_old[i+1]) / 2\n",
        "        profilo_topografico[i] = nuova_quota\n",
        "\n",
        "    print(f\"Profilo dopo il passo temporale {t+1}: {profilo_topografico}\")\n",
        "\n",
        "print(\"\\n--- Risultato Finale (corretto) ---\")\n",
        "print(f\"Profilo finale: {profilo_topografico}\")"
      ]
    },
    {
      "cell_type": "markdown",
      "metadata": {
        "id": "wbdnmw4Bj-TP"
      },
      "source": [
        "Ora il risultato dopo il primo passo è `[0, 10.0, 10.0, 10.0, 0]`, esattamente come calcolato a mano. Il secondo passo appiattisce ulteriormente il profilo in modo corretto, portandolo a `[0, 5.0, 10.0, 5.0, 0]`.\n",
        "\n",
        "**Morale della favola:** ogni volta che avete bisogno di preservare lo stato di una lista da un passo precedente mentre la state modificando, **dovete sempre creare una copia esplicita**."
      ]
    }
  ],
  "metadata": {
    "colab": {
      "provenance": [],
      "include_colab_link": true
    },
    "kernelspec": {
      "display_name": "Python 3 (ipykernel)",
      "language": "python",
      "name": "python3"
    },
    "language_info": {
      "codemirror_mode": {
        "name": "ipython",
        "version": 3
      },
      "file_extension": ".py",
      "mimetype": "text/x-python",
      "name": "python",
      "nbconvert_exporter": "python",
      "pygments_lexer": "ipython3",
      "version": "3.13.2"
    }
  },
  "nbformat": 4,
  "nbformat_minor": 0
}